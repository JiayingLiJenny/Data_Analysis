{
 "cells": [
  {
   "cell_type": "markdown",
   "metadata": {
    "collapsed": true
   },
   "source": [
    "# 二手车数据分析和售价预测"
   ]
  },
  {
   "cell_type": "markdown",
   "metadata": {
    "collapsed": true
   },
   "source": [
    "数据获取主要通过requests和xpath进行爬取，数据来自汽车之家二手车数据。爬取的同时进行简单清洗，删除数据中的单位名称，最后使用pandas把重复数据删除后，再保存下来。\n",
    "\n",
    "数据清洗包括单列拆分多列，缺失值填充，分组，异常值处理，数据类型转换等。\n",
    "\n",
    "数据分析主要从以下10个方面进行分析：\n",
    "1. 销售量最多的城市是哪些？及其原因？\n",
    "2. 哪个城市的均价最高？均价高的城市有什么特点？\n",
    "3. 大部分二手车的行驶里程集中在哪个区间？\n",
    "4. 行驶里程与价格的关系？\n",
    "5. 哪种排放标准的车出售量最多？\n",
    "6. 未上牌的都是什么样的车，售价如何？\n",
    "7. 各车龄占比多少？\n",
    "8. 车龄和均价的关系如何？\n",
    "9. 人们更喜欢手动还是自动挡的车？\n",
    "10. 不同品牌的售价差异？\n",
    "这些信息可以帮助客户简单了解二手车市场的情况。\n",
    "\n",
    "预测售价采用了回归树模型，使用网格搜索交叉验证的方法进行最优参数的选择，使用R^2进行模型评估。\n",
    "相比普通线性回归来说，树回归收敛速度更快，准确率也更高，对于复杂的数据来说，树回归通常有更好的处理效果。\n",
    "这可以帮助买家或卖家对将要购买或出售的车量进行价格评估分析，帮助他们做出更好的决策。"
   ]
  },
  {
   "cell_type": "markdown",
   "metadata": {},
   "source": [
    "## 数据获取"
   ]
  },
  {
   "cell_type": "code",
   "execution_count": 39,
   "metadata": {
    "collapsed": true
   },
   "outputs": [],
   "source": [
    "from lxml import etree\n",
    "import requests\n",
    "import time\n",
    "import pandas as pd"
   ]
  },
  {
   "cell_type": "code",
   "execution_count": 40,
   "metadata": {
    "collapsed": true
   },
   "outputs": [],
   "source": [
    "def get_info(header, url01, url02, url03, brand, page):\n",
    "    info_list = []\n",
    "    for i in range(1,page):\n",
    "        url = url01 + str(brand) + url02 + str(i) + url03\n",
    "        html = requests.get(url, headers=header)\n",
    "        time.sleep(1)\n",
    "        selector = etree.HTML(html.text)    \n",
    "        \n",
    "        cars = selector.xpath('//*[@id=\"viewlist_div\"]/div')  # type(cars) --> list\n",
    "        prices = selector.xpath('//*[@class = \"price-box\"]/span[1]/text()') \n",
    "        j = 0\n",
    "        for car in cars:\n",
    "            title = car.xpath('div[2]/a/text()')[0]\n",
    "            distance = car.xpath('div[3]/ul/li[1]/span/text()')[0].strip('万公里')\n",
    "            license_time = car.xpath('div[3]//ul/li[2]/span/text()')[0]\n",
    "            gears_displacement = car.xpath('div[3]/ul/li[3]/span/text()')[0]\n",
    "            city = car.xpath('div[3]/ul/li[4]/span/text()')[0]\n",
    "            emission_standard = car.xpath('div[3]/ul/li[5]/span/text()')[0]\n",
    "            transfer = car.xpath('div[3]/ul/li[6]/span/text()')[0].strip('次')\n",
    "            price = prices[j]\n",
    "            j+=1\n",
    "            info = {'Brand': brand, 'Title': title, 'Distance(ten thousand km)': distance, 'License_time': license_time, 'Gears_Displacement': gears_displacement, 'City': city, \n",
    "                    'Emission_standard': emission_standard, 'Transfer': transfer, 'Price( ten thousand yuan GDP)': price}\n",
    "            info_list.append(info)\n",
    "    return(info_list)"
   ]
  },
  {
   "cell_type": "code",
   "execution_count": null,
   "metadata": {
    "collapsed": true
   },
   "outputs": [],
   "source": [
    "header = {\n",
    "    'User-Agent': 'Mozilla/5.0 (Linux; Android 6.0; Nexus 5 Build/MRA58N) AppleWebKit/537.36 (KHTML, like Gecko) Chrome/69.0.3497.23 Mobile Safari/537.36'\n",
    "}\n",
    "\n",
    "url01 = 'https://www.che168.com/china/'\n",
    "url02 = '/a0_0msdgscncgpi1ltocsp'\n",
    "url03 = 'exx0/'\n",
    "\n",
    "brands = ['dazhong', 'fengtian', 'baoma', 'aodi', 'benchi', 'bentian', 'richan', 'bieke', 'fute', 'baoshijie', 'xiandai', 'mazida', 'luhu', 'leikesasi', 'xuefolan']\n",
    "\n",
    "page = 301\n",
    "try:\n",
    "    for brand in brands:\n",
    "        info_list = get_info(header, url01, url02, url03, brand, page)\n",
    "    df = pd.DataFrame(info_list)\n",
    "    df.drop_duplicates(inplace=True)\n",
    "    df.to_csv('cars.csv', encoding='gb2312')\n",
    "except Exception as e:\n",
    "    print('Exception: ',e)"
   ]
  },
  {
   "cell_type": "markdown",
   "metadata": {},
   "source": [
    "## 数据加载"
   ]
  },
  {
   "cell_type": "code",
   "execution_count": 12,
   "metadata": {},
   "outputs": [
    {
     "data": {
      "text/html": [
       "<div>\n",
       "<style>\n",
       "    .dataframe thead tr:only-child th {\n",
       "        text-align: right;\n",
       "    }\n",
       "\n",
       "    .dataframe thead th {\n",
       "        text-align: left;\n",
       "    }\n",
       "\n",
       "    .dataframe tbody tr th {\n",
       "        vertical-align: top;\n",
       "    }\n",
       "</style>\n",
       "<table border=\"1\" class=\"dataframe\">\n",
       "  <thead>\n",
       "    <tr style=\"text-align: right;\">\n",
       "      <th></th>\n",
       "      <th>Brand</th>\n",
       "      <th>City</th>\n",
       "      <th>Distance(ten thousand km)</th>\n",
       "      <th>Emission_standard</th>\n",
       "      <th>Gears_Displacement</th>\n",
       "      <th>License_time</th>\n",
       "      <th>Price( ten thousand yuan GDP)</th>\n",
       "      <th>Title</th>\n",
       "      <th>Transfer</th>\n",
       "    </tr>\n",
       "  </thead>\n",
       "  <tbody>\n",
       "    <tr>\n",
       "      <th>0</th>\n",
       "      <td>奥迪</td>\n",
       "      <td>上海</td>\n",
       "      <td>1.22</td>\n",
       "      <td>国V</td>\n",
       "      <td>自动／3L</td>\n",
       "      <td>Aug-18</td>\n",
       "      <td>78.00</td>\n",
       "      <td>奥迪Q7 2016款 45 TFSI S line运动型</td>\n",
       "      <td>0</td>\n",
       "    </tr>\n",
       "    <tr>\n",
       "      <th>1</th>\n",
       "      <td>奥迪</td>\n",
       "      <td>深圳</td>\n",
       "      <td>7.00</td>\n",
       "      <td>国IV</td>\n",
       "      <td>自动／2L</td>\n",
       "      <td>May-11</td>\n",
       "      <td>13.50</td>\n",
       "      <td>奥迪A4L 2011款 2.0 TFSI 标准型</td>\n",
       "      <td>0</td>\n",
       "    </tr>\n",
       "    <tr>\n",
       "      <th>2</th>\n",
       "      <td>奥迪</td>\n",
       "      <td>郑州</td>\n",
       "      <td>7.80</td>\n",
       "      <td>欧IV</td>\n",
       "      <td>自动／2L</td>\n",
       "      <td>Nov-11</td>\n",
       "      <td>14.80</td>\n",
       "      <td>奥迪A6L 2011款 2.0 TFSI 自动标准型</td>\n",
       "      <td>1</td>\n",
       "    </tr>\n",
       "    <tr>\n",
       "      <th>3</th>\n",
       "      <td>奥迪</td>\n",
       "      <td>上海</td>\n",
       "      <td>6.22</td>\n",
       "      <td>欧IV</td>\n",
       "      <td>自动／3.2L</td>\n",
       "      <td>Mar-11</td>\n",
       "      <td>19.98</td>\n",
       "      <td>奥迪A5 2010款 3.2 coupe quattro</td>\n",
       "      <td>1</td>\n",
       "    </tr>\n",
       "    <tr>\n",
       "      <th>4</th>\n",
       "      <td>奥迪</td>\n",
       "      <td>沈阳</td>\n",
       "      <td>5.30</td>\n",
       "      <td>国IV(国V)</td>\n",
       "      <td>自动／3L</td>\n",
       "      <td>Jan-12</td>\n",
       "      <td>42.80</td>\n",
       "      <td>奥迪A8 2012款 A8L 50 TFSI quattro尊贵型</td>\n",
       "      <td>1</td>\n",
       "    </tr>\n",
       "  </tbody>\n",
       "</table>\n",
       "</div>"
      ],
      "text/plain": [
       "  Brand City  Distance(ten thousand km) Emission_standard Gears_Displacement  \\\n",
       "0    奥迪   上海                       1.22                国V              自动／3L   \n",
       "1    奥迪   深圳                       7.00               国IV              自动／2L   \n",
       "2    奥迪   郑州                       7.80               欧IV              自动／2L   \n",
       "3    奥迪   上海                       6.22               欧IV            自动／3.2L   \n",
       "4    奥迪   沈阳                       5.30           国IV(国V)              自动／3L   \n",
       "\n",
       "  License_time  Price( ten thousand yuan GDP)  \\\n",
       "0       Aug-18                          78.00   \n",
       "1       May-11                          13.50   \n",
       "2       Nov-11                          14.80   \n",
       "3       Mar-11                          19.98   \n",
       "4       Jan-12                          42.80   \n",
       "\n",
       "                               Title Transfer  \n",
       "0       奥迪Q7 2016款 45 TFSI S line运动型        0  \n",
       "1           奥迪A4L 2011款 2.0 TFSI 标准型        0  \n",
       "2         奥迪A6L 2011款 2.0 TFSI 自动标准型        1  \n",
       "3       奥迪A5 2010款 3.2 coupe quattro        1  \n",
       "4  奥迪A8 2012款 A8L 50 TFSI quattro尊贵型        1  "
      ]
     },
     "execution_count": 12,
     "metadata": {},
     "output_type": "execute_result"
    }
   ],
   "source": [
    "import pandas as pd\n",
    "import numpy as np\n",
    "# 从csv中读取数据\n",
    "data = pd.read_csv('cars.csv', encoding='gb2312', index_col=0) # index_col=0防止出现unnamed:0\n",
    "data.head()"
   ]
  },
  {
   "cell_type": "code",
   "execution_count": 5,
   "metadata": {},
   "outputs": [
    {
     "name": "stdout",
     "output_type": "stream",
     "text": [
      "热销品牌在售二手车数量：81282\n"
     ]
    }
   ],
   "source": [
    "print('热销品牌在售二手车数量：{}'.format(len(data)))"
   ]
  },
  {
   "cell_type": "markdown",
   "metadata": {},
   "source": [
    "## 数据清洗"
   ]
  },
  {
   "cell_type": "code",
   "execution_count": 2,
   "metadata": {},
   "outputs": [
    {
     "name": "stdout",
     "output_type": "stream",
     "text": [
      "<class 'pandas.core.frame.DataFrame'>\n",
      "Int64Index: 81282 entries, 0 to 81281\n",
      "Data columns (total 9 columns):\n",
      "Brand                            81282 non-null object\n",
      "City                             81282 non-null object\n",
      "Distance(ten thousand km)        81282 non-null float64\n",
      "Emission_standard                81282 non-null object\n",
      "Gears_Displacement               81282 non-null object\n",
      "License_time                     81282 non-null object\n",
      "Price( ten thousand yuan GDP)    81282 non-null float64\n",
      "Title                            81282 non-null object\n",
      "Transfer                         81282 non-null object\n",
      "dtypes: float64(2), object(7)\n",
      "memory usage: 6.2+ MB\n"
     ]
    }
   ],
   "source": [
    "data.info()"
   ]
  },
  {
   "cell_type": "code",
   "execution_count": 2,
   "metadata": {},
   "outputs": [
    {
     "data": {
      "text/plain": [
       "Brand                            0\n",
       "City                             0\n",
       "Distance(ten thousand km)        0\n",
       "Emission_standard                0\n",
       "Gears_Displacement               0\n",
       "License_time                     0\n",
       "Price( ten thousand yuan GDP)    0\n",
       "Title                            0\n",
       "Transfer                         0\n",
       "dtype: int64"
      ]
     },
     "execution_count": 2,
     "metadata": {},
     "output_type": "execute_result"
    }
   ],
   "source": [
    "data.isnull().sum()"
   ]
  },
  {
   "cell_type": "code",
   "execution_count": 13,
   "metadata": {
    "collapsed": true
   },
   "outputs": [],
   "source": [
    "# 分离档位/排量\n",
    "Gears_Displacement = data['Gears_Displacement'].str.split('／',expand=True)\n",
    "Gears_Displacement.columns = ['Gears', 'Displacement']\n",
    "data = data.join(Gears_Displacement)"
   ]
  },
  {
   "cell_type": "code",
   "execution_count": 14,
   "metadata": {},
   "outputs": [
    {
     "data": {
      "text/html": [
       "<div>\n",
       "<style>\n",
       "    .dataframe thead tr:only-child th {\n",
       "        text-align: right;\n",
       "    }\n",
       "\n",
       "    .dataframe thead th {\n",
       "        text-align: left;\n",
       "    }\n",
       "\n",
       "    .dataframe tbody tr th {\n",
       "        vertical-align: top;\n",
       "    }\n",
       "</style>\n",
       "<table border=\"1\" class=\"dataframe\">\n",
       "  <thead>\n",
       "    <tr style=\"text-align: right;\">\n",
       "      <th></th>\n",
       "      <th>Brand</th>\n",
       "      <th>City</th>\n",
       "      <th>Distance(ten thousand km)</th>\n",
       "      <th>Emission_standard</th>\n",
       "      <th>Gears_Displacement</th>\n",
       "      <th>License_time</th>\n",
       "      <th>Price( ten thousand yuan GDP)</th>\n",
       "      <th>Title</th>\n",
       "      <th>Transfer</th>\n",
       "      <th>Gears</th>\n",
       "      <th>Displacement</th>\n",
       "    </tr>\n",
       "  </thead>\n",
       "  <tbody>\n",
       "    <tr>\n",
       "      <th>0</th>\n",
       "      <td>奥迪</td>\n",
       "      <td>上海</td>\n",
       "      <td>1.22</td>\n",
       "      <td>国V</td>\n",
       "      <td>自动／3L</td>\n",
       "      <td>Aug-18</td>\n",
       "      <td>78.00</td>\n",
       "      <td>奥迪Q7 2016款 45 TFSI S line运动型</td>\n",
       "      <td>0</td>\n",
       "      <td>自动</td>\n",
       "      <td>3</td>\n",
       "    </tr>\n",
       "    <tr>\n",
       "      <th>1</th>\n",
       "      <td>奥迪</td>\n",
       "      <td>深圳</td>\n",
       "      <td>7.00</td>\n",
       "      <td>国IV</td>\n",
       "      <td>自动／2L</td>\n",
       "      <td>May-11</td>\n",
       "      <td>13.50</td>\n",
       "      <td>奥迪A4L 2011款 2.0 TFSI 标准型</td>\n",
       "      <td>0</td>\n",
       "      <td>自动</td>\n",
       "      <td>2</td>\n",
       "    </tr>\n",
       "    <tr>\n",
       "      <th>2</th>\n",
       "      <td>奥迪</td>\n",
       "      <td>郑州</td>\n",
       "      <td>7.80</td>\n",
       "      <td>欧IV</td>\n",
       "      <td>自动／2L</td>\n",
       "      <td>Nov-11</td>\n",
       "      <td>14.80</td>\n",
       "      <td>奥迪A6L 2011款 2.0 TFSI 自动标准型</td>\n",
       "      <td>1</td>\n",
       "      <td>自动</td>\n",
       "      <td>2</td>\n",
       "    </tr>\n",
       "    <tr>\n",
       "      <th>3</th>\n",
       "      <td>奥迪</td>\n",
       "      <td>上海</td>\n",
       "      <td>6.22</td>\n",
       "      <td>欧IV</td>\n",
       "      <td>自动／3.2L</td>\n",
       "      <td>Mar-11</td>\n",
       "      <td>19.98</td>\n",
       "      <td>奥迪A5 2010款 3.2 coupe quattro</td>\n",
       "      <td>1</td>\n",
       "      <td>自动</td>\n",
       "      <td>3.2</td>\n",
       "    </tr>\n",
       "    <tr>\n",
       "      <th>4</th>\n",
       "      <td>奥迪</td>\n",
       "      <td>沈阳</td>\n",
       "      <td>5.30</td>\n",
       "      <td>国IV(国V)</td>\n",
       "      <td>自动／3L</td>\n",
       "      <td>Jan-12</td>\n",
       "      <td>42.80</td>\n",
       "      <td>奥迪A8 2012款 A8L 50 TFSI quattro尊贵型</td>\n",
       "      <td>1</td>\n",
       "      <td>自动</td>\n",
       "      <td>3</td>\n",
       "    </tr>\n",
       "  </tbody>\n",
       "</table>\n",
       "</div>"
      ],
      "text/plain": [
       "  Brand City  Distance(ten thousand km) Emission_standard Gears_Displacement  \\\n",
       "0    奥迪   上海                       1.22                国V              自动／3L   \n",
       "1    奥迪   深圳                       7.00               国IV              自动／2L   \n",
       "2    奥迪   郑州                       7.80               欧IV              自动／2L   \n",
       "3    奥迪   上海                       6.22               欧IV            自动／3.2L   \n",
       "4    奥迪   沈阳                       5.30           国IV(国V)              自动／3L   \n",
       "\n",
       "  License_time  Price( ten thousand yuan GDP)  \\\n",
       "0       Aug-18                          78.00   \n",
       "1       May-11                          13.50   \n",
       "2       Nov-11                          14.80   \n",
       "3       Mar-11                          19.98   \n",
       "4       Jan-12                          42.80   \n",
       "\n",
       "                               Title Transfer Gears Displacement  \n",
       "0       奥迪Q7 2016款 45 TFSI S line运动型        0    自动            3  \n",
       "1           奥迪A4L 2011款 2.0 TFSI 标准型        0    自动            2  \n",
       "2         奥迪A6L 2011款 2.0 TFSI 自动标准型        1    自动            2  \n",
       "3       奥迪A5 2010款 3.2 coupe quattro        1    自动          3.2  \n",
       "4  奥迪A8 2012款 A8L 50 TFSI quattro尊贵型        1    自动            3  "
      ]
     },
     "execution_count": 14,
     "metadata": {},
     "output_type": "execute_result"
    }
   ],
   "source": [
    "data['Displacement'] = data['Displacement'].str.strip('L')\n",
    "data.head()"
   ]
  },
  {
   "cell_type": "code",
   "execution_count": 15,
   "metadata": {
    "collapsed": true
   },
   "outputs": [],
   "source": [
    "# 分离年，月\n",
    "License_time = data['License_time'].str.split('-',expand=True)\n",
    "License_time.columns = ['month', 'year']\n",
    "data = data.join(License_time)"
   ]
  },
  {
   "cell_type": "code",
   "execution_count": 16,
   "metadata": {},
   "outputs": [
    {
     "data": {
      "text/plain": [
       "array(['18', '11', '12', '16', '13', '14', '15', '17', None, '10', '08',\n",
       "       '07', '09', '04', '05', '06', '03', '02', '91', '94', '00', '98',\n",
       "       '96', '01', '20', '99', '95', '97'], dtype=object)"
      ]
     },
     "execution_count": 16,
     "metadata": {},
     "output_type": "execute_result"
    }
   ],
   "source": [
    "data['year'].unique()"
   ]
  },
  {
   "cell_type": "code",
   "execution_count": 17,
   "metadata": {},
   "outputs": [
    {
     "data": {
      "text/plain": [
       "array(['Aug', 'May', 'Nov', 'Mar', 'Jan', 'Jun', 'Oct', 'Feb', 'Sep',\n",
       "       'Apr', 'Dec', '未上牌', 'Jul'], dtype=object)"
      ]
     },
     "execution_count": 17,
     "metadata": {},
     "output_type": "execute_result"
    }
   ],
   "source": [
    "data['month'].unique()"
   ]
  },
  {
   "cell_type": "code",
   "execution_count": 18,
   "metadata": {},
   "outputs": [
    {
     "data": {
      "text/plain": [
       "array([18, 11, 12, 16, 13, 14, 15, 17, 10,  8,  7,  9,  4,  5,  6,  3,  2,\n",
       "       91, 94,  0, 98, 96,  1, 20, 99, 95, 97])"
      ]
     },
     "execution_count": 18,
     "metadata": {},
     "output_type": "execute_result"
    }
   ],
   "source": [
    "# year中的空缺值指的是未上牌的车辆，这些车辆的使用时间通常不超过1年，因此为了给下一步进行使用年限的分类，以2018年作为时间填充\n",
    "data['year'].fillna('18', inplace=True)\n",
    "data['year'] = data['year'].astype(int)\n",
    "data['year'].unique()"
   ]
  },
  {
   "cell_type": "code",
   "execution_count": 19,
   "metadata": {},
   "outputs": [
    {
     "data": {
      "text/html": [
       "<div>\n",
       "<style>\n",
       "    .dataframe thead tr:only-child th {\n",
       "        text-align: right;\n",
       "    }\n",
       "\n",
       "    .dataframe thead th {\n",
       "        text-align: left;\n",
       "    }\n",
       "\n",
       "    .dataframe tbody tr th {\n",
       "        vertical-align: top;\n",
       "    }\n",
       "</style>\n",
       "<table border=\"1\" class=\"dataframe\">\n",
       "  <thead>\n",
       "    <tr style=\"text-align: right;\">\n",
       "      <th></th>\n",
       "      <th>Brand</th>\n",
       "      <th>City</th>\n",
       "      <th>Distance(ten thousand km)</th>\n",
       "      <th>Emission_standard</th>\n",
       "      <th>Gears_Displacement</th>\n",
       "      <th>License_time</th>\n",
       "      <th>Price( ten thousand yuan GDP)</th>\n",
       "      <th>Title</th>\n",
       "      <th>Transfer</th>\n",
       "      <th>Gears</th>\n",
       "      <th>Displacement</th>\n",
       "      <th>month</th>\n",
       "      <th>year</th>\n",
       "      <th>use_age</th>\n",
       "    </tr>\n",
       "  </thead>\n",
       "  <tbody>\n",
       "    <tr>\n",
       "      <th>0</th>\n",
       "      <td>奥迪</td>\n",
       "      <td>上海</td>\n",
       "      <td>1.22</td>\n",
       "      <td>国V</td>\n",
       "      <td>自动／3L</td>\n",
       "      <td>Aug-18</td>\n",
       "      <td>78.00</td>\n",
       "      <td>奥迪Q7 2016款 45 TFSI S line运动型</td>\n",
       "      <td>0</td>\n",
       "      <td>自动</td>\n",
       "      <td>3</td>\n",
       "      <td>Aug</td>\n",
       "      <td>18</td>\n",
       "      <td>0~5</td>\n",
       "    </tr>\n",
       "    <tr>\n",
       "      <th>1</th>\n",
       "      <td>奥迪</td>\n",
       "      <td>深圳</td>\n",
       "      <td>7.00</td>\n",
       "      <td>国IV</td>\n",
       "      <td>自动／2L</td>\n",
       "      <td>May-11</td>\n",
       "      <td>13.50</td>\n",
       "      <td>奥迪A4L 2011款 2.0 TFSI 标准型</td>\n",
       "      <td>0</td>\n",
       "      <td>自动</td>\n",
       "      <td>2</td>\n",
       "      <td>May</td>\n",
       "      <td>11</td>\n",
       "      <td>6~10</td>\n",
       "    </tr>\n",
       "    <tr>\n",
       "      <th>2</th>\n",
       "      <td>奥迪</td>\n",
       "      <td>郑州</td>\n",
       "      <td>7.80</td>\n",
       "      <td>欧IV</td>\n",
       "      <td>自动／2L</td>\n",
       "      <td>Nov-11</td>\n",
       "      <td>14.80</td>\n",
       "      <td>奥迪A6L 2011款 2.0 TFSI 自动标准型</td>\n",
       "      <td>1</td>\n",
       "      <td>自动</td>\n",
       "      <td>2</td>\n",
       "      <td>Nov</td>\n",
       "      <td>11</td>\n",
       "      <td>6~10</td>\n",
       "    </tr>\n",
       "    <tr>\n",
       "      <th>3</th>\n",
       "      <td>奥迪</td>\n",
       "      <td>上海</td>\n",
       "      <td>6.22</td>\n",
       "      <td>欧IV</td>\n",
       "      <td>自动／3.2L</td>\n",
       "      <td>Mar-11</td>\n",
       "      <td>19.98</td>\n",
       "      <td>奥迪A5 2010款 3.2 coupe quattro</td>\n",
       "      <td>1</td>\n",
       "      <td>自动</td>\n",
       "      <td>3.2</td>\n",
       "      <td>Mar</td>\n",
       "      <td>11</td>\n",
       "      <td>6~10</td>\n",
       "    </tr>\n",
       "    <tr>\n",
       "      <th>4</th>\n",
       "      <td>奥迪</td>\n",
       "      <td>沈阳</td>\n",
       "      <td>5.30</td>\n",
       "      <td>国IV(国V)</td>\n",
       "      <td>自动／3L</td>\n",
       "      <td>Jan-12</td>\n",
       "      <td>42.80</td>\n",
       "      <td>奥迪A8 2012款 A8L 50 TFSI quattro尊贵型</td>\n",
       "      <td>1</td>\n",
       "      <td>自动</td>\n",
       "      <td>3</td>\n",
       "      <td>Jan</td>\n",
       "      <td>12</td>\n",
       "      <td>6~10</td>\n",
       "    </tr>\n",
       "  </tbody>\n",
       "</table>\n",
       "</div>"
      ],
      "text/plain": [
       "  Brand City  Distance(ten thousand km) Emission_standard Gears_Displacement  \\\n",
       "0    奥迪   上海                       1.22                国V              自动／3L   \n",
       "1    奥迪   深圳                       7.00               国IV              自动／2L   \n",
       "2    奥迪   郑州                       7.80               欧IV              自动／2L   \n",
       "3    奥迪   上海                       6.22               欧IV            自动／3.2L   \n",
       "4    奥迪   沈阳                       5.30           国IV(国V)              自动／3L   \n",
       "\n",
       "  License_time  Price( ten thousand yuan GDP)  \\\n",
       "0       Aug-18                          78.00   \n",
       "1       May-11                          13.50   \n",
       "2       Nov-11                          14.80   \n",
       "3       Mar-11                          19.98   \n",
       "4       Jan-12                          42.80   \n",
       "\n",
       "                               Title Transfer Gears Displacement month  year  \\\n",
       "0       奥迪Q7 2016款 45 TFSI S line运动型        0    自动            3   Aug    18   \n",
       "1           奥迪A4L 2011款 2.0 TFSI 标准型        0    自动            2   May    11   \n",
       "2         奥迪A6L 2011款 2.0 TFSI 自动标准型        1    自动            2   Nov    11   \n",
       "3       奥迪A5 2010款 3.2 coupe quattro        1    自动          3.2   Mar    11   \n",
       "4  奥迪A8 2012款 A8L 50 TFSI quattro尊贵型        1    自动            3   Jan    12   \n",
       "\n",
       "  use_age  \n",
       "0     0~5  \n",
       "1    6~10  \n",
       "2    6~10  \n",
       "3    6~10  \n",
       "4    6~10  "
      ]
     },
     "execution_count": 19,
     "metadata": {},
     "output_type": "execute_result"
    }
   ],
   "source": [
    "# 这里以上牌时间距离2018年的时间作为使用年限\n",
    "def use_age(year):\n",
    "    if year in range(14,19):\n",
    "            use_age = '0~5'\n",
    "    elif year in range(10,14):\n",
    "            use_age = '6~10'\n",
    "    else:\n",
    "            use_age = 'over 10'\n",
    "    return use_age\n",
    "\n",
    "data['use_age'] = data['year'].map(use_age)\n",
    "\n",
    "data.head()"
   ]
  },
  {
   "cell_type": "code",
   "execution_count": null,
   "metadata": {
    "collapsed": true
   },
   "outputs": [],
   "source": []
  },
  {
   "cell_type": "code",
   "execution_count": 20,
   "metadata": {},
   "outputs": [
    {
     "data": {
      "text/html": [
       "<div>\n",
       "<style>\n",
       "    .dataframe thead tr:only-child th {\n",
       "        text-align: right;\n",
       "    }\n",
       "\n",
       "    .dataframe thead th {\n",
       "        text-align: left;\n",
       "    }\n",
       "\n",
       "    .dataframe tbody tr th {\n",
       "        vertical-align: top;\n",
       "    }\n",
       "</style>\n",
       "<table border=\"1\" class=\"dataframe\">\n",
       "  <thead>\n",
       "    <tr style=\"text-align: right;\">\n",
       "      <th></th>\n",
       "      <th>Brand</th>\n",
       "      <th>City</th>\n",
       "      <th>Distance(ten thousand km)</th>\n",
       "      <th>Emission_standard</th>\n",
       "      <th>Gears_Displacement</th>\n",
       "      <th>License_time</th>\n",
       "      <th>Price( ten thousand yuan GDP)</th>\n",
       "      <th>Title</th>\n",
       "      <th>Transfer</th>\n",
       "      <th>Gears</th>\n",
       "      <th>Displacement</th>\n",
       "      <th>month</th>\n",
       "      <th>year</th>\n",
       "      <th>use_age</th>\n",
       "      <th>Distance_levels</th>\n",
       "    </tr>\n",
       "  </thead>\n",
       "  <tbody>\n",
       "    <tr>\n",
       "      <th>0</th>\n",
       "      <td>奥迪</td>\n",
       "      <td>上海</td>\n",
       "      <td>1.22</td>\n",
       "      <td>国V</td>\n",
       "      <td>自动／3L</td>\n",
       "      <td>Aug-18</td>\n",
       "      <td>78.00</td>\n",
       "      <td>奥迪Q7 2016款 45 TFSI S line运动型</td>\n",
       "      <td>0</td>\n",
       "      <td>自动</td>\n",
       "      <td>3</td>\n",
       "      <td>Aug</td>\n",
       "      <td>18</td>\n",
       "      <td>0~5</td>\n",
       "      <td>near</td>\n",
       "    </tr>\n",
       "    <tr>\n",
       "      <th>1</th>\n",
       "      <td>奥迪</td>\n",
       "      <td>深圳</td>\n",
       "      <td>7.00</td>\n",
       "      <td>国IV</td>\n",
       "      <td>自动／2L</td>\n",
       "      <td>May-11</td>\n",
       "      <td>13.50</td>\n",
       "      <td>奥迪A4L 2011款 2.0 TFSI 标准型</td>\n",
       "      <td>0</td>\n",
       "      <td>自动</td>\n",
       "      <td>2</td>\n",
       "      <td>May</td>\n",
       "      <td>11</td>\n",
       "      <td>6~10</td>\n",
       "      <td>mid</td>\n",
       "    </tr>\n",
       "    <tr>\n",
       "      <th>2</th>\n",
       "      <td>奥迪</td>\n",
       "      <td>郑州</td>\n",
       "      <td>7.80</td>\n",
       "      <td>欧IV</td>\n",
       "      <td>自动／2L</td>\n",
       "      <td>Nov-11</td>\n",
       "      <td>14.80</td>\n",
       "      <td>奥迪A6L 2011款 2.0 TFSI 自动标准型</td>\n",
       "      <td>1</td>\n",
       "      <td>自动</td>\n",
       "      <td>2</td>\n",
       "      <td>Nov</td>\n",
       "      <td>11</td>\n",
       "      <td>6~10</td>\n",
       "      <td>mid</td>\n",
       "    </tr>\n",
       "    <tr>\n",
       "      <th>3</th>\n",
       "      <td>奥迪</td>\n",
       "      <td>上海</td>\n",
       "      <td>6.22</td>\n",
       "      <td>欧IV</td>\n",
       "      <td>自动／3.2L</td>\n",
       "      <td>Mar-11</td>\n",
       "      <td>19.98</td>\n",
       "      <td>奥迪A5 2010款 3.2 coupe quattro</td>\n",
       "      <td>1</td>\n",
       "      <td>自动</td>\n",
       "      <td>3.2</td>\n",
       "      <td>Mar</td>\n",
       "      <td>11</td>\n",
       "      <td>6~10</td>\n",
       "      <td>mid</td>\n",
       "    </tr>\n",
       "    <tr>\n",
       "      <th>4</th>\n",
       "      <td>奥迪</td>\n",
       "      <td>沈阳</td>\n",
       "      <td>5.30</td>\n",
       "      <td>国IV(国V)</td>\n",
       "      <td>自动／3L</td>\n",
       "      <td>Jan-12</td>\n",
       "      <td>42.80</td>\n",
       "      <td>奥迪A8 2012款 A8L 50 TFSI quattro尊贵型</td>\n",
       "      <td>1</td>\n",
       "      <td>自动</td>\n",
       "      <td>3</td>\n",
       "      <td>Jan</td>\n",
       "      <td>12</td>\n",
       "      <td>6~10</td>\n",
       "      <td>mid</td>\n",
       "    </tr>\n",
       "  </tbody>\n",
       "</table>\n",
       "</div>"
      ],
      "text/plain": [
       "  Brand City  Distance(ten thousand km) Emission_standard Gears_Displacement  \\\n",
       "0    奥迪   上海                       1.22                国V              自动／3L   \n",
       "1    奥迪   深圳                       7.00               国IV              自动／2L   \n",
       "2    奥迪   郑州                       7.80               欧IV              自动／2L   \n",
       "3    奥迪   上海                       6.22               欧IV            自动／3.2L   \n",
       "4    奥迪   沈阳                       5.30           国IV(国V)              自动／3L   \n",
       "\n",
       "  License_time  Price( ten thousand yuan GDP)  \\\n",
       "0       Aug-18                          78.00   \n",
       "1       May-11                          13.50   \n",
       "2       Nov-11                          14.80   \n",
       "3       Mar-11                          19.98   \n",
       "4       Jan-12                          42.80   \n",
       "\n",
       "                               Title Transfer Gears Displacement month  year  \\\n",
       "0       奥迪Q7 2016款 45 TFSI S line运动型        0    自动            3   Aug    18   \n",
       "1           奥迪A4L 2011款 2.0 TFSI 标准型        0    自动            2   May    11   \n",
       "2         奥迪A6L 2011款 2.0 TFSI 自动标准型        1    自动            2   Nov    11   \n",
       "3       奥迪A5 2010款 3.2 coupe quattro        1    自动          3.2   Mar    11   \n",
       "4  奥迪A8 2012款 A8L 50 TFSI quattro尊贵型        1    自动            3   Jan    12   \n",
       "\n",
       "  use_age Distance_levels  \n",
       "0     0~5            near  \n",
       "1    6~10             mid  \n",
       "2    6~10             mid  \n",
       "3    6~10             mid  \n",
       "4    6~10             mid  "
      ]
     },
     "execution_count": 20,
     "metadata": {},
     "output_type": "execute_result"
    }
   ],
   "source": [
    "# 对行驶距离进行分组, 分为近距离，远距离和中等距离\n",
    "bin_edges = [ 0.01, 3.00, 10.00, 57.00]\n",
    "bin_names = ['near', 'mid', 'far']\n",
    "data['Distance_levels'] = pd.cut(data['Distance(ten thousand km)'], bin_edges, labels=bin_names)\n",
    "data.head()"
   ]
  },
  {
   "cell_type": "code",
   "execution_count": 21,
   "metadata": {},
   "outputs": [
    {
     "data": {
      "text/plain": [
       "array(['0', '1', '2', '3', '6', '4', '5', '8', '99', '-', '30', '7', '9',\n",
       "       '10'], dtype=object)"
      ]
     },
     "execution_count": 21,
     "metadata": {},
     "output_type": "execute_result"
    }
   ],
   "source": [
    "data.Transfer.unique()\n",
    "# Tansfer代表过户次数，次数过多的可以当成异常值处理"
   ]
  },
  {
   "cell_type": "code",
   "execution_count": 22,
   "metadata": {
    "scrolled": true
   },
   "outputs": [
    {
     "name": "stdout",
     "output_type": "stream",
     "text": [
      "过户次数为99的有6辆车\n",
      "过户次数为30的有1辆车\n",
      "没有记录过户次数的辆车有2622辆\n"
     ]
    }
   ],
   "source": [
    "print('过户次数为99的有{}辆车'.format(data[data.Transfer=='99'].Transfer.count()))\n",
    "print('过户次数为30的有{}辆车'.format(data[data.Transfer=='30'].Transfer.count()))\n",
    "print('没有记录过户次数的辆车有{}辆'.format(data[data.Transfer=='-'].Transfer.count()))"
   ]
  },
  {
   "cell_type": "code",
   "execution_count": 23,
   "metadata": {},
   "outputs": [
    {
     "data": {
      "text/html": [
       "<div>\n",
       "<style>\n",
       "    .dataframe thead tr:only-child th {\n",
       "        text-align: right;\n",
       "    }\n",
       "\n",
       "    .dataframe thead th {\n",
       "        text-align: left;\n",
       "    }\n",
       "\n",
       "    .dataframe tbody tr th {\n",
       "        vertical-align: top;\n",
       "    }\n",
       "</style>\n",
       "<table border=\"1\" class=\"dataframe\">\n",
       "  <thead>\n",
       "    <tr style=\"text-align: right;\">\n",
       "      <th></th>\n",
       "      <th>Brand</th>\n",
       "      <th>City</th>\n",
       "      <th>Distance(ten thousand km)</th>\n",
       "      <th>Emission_standard</th>\n",
       "      <th>Gears_Displacement</th>\n",
       "      <th>License_time</th>\n",
       "      <th>Price( ten thousand yuan GDP)</th>\n",
       "      <th>Title</th>\n",
       "      <th>Transfer</th>\n",
       "      <th>Gears</th>\n",
       "      <th>Displacement</th>\n",
       "      <th>month</th>\n",
       "      <th>year</th>\n",
       "      <th>use_age</th>\n",
       "      <th>Distance_levels</th>\n",
       "    </tr>\n",
       "  </thead>\n",
       "  <tbody>\n",
       "    <tr>\n",
       "      <th>35499</th>\n",
       "      <td>大众</td>\n",
       "      <td>青岛</td>\n",
       "      <td>0.3</td>\n",
       "      <td>国V</td>\n",
       "      <td>自动／1.2L</td>\n",
       "      <td>Jul-17</td>\n",
       "      <td>12.68</td>\n",
       "      <td>速腾 2017款 180TSI 自动领先型</td>\n",
       "      <td>10</td>\n",
       "      <td>自动</td>\n",
       "      <td>1.2</td>\n",
       "      <td>Jul</td>\n",
       "      <td>17</td>\n",
       "      <td>0~5</td>\n",
       "      <td>near</td>\n",
       "    </tr>\n",
       "  </tbody>\n",
       "</table>\n",
       "</div>"
      ],
      "text/plain": [
       "      Brand City  Distance(ten thousand km) Emission_standard  \\\n",
       "35499    大众   青岛                        0.3                国V   \n",
       "\n",
       "      Gears_Displacement License_time  Price( ten thousand yuan GDP)  \\\n",
       "35499            自动／1.2L       Jul-17                          12.68   \n",
       "\n",
       "                       Title Transfer Gears Displacement month  year use_age  \\\n",
       "35499  速腾 2017款 180TSI 自动领先型       10    自动          1.2   Jul    17     0~5   \n",
       "\n",
       "      Distance_levels  \n",
       "35499            near  "
      ]
     },
     "execution_count": 23,
     "metadata": {},
     "output_type": "execute_result"
    }
   ],
   "source": [
    "data[(data.Transfer=='10') & (data.use_age=='0~5')]\n",
    "# 35499行驶距离才0.3万千米，上牌时间为2017年，也就是说只有1年时间，但是却过户了10次，这个也当成异常值处理。"
   ]
  },
  {
   "cell_type": "code",
   "execution_count": 24,
   "metadata": {},
   "outputs": [
    {
     "data": {
      "text/plain": [
       "2630"
      ]
     },
     "execution_count": 24,
     "metadata": {},
     "output_type": "execute_result"
    }
   ],
   "source": [
    "outliers=[] # 存放异常值的index\n",
    "outliers.extend(data[data.Transfer=='30'].index.tolist())\n",
    "outliers.extend(data[data.Transfer=='99'].index.tolist())\n",
    "outliers.extend(data[(data.Transfer=='10') & (data.use_age=='0~5')].index.tolist())\n",
    "outliers.extend(data[data.Transfer=='-'].index.tolist())\n",
    "len(outliers)"
   ]
  },
  {
   "cell_type": "code",
   "execution_count": 25,
   "metadata": {},
   "outputs": [
    {
     "data": {
      "text/plain": [
       "count     81282\n",
       "unique       14\n",
       "top           0\n",
       "freq      46972\n",
       "Name: Transfer, dtype: object"
      ]
     },
     "execution_count": 25,
     "metadata": {},
     "output_type": "execute_result"
    }
   ],
   "source": [
    "data['Transfer'].describe()"
   ]
  },
  {
   "cell_type": "code",
   "execution_count": 26,
   "metadata": {
    "collapsed": true
   },
   "outputs": [],
   "source": [
    "# 为了避免异常值造成不利影响，先把异常值全部变为众数0\n",
    "for i in outliers:\n",
    "    data.loc[i, 'Transfer'] = 0"
   ]
  },
  {
   "cell_type": "code",
   "execution_count": 27,
   "metadata": {},
   "outputs": [
    {
     "name": "stdout",
     "output_type": "stream",
     "text": [
      "<class 'pandas.core.frame.DataFrame'>\n",
      "Int64Index: 81282 entries, 0 to 81281\n",
      "Data columns (total 15 columns):\n",
      "Brand                            81282 non-null object\n",
      "City                             81282 non-null object\n",
      "Distance(ten thousand km)        81282 non-null float64\n",
      "Emission_standard                81282 non-null object\n",
      "Gears_Displacement               81282 non-null object\n",
      "License_time                     81282 non-null object\n",
      "Price( ten thousand yuan GDP)    81282 non-null float64\n",
      "Title                            81282 non-null object\n",
      "Transfer                         81282 non-null object\n",
      "Gears                            81282 non-null object\n",
      "Displacement                     81282 non-null object\n",
      "month                            81282 non-null object\n",
      "year                             81282 non-null int64\n",
      "use_age                          81282 non-null object\n",
      "Distance_levels                  80653 non-null category\n",
      "dtypes: category(1), float64(2), int64(1), object(11)\n",
      "memory usage: 11.9+ MB\n"
     ]
    }
   ],
   "source": [
    "# 进行数据类型转换\n",
    "data.info()\n",
    "data['Transfer'] = data['Transfer'].astype(int)\n",
    "data['Displacement'] = data['Displacement'].astype(float)"
   ]
  },
  {
   "cell_type": "code",
   "execution_count": 28,
   "metadata": {
    "collapsed": true
   },
   "outputs": [],
   "source": [
    "data.to_csv('cleaned_cars.csv', encoding='gb2312')"
   ]
  },
  {
   "cell_type": "markdown",
   "metadata": {},
   "source": [
    "## 数据分析及探索"
   ]
  },
  {
   "cell_type": "code",
   "execution_count": 29,
   "metadata": {
    "collapsed": true
   },
   "outputs": [],
   "source": [
    "import numpy as np\n",
    "import pandas as pd\n",
    "import matplotlib.pyplot as plt\n",
    "from matplotlib.font_manager import *    \n",
    "from IPython.display import display\n",
    "%matplotlib inline\n",
    "myfont = FontProperties(fname='/Users/jia/Library/Fonts/SimHei.ttf') \n",
    "matplotlib.rcParams['axes.unicode_minus']=False"
   ]
  },
  {
   "cell_type": "code",
   "execution_count": 30,
   "metadata": {
    "collapsed": true
   },
   "outputs": [],
   "source": [
    "# 加载数据\n",
    "data = pd.read_csv('cleaned_cars.csv', encoding='gb2312', index_col=0) # index_col=0防止出现unnamed:0"
   ]
  },
  {
   "cell_type": "markdown",
   "metadata": {
    "collapsed": true
   },
   "source": [
    "## 感兴趣的问题：\n",
    "1. 销售量最多的城市是哪些？及其原因？\n",
    "2. 哪个城市的均价最高？均价高的城市有什么特点？\n",
    "3. 大部分二手车的行驶里程集中在哪个区间？\n",
    "4. 行驶里程与售价的关系？\n",
    "5. 哪种排放标准的车出售量最多？\n",
    "6. 未上牌的都是什么样的车，售价如何？\n",
    "7. 各车龄占比多少？\n",
    "8. 车龄和均价的关系如何？\n",
    "9. 人们更喜欢手动还是自动？\n",
    "10. 不同品牌的售价差异？\n",
    "\n",
    "————————————————————————————————————————————————————————————————————————————————————————————————————————————————"
   ]
  },
  {
   "cell_type": "code",
   "execution_count": 31,
   "metadata": {
    "collapsed": true
   },
   "outputs": [],
   "source": [
    "# 求出每个城市二手车的销售量，并按降序排列\n",
    "city_num = data.groupby('City')['Title'].count().reset_index().sort_values('Title', ascending=False)"
   ]
  },
  {
   "cell_type": "code",
   "execution_count": 32,
   "metadata": {},
   "outputs": [
    {
     "data": {
      "text/html": [
       "<div>\n",
       "<style>\n",
       "    .dataframe thead tr:only-child th {\n",
       "        text-align: right;\n",
       "    }\n",
       "\n",
       "    .dataframe thead th {\n",
       "        text-align: left;\n",
       "    }\n",
       "\n",
       "    .dataframe tbody tr th {\n",
       "        vertical-align: top;\n",
       "    }\n",
       "</style>\n",
       "<table border=\"1\" class=\"dataframe\">\n",
       "  <thead>\n",
       "    <tr style=\"text-align: right;\">\n",
       "      <th></th>\n",
       "      <th>City</th>\n",
       "      <th>Title</th>\n",
       "    </tr>\n",
       "  </thead>\n",
       "  <tbody>\n",
       "    <tr>\n",
       "      <th>5</th>\n",
       "      <td>上海</td>\n",
       "      <td>7108</td>\n",
       "    </tr>\n",
       "    <tr>\n",
       "      <th>196</th>\n",
       "      <td>温州</td>\n",
       "      <td>3276</td>\n",
       "    </tr>\n",
       "    <tr>\n",
       "      <th>240</th>\n",
       "      <td>苏州</td>\n",
       "      <td>2727</td>\n",
       "    </tr>\n",
       "    <tr>\n",
       "      <th>130</th>\n",
       "      <td>成都</td>\n",
       "      <td>2712</td>\n",
       "    </tr>\n",
       "    <tr>\n",
       "      <th>194</th>\n",
       "      <td>深圳</td>\n",
       "      <td>2355</td>\n",
       "    </tr>\n",
       "    <tr>\n",
       "      <th>278</th>\n",
       "      <td>郑州</td>\n",
       "      <td>2336</td>\n",
       "    </tr>\n",
       "    <tr>\n",
       "      <th>43</th>\n",
       "      <td>北京</td>\n",
       "      <td>2240</td>\n",
       "    </tr>\n",
       "    <tr>\n",
       "      <th>7</th>\n",
       "      <td>东莞</td>\n",
       "      <td>2156</td>\n",
       "    </tr>\n",
       "    <tr>\n",
       "      <th>112</th>\n",
       "      <td>广州</td>\n",
       "      <td>2151</td>\n",
       "    </tr>\n",
       "    <tr>\n",
       "      <th>46</th>\n",
       "      <td>南京</td>\n",
       "      <td>2085</td>\n",
       "    </tr>\n",
       "  </tbody>\n",
       "</table>\n",
       "</div>"
      ],
      "text/plain": [
       "    City  Title\n",
       "5     上海   7108\n",
       "196   温州   3276\n",
       "240   苏州   2727\n",
       "130   成都   2712\n",
       "194   深圳   2355\n",
       "278   郑州   2336\n",
       "43    北京   2240\n",
       "7     东莞   2156\n",
       "112   广州   2151\n",
       "46    南京   2085"
      ]
     },
     "execution_count": 32,
     "metadata": {},
     "output_type": "execute_result"
    }
   ],
   "source": [
    "city_num.head(10)"
   ]
  },
  {
   "cell_type": "code",
   "execution_count": 33,
   "metadata": {},
   "outputs": [
    {
     "data": {
      "image/png": "[encoded data removed]",
      "text/plain": [
       "<matplotlib.figure.Figure at 0x1a11504278>"
      ]
     },
     "metadata": {},
     "output_type": "display_data"
    }
   ],
   "source": [
    "fig = plt.figure(figsize=(11,6))\n",
    "\n",
    "labels = city_num['City'][:10]\n",
    "x = np.arange(len(labels))\n",
    "height = city_num['Title'][:10]\n",
    "b = plt.bar(x, height, align='center', alpha=0.6, width=0.4)\n",
    "plt.xticks(x, labels, fontproperties=myfont)\n",
    "for x,h in zip(x,height):\n",
    "    plt.text(x, h+0.05, '%.0f' % int(h),ha='center', va='bottom',fontsize=10)\n",
    "plt.xlabel('城 市',fontproperties=myfont,fontsize=13)\n",
    "plt.ylabel('出 售 量',fontproperties=myfont,fontsize=13)\n",
    "plt.title('出售量最多的Top10城市',fontproperties=myfont,fontsize=13)\n",
    "plt.show()"
   ]
  },
  {
   "cell_type": "code",
   "execution_count": 34,
   "metadata": {
    "collapsed": true
   },
   "outputs": [],
   "source": [
    "# 求销售量前10的城市占比\n",
    "p = np.round(sum(city_num['Title'][:10]) / len(data), decimals = 2)\n",
    "p_ = 1 - p"
   ]
  },
  {
   "cell_type": "code",
   "execution_count": 35,
   "metadata": {},
   "outputs": [
    {
     "data": {
      "image/png": "[encoded data removed]",
      "text/plain": [
       "<matplotlib.figure.Figure at 0x1a11504048>"
      ]
     },
     "metadata": {},
     "output_type": "display_data"
    }
   ],
   "source": [
    "labels = 'Top 10 cities', 'other cities'\n",
    "size = [p, p_]\n",
    "plt.axes(aspect=1)\n",
    "plt.pie(size, labels=labels, autopct='%0.2f%%')\n",
    "plt.show()"
   ]
  },
  {
   "cell_type": "code",
   "execution_count": 36,
   "metadata": {},
   "outputs": [
    {
     "data": {
      "text/html": [
       "<div>\n",
       "<style>\n",
       "    .dataframe thead tr:only-child th {\n",
       "        text-align: right;\n",
       "    }\n",
       "\n",
       "    .dataframe thead th {\n",
       "        text-align: left;\n",
       "    }\n",
       "\n",
       "    .dataframe tbody tr th {\n",
       "        vertical-align: top;\n",
       "    }\n",
       "</style>\n",
       "<table border=\"1\" class=\"dataframe\">\n",
       "  <thead>\n",
       "    <tr style=\"text-align: right;\">\n",
       "      <th></th>\n",
       "      <th>City</th>\n",
       "      <th>Price( ten thousand yuan GDP)</th>\n",
       "    </tr>\n",
       "  </thead>\n",
       "  <tbody>\n",
       "    <tr>\n",
       "      <th>27</th>\n",
       "      <td>伊春</td>\n",
       "      <td>82.000000</td>\n",
       "    </tr>\n",
       "    <tr>\n",
       "      <th>3</th>\n",
       "      <td>三沙</td>\n",
       "      <td>77.060000</td>\n",
       "    </tr>\n",
       "    <tr>\n",
       "      <th>305</th>\n",
       "      <td>陇南</td>\n",
       "      <td>57.093333</td>\n",
       "    </tr>\n",
       "    <tr>\n",
       "      <th>122</th>\n",
       "      <td>德宏</td>\n",
       "      <td>49.820000</td>\n",
       "    </tr>\n",
       "    <tr>\n",
       "      <th>55</th>\n",
       "      <td>双鸭山</td>\n",
       "      <td>42.720000</td>\n",
       "    </tr>\n",
       "  </tbody>\n",
       "</table>\n",
       "</div>"
      ],
      "text/plain": [
       "    City  Price( ten thousand yuan GDP)\n",
       "27    伊春                      82.000000\n",
       "3     三沙                      77.060000\n",
       "305   陇南                      57.093333\n",
       "122   德宏                      49.820000\n",
       "55   双鸭山                      42.720000"
      ]
     },
     "execution_count": 36,
     "metadata": {},
     "output_type": "execute_result"
    }
   ],
   "source": [
    "city_price = data.groupby('City')['Price( ten thousand yuan GDP)'].mean().reset_index().sort_values('Price( ten thousand yuan GDP)', ascending=False)\n",
    "city_price.head()"
   ]
  },
  {
   "cell_type": "code",
   "execution_count": 37,
   "metadata": {},
   "outputs": [
    {
     "data": {
      "image/png": "[encoded data removed]",
      "text/plain": [
       "<matplotlib.figure.Figure at 0x1a10fa6be0>"
      ]
     },
     "metadata": {},
     "output_type": "display_data"
    }
   ],
   "source": [
    "fig = plt.figure(figsize=(10,5))\n",
    "\n",
    "labels = city_price['City'][:5]\n",
    "y = np.arange(len(labels))\n",
    "width = city_price['Price( ten thousand yuan GDP)'][:5]\n",
    "plt.barh(y, width, align='center', alpha=0.6, height=0.3)\n",
    "plt.yticks(y, labels, fontproperties=myfont)\n",
    "plt.xlabel('均 价（万元）',fontproperties=myfont,fontsize=13)\n",
    "plt.ylabel('城 市',fontproperties=myfont,fontsize=13)\n",
    "plt.title('各城市二手车均价',fontproperties=myfont,fontsize=13)\n",
    "plt.show()"
   ]
  },
  {
   "cell_type": "markdown",
   "metadata": {
    "collapsed": true
   },
   "source": [
    "#### 1. 在售量最多的城市是哪些？及其原因？\n",
    "从城市相关数据来看，二手车出售基本集中在一线城市或新一线城市，前10个城市的在售量约占了总量的36%，其中上海的出售量最多，达到7108，与第二个城市温州3276量相比，高出了近两倍。\n",
    "导致上海出售量特别多的原因有以下几个可能原因：1. 上海是大型一线城市，人口数量和用车数量都较多；2. 数据不够全面，只爬取了一个时间的数据，无法进行时间前后对比，也仅仅是一个网站上的数据，还有很多数据没有爬取下来；3. 上海用户/商家可能更喜欢使用此网站进行信息发布。\n",
    "\n",
    "#### 2. 哪个城市的均价最高？\n",
    "对于均价而言，均价较高的城市都是二三线小城市，原因可能是这些城市小所以销售量也不大，如果正好有几辆价格较高的二手车在售，就会拉高总体的均价。\n",
    "\n",
    "————————————————————————————————————————————————————————————————————————————————————————————————————————————————"
   ]
  },
  {
   "cell_type": "code",
   "execution_count": 38,
   "metadata": {},
   "outputs": [
    {
     "data": {
      "text/html": [
       "<div>\n",
       "<style>\n",
       "    .dataframe thead tr:only-child th {\n",
       "        text-align: right;\n",
       "    }\n",
       "\n",
       "    .dataframe thead th {\n",
       "        text-align: left;\n",
       "    }\n",
       "\n",
       "    .dataframe tbody tr th {\n",
       "        vertical-align: top;\n",
       "    }\n",
       "</style>\n",
       "<table border=\"1\" class=\"dataframe\">\n",
       "  <thead>\n",
       "    <tr style=\"text-align: right;\">\n",
       "      <th></th>\n",
       "      <th>Distance_levels</th>\n",
       "      <th>Price( ten thousand yuan GDP)</th>\n",
       "    </tr>\n",
       "  </thead>\n",
       "  <tbody>\n",
       "    <tr>\n",
       "      <th>2</th>\n",
       "      <td>near</td>\n",
       "      <td>29.459496</td>\n",
       "    </tr>\n",
       "    <tr>\n",
       "      <th>1</th>\n",
       "      <td>mid</td>\n",
       "      <td>19.256321</td>\n",
       "    </tr>\n",
       "    <tr>\n",
       "      <th>0</th>\n",
       "      <td>far</td>\n",
       "      <td>15.704301</td>\n",
       "    </tr>\n",
       "  </tbody>\n",
       "</table>\n",
       "</div>"
      ],
      "text/plain": [
       "  Distance_levels  Price( ten thousand yuan GDP)\n",
       "2            near                      29.459496\n",
       "1             mid                      19.256321\n",
       "0             far                      15.704301"
      ]
     },
     "execution_count": 38,
     "metadata": {},
     "output_type": "execute_result"
    }
   ],
   "source": [
    "distance_price = data.groupby('Distance_levels')['Price( ten thousand yuan GDP)'].mean().reset_index().sort_values('Price( ten thousand yuan GDP)',ascending=False)\n",
    "distance_price"
   ]
  },
  {
   "cell_type": "code",
   "execution_count": 39,
   "metadata": {},
   "outputs": [
    {
     "data": {
      "image/png": "[encoded data removed]",
      "text/plain": [
       "<matplotlib.figure.Figure at 0x1a111c7208>"
      ]
     },
     "metadata": {},
     "output_type": "display_data"
    }
   ],
   "source": [
    "fig = plt.figure(figsize=(4,5))\n",
    "\n",
    "labels = distance_price['Distance_levels']\n",
    "x = np.arange(len(labels))\n",
    "height = distance_price['Price( ten thousand yuan GDP)']\n",
    "plt.bar(x, height, align='center', alpha=0.6, width=0.2)\n",
    "plt.xticks(x, labels, fontproperties=myfont)\n",
    "plt.xlabel('里程类别',fontproperties=myfont,fontsize=13)\n",
    "plt.ylabel('均价',fontproperties=myfont,fontsize=13)\n",
    "plt.title('不同距离类别的行驶里程的均价',fontproperties=myfont,fontsize=13)\n",
    "plt.show()"
   ]
  },
  {
   "cell_type": "code",
   "execution_count": 40,
   "metadata": {},
   "outputs": [
    {
     "data": {
      "text/plain": [
       "Distance_levels\n",
       "far     10569\n",
       "mid     51876\n",
       "near    18208\n",
       "Name: Title, dtype: int64"
      ]
     },
     "execution_count": 40,
     "metadata": {},
     "output_type": "execute_result"
    }
   ],
   "source": [
    "distance_num = data.groupby('Distance_levels')['Title'].count()\n",
    "distance_num"
   ]
  },
  {
   "cell_type": "code",
   "execution_count": 41,
   "metadata": {},
   "outputs": [
    {
     "data": {
      "image/png": "[encoded data removed]",
      "text/plain": [
       "<matplotlib.figure.Figure at 0x1a10fa6630>"
      ]
     },
     "metadata": {},
     "output_type": "display_data"
    }
   ],
   "source": [
    "labels = 'near', 'mid', 'far'\n",
    "size = [distance_num['near'], distance_num['mid'], distance_num['far']]\n",
    "explode = [0, 0.05, 0.08]\n",
    "plt.axes(aspect=1)\n",
    "plt.pie(size, labels=labels, explode=explode, autopct='%0.2f%%')\n",
    "plt.show()"
   ]
  },
  {
   "cell_type": "markdown",
   "metadata": {},
   "source": [
    "#### 3. 大部分二手车的行驶里程集中在哪个区间？\n",
    "大多数二手车的行驶距离都集中在中等程度的行驶距离，也就是说在3.0～10.0万公里的范围之内，占了64.32%。最少的是0.01万公里, 最多的是57万公里。\n",
    "\n",
    "#### 4. 行驶里程与价格的关系？\n",
    "从行驶距离和出售均价的柱状图也可以看出，行驶距离越短，则车相当越新，价格也越高，这是符合市场规律的，同时也说明车辆的行驶距离是影响其售价的一个重要因素。\n",
    "—————————————————————————————————————————————————————————————————————————————————————————————————————————————————————"
   ]
  },
  {
   "cell_type": "code",
   "execution_count": 42,
   "metadata": {},
   "outputs": [
    {
     "data": {
      "text/html": [
       "<div>\n",
       "<style>\n",
       "    .dataframe thead tr:only-child th {\n",
       "        text-align: right;\n",
       "    }\n",
       "\n",
       "    .dataframe thead th {\n",
       "        text-align: left;\n",
       "    }\n",
       "\n",
       "    .dataframe tbody tr th {\n",
       "        vertical-align: top;\n",
       "    }\n",
       "</style>\n",
       "<table border=\"1\" class=\"dataframe\">\n",
       "  <thead>\n",
       "    <tr style=\"text-align: right;\">\n",
       "      <th></th>\n",
       "      <th>Emission_standard</th>\n",
       "      <th>Title</th>\n",
       "    </tr>\n",
       "  </thead>\n",
       "  <tbody>\n",
       "    <tr>\n",
       "      <th>4</th>\n",
       "      <td>国IV(国V)</td>\n",
       "      <td>23206</td>\n",
       "    </tr>\n",
       "    <tr>\n",
       "      <th>8</th>\n",
       "      <td>欧IV</td>\n",
       "      <td>20284</td>\n",
       "    </tr>\n",
       "    <tr>\n",
       "      <th>5</th>\n",
       "      <td>国V</td>\n",
       "      <td>12109</td>\n",
       "    </tr>\n",
       "    <tr>\n",
       "      <th>9</th>\n",
       "      <td>欧V</td>\n",
       "      <td>11255</td>\n",
       "    </tr>\n",
       "    <tr>\n",
       "      <th>3</th>\n",
       "      <td>国IV</td>\n",
       "      <td>9941</td>\n",
       "    </tr>\n",
       "    <tr>\n",
       "      <th>0</th>\n",
       "      <td>-</td>\n",
       "      <td>1506</td>\n",
       "    </tr>\n",
       "    <tr>\n",
       "      <th>7</th>\n",
       "      <td>欧III</td>\n",
       "      <td>1498</td>\n",
       "    </tr>\n",
       "    <tr>\n",
       "      <th>2</th>\n",
       "      <td>国III</td>\n",
       "      <td>795</td>\n",
       "    </tr>\n",
       "    <tr>\n",
       "      <th>10</th>\n",
       "      <td>欧VI</td>\n",
       "      <td>655</td>\n",
       "    </tr>\n",
       "    <tr>\n",
       "      <th>6</th>\n",
       "      <td>欧II</td>\n",
       "      <td>17</td>\n",
       "    </tr>\n",
       "    <tr>\n",
       "      <th>1</th>\n",
       "      <td>国II</td>\n",
       "      <td>16</td>\n",
       "    </tr>\n",
       "  </tbody>\n",
       "</table>\n",
       "</div>"
      ],
      "text/plain": [
       "   Emission_standard  Title\n",
       "4            国IV(国V)  23206\n",
       "8                欧IV  20284\n",
       "5                 国V  12109\n",
       "9                 欧V  11255\n",
       "3                国IV   9941\n",
       "0                  -   1506\n",
       "7               欧III   1498\n",
       "2               国III    795\n",
       "10               欧VI    655\n",
       "6                欧II     17\n",
       "1                国II     16"
      ]
     },
     "execution_count": 42,
     "metadata": {},
     "output_type": "execute_result"
    }
   ],
   "source": [
    "emi_num = data.groupby('Emission_standard')['Title'].count().reset_index().sort_values('Title', ascending=False)\n",
    "emi_num"
   ]
  },
  {
   "cell_type": "code",
   "execution_count": 43,
   "metadata": {},
   "outputs": [
    {
     "data": {
      "image/png": "[encoded data removed]",
      "text/plain": [
       "<matplotlib.figure.Figure at 0x1a113e9ba8>"
      ]
     },
     "metadata": {},
     "output_type": "display_data"
    }
   ],
   "source": [
    "fig = plt.figure(figsize=(10,6))\n",
    "\n",
    "labels = emi_num['Emission_standard'][:5]\n",
    "x = np.arange(len(labels))\n",
    "height = emi_num['Title'][:5]\n",
    "plt.bar(x, height, align='center', alpha=0.6, width=0.4)\n",
    "plt.xticks(x, labels, fontproperties=myfont)\n",
    "plt.xlabel('排 放 标 准',fontproperties=myfont)\n",
    "plt.ylabel('出 售 量',fontproperties=myfont)\n",
    "plt.title('出售量最多的Top5类排放标准的车',fontproperties=myfont)\n",
    "plt.show()"
   ]
  },
  {
   "cell_type": "markdown",
   "metadata": {
    "collapsed": true
   },
   "source": [
    "#### 5. 哪种排放标准的车出售量最多？\n",
    "从图中可见在售车辆中排放标准最多的是IV或V，III或II的排放标准明显要少很多。\n",
    "这说明了，各城市在控制汽车尾气排放量，实行环境保护上都做了相应的规定；同时汽车厂商在生产汽车时也注意生产更多满足要求的排放标准的车辆。\n",
    "————————————————————————————————————————————————————————————————————————————————————————————————————————————————"
   ]
  },
  {
   "cell_type": "code",
   "execution_count": 44,
   "metadata": {},
   "outputs": [
    {
     "data": {
      "text/plain": [
       "430"
      ]
     },
     "execution_count": 44,
     "metadata": {},
     "output_type": "execute_result"
    }
   ],
   "source": [
    "len(data[data['month']=='未上牌'])"
   ]
  },
  {
   "cell_type": "code",
   "execution_count": 45,
   "metadata": {
    "collapsed": true
   },
   "outputs": [],
   "source": [
    "without_license = len(data[data['month']=='未上牌'])\n",
    "has_license = len(data) - without_license"
   ]
  },
  {
   "cell_type": "code",
   "execution_count": 46,
   "metadata": {},
   "outputs": [
    {
     "data": {
      "image/png": "[encoded data removed]",
      "text/plain": [
       "<matplotlib.figure.Figure at 0x1a113de358>"
      ]
     },
     "metadata": {},
     "output_type": "display_data"
    }
   ],
   "source": [
    "labels = 'without_license', 'has_license'\n",
    "size = [without_license, has_license]\n",
    "explode = [0.08, 0.08]\n",
    "plt.axes(aspect=1)\n",
    "plt.pie(size, labels=labels, explode=explode, autopct='%0.2f%%')\n",
    "plt.show()"
   ]
  },
  {
   "cell_type": "code",
   "execution_count": 47,
   "metadata": {},
   "outputs": [
    {
     "name": "stdout",
     "output_type": "stream",
     "text": [
      "The mean of without license price:  56.71590697674413\n",
      "The mean of has license price:  21.128031464899315\n"
     ]
    }
   ],
   "source": [
    "without_license_price = data[data['month']=='未上牌']['Price( ten thousand yuan GDP)'].mean()\n",
    "has_license_price = data[data['month']!='未上牌']['Price( ten thousand yuan GDP)'].mean()\n",
    "print('The mean of without license price: ',without_license_price)\n",
    "print('The mean of has license price: ',has_license_price)"
   ]
  },
  {
   "cell_type": "code",
   "execution_count": 48,
   "metadata": {},
   "outputs": [
    {
     "name": "stdout",
     "output_type": "stream",
     "text": [
      "without_license_distance:  0.26883720930232724\n",
      "has_license_distance:  6.372759610151505\n"
     ]
    }
   ],
   "source": [
    "without_license_distance = data[data['month']=='未上牌']['Distance(ten thousand km)'].mean()\n",
    "has_license_distance = data[data['month']!='未上牌']['Distance(ten thousand km)'].mean()\n",
    "print('without_license_distance: ', without_license_distance)\n",
    "print('has_license_distance: ', has_license_distance)"
   ]
  },
  {
   "cell_type": "markdown",
   "metadata": {},
   "source": [
    "#### 6. 未上牌的都是什么样的车，售价如何？\n",
    "在售车辆中未上牌的车辆有430量，占总数的0.53%，这类车虽说是二手车，但售价上远高于其他二手车，而且行驶的里程普遍非常短，接近于新车，\n",
    "所以说这类车通常是还未来得及上牌的“准新车”，这说明了在二手车市场，有一部分客户因各种各样的原因，会出售那些没开过多少次的车，售价低于新车而又高于普通二手车。\n",
    "——————————————————————————————————————————————————————————————————————————————————————————————————————————————————————"
   ]
  },
  {
   "cell_type": "code",
   "execution_count": 49,
   "metadata": {
    "collapsed": true
   },
   "outputs": [],
   "source": [
    "use_age_num = data.groupby('use_age')['Title'].count()"
   ]
  },
  {
   "cell_type": "code",
   "execution_count": 50,
   "metadata": {},
   "outputs": [
    {
     "data": {
      "image/png": "[encoded data removed]",
      "text/plain": [
       "<matplotlib.figure.Figure at 0x1a1124a160>"
      ]
     },
     "metadata": {},
     "output_type": "display_data"
    }
   ],
   "source": [
    "labels = '0~5', '6~10', 'over 10'\n",
    "size = [use_age_num['0~5'], use_age_num['6~10'], use_age_num['over 10']]\n",
    "explode = [0, 0.05, 0.08] \n",
    "plt.axes(aspect=1)\n",
    "plt.pie(size, labels=labels, explode=explode, autopct='%0.2f%%')\n",
    "plt.show()"
   ]
  },
  {
   "cell_type": "code",
   "execution_count": 51,
   "metadata": {},
   "outputs": [
    {
     "data": {
      "text/html": [
       "<div>\n",
       "<style>\n",
       "    .dataframe thead tr:only-child th {\n",
       "        text-align: right;\n",
       "    }\n",
       "\n",
       "    .dataframe thead th {\n",
       "        text-align: left;\n",
       "    }\n",
       "\n",
       "    .dataframe tbody tr th {\n",
       "        vertical-align: top;\n",
       "    }\n",
       "</style>\n",
       "<table border=\"1\" class=\"dataframe\">\n",
       "  <thead>\n",
       "    <tr style=\"text-align: right;\">\n",
       "      <th></th>\n",
       "      <th>use_age</th>\n",
       "      <th>Price( ten thousand yuan GDP)</th>\n",
       "    </tr>\n",
       "  </thead>\n",
       "  <tbody>\n",
       "    <tr>\n",
       "      <th>0</th>\n",
       "      <td>0~5</td>\n",
       "      <td>27.765942</td>\n",
       "    </tr>\n",
       "    <tr>\n",
       "      <th>1</th>\n",
       "      <td>6~10</td>\n",
       "      <td>17.131362</td>\n",
       "    </tr>\n",
       "    <tr>\n",
       "      <th>2</th>\n",
       "      <td>over 10</td>\n",
       "      <td>8.803286</td>\n",
       "    </tr>\n",
       "  </tbody>\n",
       "</table>\n",
       "</div>"
      ],
      "text/plain": [
       "   use_age  Price( ten thousand yuan GDP)\n",
       "0      0~5                      27.765942\n",
       "1     6~10                      17.131362\n",
       "2  over 10                       8.803286"
      ]
     },
     "execution_count": 51,
     "metadata": {},
     "output_type": "execute_result"
    }
   ],
   "source": [
    "use_age_price = data.groupby('use_age')['Price( ten thousand yuan GDP)'].mean().reset_index().sort_values('Price( ten thousand yuan GDP)', ascending=False)\n",
    "use_age_price.head()"
   ]
  },
  {
   "cell_type": "code",
   "execution_count": 52,
   "metadata": {},
   "outputs": [
    {
     "data": {
      "image/png": "[encoded data removed]",
      "text/plain": [
       "<matplotlib.figure.Figure at 0x1a106f0fd0>"
      ]
     },
     "metadata": {},
     "output_type": "display_data"
    }
   ],
   "source": [
    "fig = plt.figure(figsize=(5,4))\n",
    "x = ['0~5', '6~10', 'over 10']\n",
    "plt.plot(x,use_age_price['Price( ten thousand yuan GDP)'], 'o--')\n",
    "plt.xlabel('车 龄',fontproperties=myfont)\n",
    "plt.ylabel('均 价',fontproperties=myfont)\n",
    "plt.title('车龄和均价的关系',fontproperties=myfont, fontsize=12)\n",
    "plt.show()"
   ]
  },
  {
   "cell_type": "markdown",
   "metadata": {},
   "source": [
    "#### 7. 各车龄占比多少？\n",
    "车龄为0～5年间占最大部分，为49.81%，约占所有出售车量中的一半，而车龄超过10年的最少，只有13.35%。\n",
    "说明大部分出售二手车的客户会在车量使用到0～5年就进行出售了。\n",
    "#### 8. 车龄和均价的关系如何？\n",
    "从车龄和均价图可以看出，随着车龄的增加，售价几乎呈线性递减的，可见车龄是影响售价的一个关键因素。\n",
    "——————————————————————————————————————————————————————————————————————————————————————————————————————————————————————"
   ]
  },
  {
   "cell_type": "code",
   "execution_count": 53,
   "metadata": {},
   "outputs": [
    {
     "data": {
      "image/png": "[encoded data removed]",
      "text/plain": [
       "<matplotlib.figure.Figure at 0x1a1044b5f8>"
      ]
     },
     "metadata": {},
     "output_type": "display_data"
    }
   ],
   "source": [
    "gear = data.groupby('Gears')['Title'].count()\n",
    "labels = 'auto', 'manual'\n",
    "explode = [0, 0.05]\n",
    "size = [gear['自动'], gear['手动']]\n",
    "plt.axes(aspect=1)\n",
    "plt.pie(size, labels=labels, explode=explode, autopct='%0.2f%%')\n",
    "plt.show()"
   ]
  },
  {
   "cell_type": "code",
   "execution_count": 54,
   "metadata": {},
   "outputs": [
    {
     "data": {
      "text/html": [
       "<div>\n",
       "<style>\n",
       "    .dataframe thead tr:only-child th {\n",
       "        text-align: right;\n",
       "    }\n",
       "\n",
       "    .dataframe thead th {\n",
       "        text-align: left;\n",
       "    }\n",
       "\n",
       "    .dataframe tbody tr th {\n",
       "        vertical-align: top;\n",
       "    }\n",
       "</style>\n",
       "<table border=\"1\" class=\"dataframe\">\n",
       "  <thead>\n",
       "    <tr style=\"text-align: right;\">\n",
       "      <th></th>\n",
       "      <th>Gears</th>\n",
       "      <th>Price( ten thousand yuan GDP)</th>\n",
       "    </tr>\n",
       "  </thead>\n",
       "  <tbody>\n",
       "    <tr>\n",
       "      <th>1</th>\n",
       "      <td>自动</td>\n",
       "      <td>22.918879</td>\n",
       "    </tr>\n",
       "    <tr>\n",
       "      <th>0</th>\n",
       "      <td>手动</td>\n",
       "      <td>5.306540</td>\n",
       "    </tr>\n",
       "  </tbody>\n",
       "</table>\n",
       "</div>"
      ],
      "text/plain": [
       "  Gears  Price( ten thousand yuan GDP)\n",
       "1    自动                      22.918879\n",
       "0    手动                       5.306540"
      ]
     },
     "execution_count": 54,
     "metadata": {},
     "output_type": "execute_result"
    }
   ],
   "source": [
    "data.groupby('Gears')['Price( ten thousand yuan GDP)'].mean().reset_index().sort_values('Price( ten thousand yuan GDP)', ascending=False)\n"
   ]
  },
  {
   "cell_type": "markdown",
   "metadata": {
    "collapsed": true
   },
   "source": [
    "#### 9. 人们更喜欢手动还是自动？\n",
    "从销售量来说，自动挡的车占到90.9%，而手动挡的只有9.1%，出售量越多在一定程度上就能说明客户喜欢购买的是什么样的车。\n",
    "从平均售价上看，自动挡的也远远高于手动挡的车。\n",
    "结合两方面看，档位是影响售价的一个重要因素。\n",
    "\n",
    "————————————————————————————————————————————————————————————————————————————————————————————"
   ]
  },
  {
   "cell_type": "code",
   "execution_count": 55,
   "metadata": {},
   "outputs": [
    {
     "data": {
      "text/html": [
       "<div>\n",
       "<style>\n",
       "    .dataframe thead tr:only-child th {\n",
       "        text-align: right;\n",
       "    }\n",
       "\n",
       "    .dataframe thead th {\n",
       "        text-align: left;\n",
       "    }\n",
       "\n",
       "    .dataframe tbody tr th {\n",
       "        vertical-align: top;\n",
       "    }\n",
       "</style>\n",
       "<table border=\"1\" class=\"dataframe\">\n",
       "  <thead>\n",
       "    <tr style=\"text-align: right;\">\n",
       "      <th></th>\n",
       "      <th>Brand</th>\n",
       "      <th>Price( ten thousand yuan GDP)</th>\n",
       "    </tr>\n",
       "  </thead>\n",
       "  <tbody>\n",
       "    <tr>\n",
       "      <th>0</th>\n",
       "      <td>保时捷</td>\n",
       "      <td>60.342025</td>\n",
       "    </tr>\n",
       "    <tr>\n",
       "      <th>10</th>\n",
       "      <td>路虎</td>\n",
       "      <td>48.188905</td>\n",
       "    </tr>\n",
       "    <tr>\n",
       "      <th>3</th>\n",
       "      <td>奔驰</td>\n",
       "      <td>35.103502</td>\n",
       "    </tr>\n",
       "    <tr>\n",
       "      <th>12</th>\n",
       "      <td>雷克萨斯</td>\n",
       "      <td>29.155432</td>\n",
       "    </tr>\n",
       "    <tr>\n",
       "      <th>5</th>\n",
       "      <td>宝马</td>\n",
       "      <td>28.184517</td>\n",
       "    </tr>\n",
       "    <tr>\n",
       "      <th>4</th>\n",
       "      <td>奥迪</td>\n",
       "      <td>24.662537</td>\n",
       "    </tr>\n",
       "    <tr>\n",
       "      <th>9</th>\n",
       "      <td>福特</td>\n",
       "      <td>12.407072</td>\n",
       "    </tr>\n",
       "    <tr>\n",
       "      <th>2</th>\n",
       "      <td>大众</td>\n",
       "      <td>11.749674</td>\n",
       "    </tr>\n",
       "    <tr>\n",
       "      <th>7</th>\n",
       "      <td>本田</td>\n",
       "      <td>11.227901</td>\n",
       "    </tr>\n",
       "    <tr>\n",
       "      <th>6</th>\n",
       "      <td>日产</td>\n",
       "      <td>10.895022</td>\n",
       "    </tr>\n",
       "    <tr>\n",
       "      <th>1</th>\n",
       "      <td>别克</td>\n",
       "      <td>10.197946</td>\n",
       "    </tr>\n",
       "    <tr>\n",
       "      <th>13</th>\n",
       "      <td>马自达</td>\n",
       "      <td>8.596602</td>\n",
       "    </tr>\n",
       "    <tr>\n",
       "      <th>8</th>\n",
       "      <td>现代</td>\n",
       "      <td>8.014743</td>\n",
       "    </tr>\n",
       "    <tr>\n",
       "      <th>11</th>\n",
       "      <td>雪弗兰</td>\n",
       "      <td>6.614929</td>\n",
       "    </tr>\n",
       "  </tbody>\n",
       "</table>\n",
       "</div>"
      ],
      "text/plain": [
       "   Brand  Price( ten thousand yuan GDP)\n",
       "0    保时捷                      60.342025\n",
       "10    路虎                      48.188905\n",
       "3     奔驰                      35.103502\n",
       "12  雷克萨斯                      29.155432\n",
       "5     宝马                      28.184517\n",
       "4     奥迪                      24.662537\n",
       "9     福特                      12.407072\n",
       "2     大众                      11.749674\n",
       "7     本田                      11.227901\n",
       "6     日产                      10.895022\n",
       "1     别克                      10.197946\n",
       "13   马自达                       8.596602\n",
       "8     现代                       8.014743\n",
       "11   雪弗兰                       6.614929"
      ]
     },
     "execution_count": 55,
     "metadata": {},
     "output_type": "execute_result"
    }
   ],
   "source": [
    "brand_price = data.groupby('Brand')['Price( ten thousand yuan GDP)'].mean().reset_index().sort_values('Price( ten thousand yuan GDP)', ascending=False)\n",
    "brand_price"
   ]
  },
  {
   "cell_type": "code",
   "execution_count": 56,
   "metadata": {},
   "outputs": [
    {
     "data": {
      "image/png": "[encoded data removed]",
      "text/plain": [
       "<matplotlib.figure.Figure at 0x1a116e76d8>"
      ]
     },
     "metadata": {},
     "output_type": "display_data"
    }
   ],
   "source": [
    "fig = plt.figure(figsize=(12,6))\n",
    "\n",
    "labels = brand_price['Brand']\n",
    "x = np.arange(len(labels))\n",
    "height = brand_price['Price( ten thousand yuan GDP)']\n",
    "b = plt.bar(x, height, align='center', alpha=0.6, width=0.4)\n",
    "plt.xticks(x, labels, fontproperties=myfont)\n",
    "for x,h in zip(x,height):\n",
    "    plt.text(x, h+0.05, '%.0f' % int(h),ha='center', va='bottom',fontsize=10)\n",
    "plt.xlabel('品 牌',fontproperties=myfont,fontsize=13)\n",
    "plt.ylabel('均 价',fontproperties=myfont,fontsize=13)\n",
    "plt.title('各品牌的售价',fontproperties=myfont,fontsize=13)\n",
    "plt.show()"
   ]
  },
  {
   "cell_type": "code",
   "execution_count": 57,
   "metadata": {
    "collapsed": true
   },
   "outputs": [],
   "source": [
    "baoshijie = data[data['Brand']=='保时捷']\n",
    "baoshijie_use_age = baoshijie.groupby('use_age')['use_age'].count()"
   ]
  },
  {
   "cell_type": "code",
   "execution_count": 58,
   "metadata": {},
   "outputs": [
    {
     "data": {
      "image/png": "[encoded data removed]",
      "text/plain": [
       "<matplotlib.figure.Figure at 0x1a121f2d68>"
      ]
     },
     "metadata": {},
     "output_type": "display_data"
    }
   ],
   "source": [
    "labels = '0~5', '6~10', 'over 10'\n",
    "size = [baoshijie_use_age['0~5'], baoshijie_use_age['6~10'], baoshijie_use_age['over 10']]\n",
    "explode = [0, 0.05, 0.08]\n",
    "plt.axes(aspect=1)\n",
    "plt.pie(size, labels=labels, autopct='%0.2f%%', explode=explode)\n",
    "plt.show()"
   ]
  },
  {
   "cell_type": "markdown",
   "metadata": {
    "collapsed": true
   },
   "source": [
    "#### 10. 不同品牌的售价差异？ \n",
    "从图中可以看到保时捷，路虎，奔驰的售价最高，其中保时捷售价最高约为60万元。\n",
    "\n",
    "进一步分析，除了品牌原因外，保时捷0～5年车龄的比例也比较高。\n",
    "————————————————————————————————————————————————————————————————————————————————————————————"
   ]
  },
  {
   "cell_type": "markdown",
   "metadata": {},
   "source": [
    "## 模型构建"
   ]
  },
  {
   "cell_type": "markdown",
   "metadata": {
    "collapsed": true
   },
   "source": [
    "### 数据预处理\n",
    "在将数据作为机器学习算法的输入之前，通常必须整理数据、调整数据格式和结构，这一流程通常称之为预处理。"
   ]
  },
  {
   "cell_type": "code",
   "execution_count": 1,
   "metadata": {},
   "outputs": [
    {
     "data": {
      "text/html": [
       "<div>\n",
       "<style>\n",
       "    .dataframe thead tr:only-child th {\n",
       "        text-align: right;\n",
       "    }\n",
       "\n",
       "    .dataframe thead th {\n",
       "        text-align: left;\n",
       "    }\n",
       "\n",
       "    .dataframe tbody tr th {\n",
       "        vertical-align: top;\n",
       "    }\n",
       "</style>\n",
       "<table border=\"1\" class=\"dataframe\">\n",
       "  <thead>\n",
       "    <tr style=\"text-align: right;\">\n",
       "      <th></th>\n",
       "      <th>Brand</th>\n",
       "      <th>City</th>\n",
       "      <th>Distance(ten thousand km)</th>\n",
       "      <th>Emission_standard</th>\n",
       "      <th>Gears_Displacement</th>\n",
       "      <th>License_time</th>\n",
       "      <th>Price( ten thousand yuan GDP)</th>\n",
       "      <th>Title</th>\n",
       "      <th>Transfer</th>\n",
       "      <th>Gears</th>\n",
       "      <th>Displacement</th>\n",
       "      <th>month</th>\n",
       "      <th>year</th>\n",
       "      <th>use_age</th>\n",
       "      <th>Distance_levels</th>\n",
       "    </tr>\n",
       "  </thead>\n",
       "  <tbody>\n",
       "    <tr>\n",
       "      <th>0</th>\n",
       "      <td>奥迪</td>\n",
       "      <td>上海</td>\n",
       "      <td>1.22</td>\n",
       "      <td>国V</td>\n",
       "      <td>自动／3L</td>\n",
       "      <td>Aug-18</td>\n",
       "      <td>78.00</td>\n",
       "      <td>奥迪Q7 2016款 45 TFSI S line运动型</td>\n",
       "      <td>0</td>\n",
       "      <td>自动</td>\n",
       "      <td>3.0</td>\n",
       "      <td>Aug</td>\n",
       "      <td>18</td>\n",
       "      <td>0~5</td>\n",
       "      <td>near</td>\n",
       "    </tr>\n",
       "    <tr>\n",
       "      <th>1</th>\n",
       "      <td>奥迪</td>\n",
       "      <td>深圳</td>\n",
       "      <td>7.00</td>\n",
       "      <td>国IV</td>\n",
       "      <td>自动／2L</td>\n",
       "      <td>May-11</td>\n",
       "      <td>13.50</td>\n",
       "      <td>奥迪A4L 2011款 2.0 TFSI 标准型</td>\n",
       "      <td>0</td>\n",
       "      <td>自动</td>\n",
       "      <td>2.0</td>\n",
       "      <td>May</td>\n",
       "      <td>11</td>\n",
       "      <td>6~10</td>\n",
       "      <td>mid</td>\n",
       "    </tr>\n",
       "    <tr>\n",
       "      <th>2</th>\n",
       "      <td>奥迪</td>\n",
       "      <td>郑州</td>\n",
       "      <td>7.80</td>\n",
       "      <td>欧IV</td>\n",
       "      <td>自动／2L</td>\n",
       "      <td>Nov-11</td>\n",
       "      <td>14.80</td>\n",
       "      <td>奥迪A6L 2011款 2.0 TFSI 自动标准型</td>\n",
       "      <td>1</td>\n",
       "      <td>自动</td>\n",
       "      <td>2.0</td>\n",
       "      <td>Nov</td>\n",
       "      <td>11</td>\n",
       "      <td>6~10</td>\n",
       "      <td>mid</td>\n",
       "    </tr>\n",
       "    <tr>\n",
       "      <th>3</th>\n",
       "      <td>奥迪</td>\n",
       "      <td>上海</td>\n",
       "      <td>6.22</td>\n",
       "      <td>欧IV</td>\n",
       "      <td>自动／3.2L</td>\n",
       "      <td>Mar-11</td>\n",
       "      <td>19.98</td>\n",
       "      <td>奥迪A5 2010款 3.2 coupe quattro</td>\n",
       "      <td>1</td>\n",
       "      <td>自动</td>\n",
       "      <td>3.2</td>\n",
       "      <td>Mar</td>\n",
       "      <td>11</td>\n",
       "      <td>6~10</td>\n",
       "      <td>mid</td>\n",
       "    </tr>\n",
       "    <tr>\n",
       "      <th>4</th>\n",
       "      <td>奥迪</td>\n",
       "      <td>沈阳</td>\n",
       "      <td>5.30</td>\n",
       "      <td>国IV(国V)</td>\n",
       "      <td>自动／3L</td>\n",
       "      <td>Jan-12</td>\n",
       "      <td>42.80</td>\n",
       "      <td>奥迪A8 2012款 A8L 50 TFSI quattro尊贵型</td>\n",
       "      <td>1</td>\n",
       "      <td>自动</td>\n",
       "      <td>3.0</td>\n",
       "      <td>Jan</td>\n",
       "      <td>12</td>\n",
       "      <td>6~10</td>\n",
       "      <td>mid</td>\n",
       "    </tr>\n",
       "  </tbody>\n",
       "</table>\n",
       "</div>"
      ],
      "text/plain": [
       "  Brand City  Distance(ten thousand km) Emission_standard Gears_Displacement  \\\n",
       "0    奥迪   上海                       1.22                国V              自动／3L   \n",
       "1    奥迪   深圳                       7.00               国IV              自动／2L   \n",
       "2    奥迪   郑州                       7.80               欧IV              自动／2L   \n",
       "3    奥迪   上海                       6.22               欧IV            自动／3.2L   \n",
       "4    奥迪   沈阳                       5.30           国IV(国V)              自动／3L   \n",
       "\n",
       "  License_time  Price( ten thousand yuan GDP)  \\\n",
       "0       Aug-18                          78.00   \n",
       "1       May-11                          13.50   \n",
       "2       Nov-11                          14.80   \n",
       "3       Mar-11                          19.98   \n",
       "4       Jan-12                          42.80   \n",
       "\n",
       "                               Title  Transfer Gears  Displacement month  \\\n",
       "0       奥迪Q7 2016款 45 TFSI S line运动型         0    自动           3.0   Aug   \n",
       "1           奥迪A4L 2011款 2.0 TFSI 标准型         0    自动           2.0   May   \n",
       "2         奥迪A6L 2011款 2.0 TFSI 自动标准型         1    自动           2.0   Nov   \n",
       "3       奥迪A5 2010款 3.2 coupe quattro         1    自动           3.2   Mar   \n",
       "4  奥迪A8 2012款 A8L 50 TFSI quattro尊贵型         1    自动           3.0   Jan   \n",
       "\n",
       "   year use_age Distance_levels  \n",
       "0    18     0~5            near  \n",
       "1    11    6~10             mid  \n",
       "2    11    6~10             mid  \n",
       "3    11    6~10             mid  \n",
       "4    12    6~10             mid  "
      ]
     },
     "execution_count": 1,
     "metadata": {},
     "output_type": "execute_result"
    }
   ],
   "source": [
    "# 加载数据\n",
    "import pandas as pd\n",
    "import numpy as np\n",
    "data = pd.read_csv('cleaned_cars.csv', encoding='gb2312', index_col=0)\n",
    "data.head()"
   ]
  },
  {
   "cell_type": "code",
   "execution_count": 2,
   "metadata": {
    "collapsed": true
   },
   "outputs": [],
   "source": [
    "# 删除重复意义的特征\n",
    "data_ = data.drop(['Gears_Displacement', 'License_time', 'Title', 'Distance_levels'], axis=1)"
   ]
  },
  {
   "cell_type": "markdown",
   "metadata": {
    "collapsed": true
   },
   "source": [
    "### 对数字特征进行标准化\n",
    "对数据进行缩放不会更改每个特征的分布形状；但是，标准化可以确保在应用监督式学习器时，能够平等地对待每个特征。但应用缩放之后，原始形式的数据将不再具有相同的原始含义。"
   ]
  },
  {
   "cell_type": "code",
   "execution_count": 3,
   "metadata": {},
   "outputs": [
    {
     "data": {
      "text/html": [
       "<div>\n",
       "<style>\n",
       "    .dataframe thead tr:only-child th {\n",
       "        text-align: right;\n",
       "    }\n",
       "\n",
       "    .dataframe thead th {\n",
       "        text-align: left;\n",
       "    }\n",
       "\n",
       "    .dataframe tbody tr th {\n",
       "        vertical-align: top;\n",
       "    }\n",
       "</style>\n",
       "<table border=\"1\" class=\"dataframe\">\n",
       "  <thead>\n",
       "    <tr style=\"text-align: right;\">\n",
       "      <th></th>\n",
       "      <th>Brand</th>\n",
       "      <th>City</th>\n",
       "      <th>Distance(ten thousand km)</th>\n",
       "      <th>Emission_standard</th>\n",
       "      <th>Gears_Displacement</th>\n",
       "      <th>License_time</th>\n",
       "      <th>Price( ten thousand yuan GDP)</th>\n",
       "      <th>Title</th>\n",
       "      <th>Transfer</th>\n",
       "      <th>Gears</th>\n",
       "      <th>Displacement</th>\n",
       "      <th>month</th>\n",
       "      <th>year</th>\n",
       "      <th>use_age</th>\n",
       "      <th>Distance_levels</th>\n",
       "    </tr>\n",
       "  </thead>\n",
       "  <tbody>\n",
       "    <tr>\n",
       "      <th>0</th>\n",
       "      <td>奥迪</td>\n",
       "      <td>上海</td>\n",
       "      <td>0.021232</td>\n",
       "      <td>国V</td>\n",
       "      <td>自动／3L</td>\n",
       "      <td>Aug-18</td>\n",
       "      <td>0.042970</td>\n",
       "      <td>奥迪Q7 2016款 45 TFSI S line运动型</td>\n",
       "      <td>0.0</td>\n",
       "      <td>自动</td>\n",
       "      <td>0.441176</td>\n",
       "      <td>Aug</td>\n",
       "      <td>18</td>\n",
       "      <td>0~5</td>\n",
       "      <td>near</td>\n",
       "    </tr>\n",
       "    <tr>\n",
       "      <th>1</th>\n",
       "      <td>奥迪</td>\n",
       "      <td>深圳</td>\n",
       "      <td>0.122653</td>\n",
       "      <td>国IV</td>\n",
       "      <td>自动／2L</td>\n",
       "      <td>May-11</td>\n",
       "      <td>0.007309</td>\n",
       "      <td>奥迪A4L 2011款 2.0 TFSI 标准型</td>\n",
       "      <td>0.0</td>\n",
       "      <td>自动</td>\n",
       "      <td>0.294118</td>\n",
       "      <td>May</td>\n",
       "      <td>11</td>\n",
       "      <td>6~10</td>\n",
       "      <td>mid</td>\n",
       "    </tr>\n",
       "    <tr>\n",
       "      <th>2</th>\n",
       "      <td>奥迪</td>\n",
       "      <td>郑州</td>\n",
       "      <td>0.136691</td>\n",
       "      <td>欧IV</td>\n",
       "      <td>自动／2L</td>\n",
       "      <td>Nov-11</td>\n",
       "      <td>0.008028</td>\n",
       "      <td>奥迪A6L 2011款 2.0 TFSI 自动标准型</td>\n",
       "      <td>0.1</td>\n",
       "      <td>自动</td>\n",
       "      <td>0.294118</td>\n",
       "      <td>Nov</td>\n",
       "      <td>11</td>\n",
       "      <td>6~10</td>\n",
       "      <td>mid</td>\n",
       "    </tr>\n",
       "    <tr>\n",
       "      <th>3</th>\n",
       "      <td>奥迪</td>\n",
       "      <td>上海</td>\n",
       "      <td>0.108966</td>\n",
       "      <td>欧IV</td>\n",
       "      <td>自动／3.2L</td>\n",
       "      <td>Mar-11</td>\n",
       "      <td>0.010892</td>\n",
       "      <td>奥迪A5 2010款 3.2 coupe quattro</td>\n",
       "      <td>0.1</td>\n",
       "      <td>自动</td>\n",
       "      <td>0.470588</td>\n",
       "      <td>Mar</td>\n",
       "      <td>11</td>\n",
       "      <td>6~10</td>\n",
       "      <td>mid</td>\n",
       "    </tr>\n",
       "    <tr>\n",
       "      <th>4</th>\n",
       "      <td>奥迪</td>\n",
       "      <td>沈阳</td>\n",
       "      <td>0.092823</td>\n",
       "      <td>国IV(国V)</td>\n",
       "      <td>自动／3L</td>\n",
       "      <td>Jan-12</td>\n",
       "      <td>0.023508</td>\n",
       "      <td>奥迪A8 2012款 A8L 50 TFSI quattro尊贵型</td>\n",
       "      <td>0.1</td>\n",
       "      <td>自动</td>\n",
       "      <td>0.441176</td>\n",
       "      <td>Jan</td>\n",
       "      <td>12</td>\n",
       "      <td>6~10</td>\n",
       "      <td>mid</td>\n",
       "    </tr>\n",
       "  </tbody>\n",
       "</table>\n",
       "</div>"
      ],
      "text/plain": [
       "  Brand City  Distance(ten thousand km) Emission_standard Gears_Displacement  \\\n",
       "0    奥迪   上海                   0.021232                国V              自动／3L   \n",
       "1    奥迪   深圳                   0.122653               国IV              自动／2L   \n",
       "2    奥迪   郑州                   0.136691               欧IV              自动／2L   \n",
       "3    奥迪   上海                   0.108966               欧IV            自动／3.2L   \n",
       "4    奥迪   沈阳                   0.092823           国IV(国V)              自动／3L   \n",
       "\n",
       "  License_time  Price( ten thousand yuan GDP)  \\\n",
       "0       Aug-18                       0.042970   \n",
       "1       May-11                       0.007309   \n",
       "2       Nov-11                       0.008028   \n",
       "3       Mar-11                       0.010892   \n",
       "4       Jan-12                       0.023508   \n",
       "\n",
       "                               Title  Transfer Gears  Displacement month  \\\n",
       "0       奥迪Q7 2016款 45 TFSI S line运动型       0.0    自动      0.441176   Aug   \n",
       "1           奥迪A4L 2011款 2.0 TFSI 标准型       0.0    自动      0.294118   May   \n",
       "2         奥迪A6L 2011款 2.0 TFSI 自动标准型       0.1    自动      0.294118   Nov   \n",
       "3       奥迪A5 2010款 3.2 coupe quattro       0.1    自动      0.470588   Mar   \n",
       "4  奥迪A8 2012款 A8L 50 TFSI quattro尊贵型       0.1    自动      0.441176   Jan   \n",
       "\n",
       "   year use_age Distance_levels  \n",
       "0    18     0~5            near  \n",
       "1    11    6~10             mid  \n",
       "2    11    6~10             mid  \n",
       "3    11    6~10             mid  \n",
       "4    12    6~10             mid  "
      ]
     },
     "execution_count": 3,
     "metadata": {},
     "output_type": "execute_result"
    }
   ],
   "source": [
    "from sklearn.preprocessing import MinMaxScaler\n",
    "scaler = MinMaxScaler() # default=(0, 1)\n",
    "numerical = ['Distance(ten thousand km)', 'Price( ten thousand yuan GDP)', 'Transfer', 'Displacement']\n",
    "data[numerical] = scaler.fit_transform(data[numerical])\n",
    "data.head()"
   ]
  },
  {
   "cell_type": "markdown",
   "metadata": {},
   "source": [
    "### 转换非数字特征\n",
    "通常，学习算法都预期输入是数字，这就需要转换非数字特征（称为分类变量）。一种转换分类变量的常见方式是独热编码方法。独热编码会为每个非数字特征的每个可能类别创建一个_“虚拟”_变量。例如，假设 someFeature 有三个潜在条目：A、B 或 C。我们将此特征编码为 someFeature_A、someFeature_B 和 someFeature_C。"
   ]
  },
  {
   "cell_type": "code",
   "execution_count": 4,
   "metadata": {
    "collapsed": true
   },
   "outputs": [],
   "source": [
    "data['year'].astype(object)\n",
    "data = pd.get_dummies(data)"
   ]
  },
  {
   "cell_type": "code",
   "execution_count": 5,
   "metadata": {},
   "outputs": [
    {
     "data": {
      "text/html": [
       "<div>\n",
       "<style>\n",
       "    .dataframe thead tr:only-child th {\n",
       "        text-align: right;\n",
       "    }\n",
       "\n",
       "    .dataframe thead th {\n",
       "        text-align: left;\n",
       "    }\n",
       "\n",
       "    .dataframe tbody tr th {\n",
       "        vertical-align: top;\n",
       "    }\n",
       "</style>\n",
       "<table border=\"1\" class=\"dataframe\">\n",
       "  <thead>\n",
       "    <tr style=\"text-align: right;\">\n",
       "      <th></th>\n",
       "      <th>Distance(ten thousand km)</th>\n",
       "      <th>Price( ten thousand yuan GDP)</th>\n",
       "      <th>Transfer</th>\n",
       "      <th>Displacement</th>\n",
       "      <th>year</th>\n",
       "      <th>Brand_保时捷</th>\n",
       "      <th>Brand_别克</th>\n",
       "      <th>Brand_大众</th>\n",
       "      <th>Brand_奔驰</th>\n",
       "      <th>Brand_奥迪</th>\n",
       "      <th>...</th>\n",
       "      <th>month_Nov</th>\n",
       "      <th>month_Oct</th>\n",
       "      <th>month_Sep</th>\n",
       "      <th>month_未上牌</th>\n",
       "      <th>use_age_0~5</th>\n",
       "      <th>use_age_6~10</th>\n",
       "      <th>use_age_over 10</th>\n",
       "      <th>Distance_levels_far</th>\n",
       "      <th>Distance_levels_mid</th>\n",
       "      <th>Distance_levels_near</th>\n",
       "    </tr>\n",
       "  </thead>\n",
       "  <tbody>\n",
       "    <tr>\n",
       "      <th>0</th>\n",
       "      <td>0.021232</td>\n",
       "      <td>0.042970</td>\n",
       "      <td>0.0</td>\n",
       "      <td>0.441176</td>\n",
       "      <td>18</td>\n",
       "      <td>0</td>\n",
       "      <td>0</td>\n",
       "      <td>0</td>\n",
       "      <td>0</td>\n",
       "      <td>1</td>\n",
       "      <td>...</td>\n",
       "      <td>0</td>\n",
       "      <td>0</td>\n",
       "      <td>0</td>\n",
       "      <td>0</td>\n",
       "      <td>1</td>\n",
       "      <td>0</td>\n",
       "      <td>0</td>\n",
       "      <td>0</td>\n",
       "      <td>0</td>\n",
       "      <td>1</td>\n",
       "    </tr>\n",
       "    <tr>\n",
       "      <th>1</th>\n",
       "      <td>0.122653</td>\n",
       "      <td>0.007309</td>\n",
       "      <td>0.0</td>\n",
       "      <td>0.294118</td>\n",
       "      <td>11</td>\n",
       "      <td>0</td>\n",
       "      <td>0</td>\n",
       "      <td>0</td>\n",
       "      <td>0</td>\n",
       "      <td>1</td>\n",
       "      <td>...</td>\n",
       "      <td>0</td>\n",
       "      <td>0</td>\n",
       "      <td>0</td>\n",
       "      <td>0</td>\n",
       "      <td>0</td>\n",
       "      <td>1</td>\n",
       "      <td>0</td>\n",
       "      <td>0</td>\n",
       "      <td>1</td>\n",
       "      <td>0</td>\n",
       "    </tr>\n",
       "    <tr>\n",
       "      <th>2</th>\n",
       "      <td>0.136691</td>\n",
       "      <td>0.008028</td>\n",
       "      <td>0.1</td>\n",
       "      <td>0.294118</td>\n",
       "      <td>11</td>\n",
       "      <td>0</td>\n",
       "      <td>0</td>\n",
       "      <td>0</td>\n",
       "      <td>0</td>\n",
       "      <td>1</td>\n",
       "      <td>...</td>\n",
       "      <td>1</td>\n",
       "      <td>0</td>\n",
       "      <td>0</td>\n",
       "      <td>0</td>\n",
       "      <td>0</td>\n",
       "      <td>1</td>\n",
       "      <td>0</td>\n",
       "      <td>0</td>\n",
       "      <td>1</td>\n",
       "      <td>0</td>\n",
       "    </tr>\n",
       "    <tr>\n",
       "      <th>3</th>\n",
       "      <td>0.108966</td>\n",
       "      <td>0.010892</td>\n",
       "      <td>0.1</td>\n",
       "      <td>0.470588</td>\n",
       "      <td>11</td>\n",
       "      <td>0</td>\n",
       "      <td>0</td>\n",
       "      <td>0</td>\n",
       "      <td>0</td>\n",
       "      <td>1</td>\n",
       "      <td>...</td>\n",
       "      <td>0</td>\n",
       "      <td>0</td>\n",
       "      <td>0</td>\n",
       "      <td>0</td>\n",
       "      <td>0</td>\n",
       "      <td>1</td>\n",
       "      <td>0</td>\n",
       "      <td>0</td>\n",
       "      <td>1</td>\n",
       "      <td>0</td>\n",
       "    </tr>\n",
       "    <tr>\n",
       "      <th>4</th>\n",
       "      <td>0.092823</td>\n",
       "      <td>0.023508</td>\n",
       "      <td>0.1</td>\n",
       "      <td>0.441176</td>\n",
       "      <td>12</td>\n",
       "      <td>0</td>\n",
       "      <td>0</td>\n",
       "      <td>0</td>\n",
       "      <td>0</td>\n",
       "      <td>1</td>\n",
       "      <td>...</td>\n",
       "      <td>0</td>\n",
       "      <td>0</td>\n",
       "      <td>0</td>\n",
       "      <td>0</td>\n",
       "      <td>0</td>\n",
       "      <td>1</td>\n",
       "      <td>0</td>\n",
       "      <td>0</td>\n",
       "      <td>1</td>\n",
       "      <td>0</td>\n",
       "    </tr>\n",
       "  </tbody>\n",
       "</table>\n",
       "<p>5 rows × 7489 columns</p>\n",
       "</div>"
      ],
      "text/plain": [
       "   Distance(ten thousand km)  Price( ten thousand yuan GDP)  Transfer  \\\n",
       "0                   0.021232                       0.042970       0.0   \n",
       "1                   0.122653                       0.007309       0.0   \n",
       "2                   0.136691                       0.008028       0.1   \n",
       "3                   0.108966                       0.010892       0.1   \n",
       "4                   0.092823                       0.023508       0.1   \n",
       "\n",
       "   Displacement  year  Brand_保时捷  Brand_别克  Brand_大众  Brand_奔驰  Brand_奥迪  \\\n",
       "0      0.441176    18          0         0         0         0         1   \n",
       "1      0.294118    11          0         0         0         0         1   \n",
       "2      0.294118    11          0         0         0         0         1   \n",
       "3      0.470588    11          0         0         0         0         1   \n",
       "4      0.441176    12          0         0         0         0         1   \n",
       "\n",
       "           ...           month_Nov  month_Oct  month_Sep  month_未上牌  \\\n",
       "0          ...                   0          0          0          0   \n",
       "1          ...                   0          0          0          0   \n",
       "2          ...                   1          0          0          0   \n",
       "3          ...                   0          0          0          0   \n",
       "4          ...                   0          0          0          0   \n",
       "\n",
       "   use_age_0~5  use_age_6~10  use_age_over 10  Distance_levels_far  \\\n",
       "0            1             0                0                    0   \n",
       "1            0             1                0                    0   \n",
       "2            0             1                0                    0   \n",
       "3            0             1                0                    0   \n",
       "4            0             1                0                    0   \n",
       "\n",
       "   Distance_levels_mid  Distance_levels_near  \n",
       "0                    0                     1  \n",
       "1                    1                     0  \n",
       "2                    1                     0  \n",
       "3                    1                     0  \n",
       "4                    1                     0  \n",
       "\n",
       "[5 rows x 7489 columns]"
      ]
     },
     "execution_count": 5,
     "metadata": {},
     "output_type": "execute_result"
    }
   ],
   "source": [
    "data.head()"
   ]
  },
  {
   "cell_type": "markdown",
   "metadata": {},
   "source": [
    "### 数据拆分"
   ]
  },
  {
   "cell_type": "code",
   "execution_count": 6,
   "metadata": {
    "collapsed": true
   },
   "outputs": [],
   "source": [
    "# Split the data into features and target label\n",
    "label = data['Price( ten thousand yuan GDP)']\n",
    "features = data.drop('Price( ten thousand yuan GDP)', axis=1)"
   ]
  },
  {
   "cell_type": "code",
   "execution_count": 7,
   "metadata": {},
   "outputs": [
    {
     "name": "stdout",
     "output_type": "stream",
     "text": [
      "Training set has 65025 samples.\n",
      "Testing set has 16257 samples.\n"
     ]
    }
   ],
   "source": [
    "from sklearn.model_selection import train_test_split\n",
    "X_train, X_test, y_train, y_test = train_test_split(features,\n",
    "                                                    label,\n",
    "                                                    test_size = 0.2,\n",
    "                                                    random_state = 0)\n",
    "print(\"Training set has {} samples.\".format(X_train.shape[0]))\n",
    "print(\"Testing set has {} samples.\".format(X_test.shape[0]))"
   ]
  },
  {
   "cell_type": "markdown",
   "metadata": {
    "collapsed": true
   },
   "source": [
    "### 模型构建"
   ]
  },
  {
   "cell_type": "code",
   "execution_count": 14,
   "metadata": {
    "collapsed": true
   },
   "outputs": [],
   "source": [
    "from sklearn.metrics import make_scorer, r2_score\n",
    "from sklearn.tree import DecisionTreeRegressor\n",
    "from sklearn.model_selection import GridSearchCV, ShuffleSplit\n",
    "\n",
    "def fit_model(X, y):\n",
    "    # Create cross-validation sets from the training data\n",
    "    cv_sets = ShuffleSplit(n_splits=10, test_size=0.20, random_state=42)\n",
    "    regressor = DecisionTreeRegressor(random_state=42)\n",
    "    params = {'max_depth': np.arange(25,30)} \n",
    "    scoring_fnc = make_scorer(r2_score)\n",
    "    grid = GridSearchCV(regressor, params, scoring=scoring_fnc, cv=cv_sets)\n",
    "    grid = grid.fit(X, y)\n",
    "    return grid.best_estimator_"
   ]
  },
  {
   "cell_type": "code",
   "execution_count": 15,
   "metadata": {},
   "outputs": [
    {
     "name": "stdout",
     "output_type": "stream",
     "text": [
      "Parameter 'max_depth' is 28 for the optimal model.\n"
     ]
    }
   ],
   "source": [
    "reg = fit_model(X_train, y_train)\n",
    "print(\"Parameter 'max_depth' is {} for the optimal model.\".format(reg.get_params()['max_depth']))"
   ]
  },
  {
   "cell_type": "markdown",
   "metadata": {
    "collapsed": true
   },
   "source": [
    "### 模型评估"
   ]
  },
  {
   "cell_type": "code",
   "execution_count": 11,
   "metadata": {},
   "outputs": [
    {
     "name": "stdout",
     "output_type": "stream",
     "text": [
      "Optimal model has R^2 score 0.94 on test data\n"
     ]
    }
   ],
   "source": [
    "y_pred = reg.predict(X_test)\n",
    "r2 = r2_score(y_test, y_pred)\n",
    "print(\"Optimal model has R^2 score {:,.2f} on test data\".format(r2))"
   ]
  },
  {
   "cell_type": "code",
   "execution_count": null,
   "metadata": {},
   "outputs": [],
   "source": []
  },
  {
   "cell_type": "code",
   "execution_count": null,
   "metadata": {
    "collapsed": true
   },
   "outputs": [],
   "source": []
  }
 ],
 "metadata": {
  "kernelspec": {
   "display_name": "Python 3",
   "language": "python",
   "name": "python3"
  },
  "language_info": {
   "codemirror_mode": {
    "name": "ipython",
    "version": 3
   },
   "file_extension": ".py",
   "mimetype": "text/x-python",
   "name": "python",
   "nbconvert_exporter": "python",
   "pygments_lexer": "ipython3",
   "version": "3.6.3"
  }
 },
 "nbformat": 4,
 "nbformat_minor": 2
}
