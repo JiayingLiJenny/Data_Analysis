{
 "cells": [
  {
   "cell_type": "markdown",
   "metadata": {},
   "source": [
    "# 游戏销售情况分析\n",
    "![png](./pics/mind.png)\n",
    "\n",
    "## 一. 背景分析\n",
    "数据是关于Video Game1980～2016年的销售和评论数据,具体来自VGChartz的游戏销售数据和Metacritic的评论数据。\n",
    "\n",
    "数据来源：https://www.kaggle.com/rush4ratio/video-game-sales-with-ratings\n",
    "\n",
    "Variables:\n",
    "- Name:Name of the game\n",
    "- Platform: Console on which the game is running\n",
    "- Year_of_Release: Year of the game released\n",
    "- Genre: Game's category\n",
    "- Publisher: Publisher\n",
    "- NA_Sales: Game sales in North America (in millions of units)\n",
    "- EU_Sales: Game sales in the European Union (in millions of units)\n",
    "- JP_Sales: Game sales in Japan (in millions of units)\n",
    "- Other_Sales: Game sales in the rest of the world, i.e. Africa, Asia excluding Japan, Australia, Europe excluding the E.U. and South America (in millions of units)\n",
    "- Global_Sales: Total sales in the world (in millions of units)\n",
    "- Critic_Score: Aggregate score compiled by Metacritic staff\n",
    "- Critic_Count: The number of critics used in coming up with the Critic_score\n",
    "- User_Score: Score by Metacritic's subscribers\n",
    "- User_Count: Number of users who gave the user_score\n",
    "- Developer: Party responsible for creating the game\n",
    "- Rating: The ESRB ratings (E.g. Everyone, Teen, Adults Only..etc)\n",
    "该ESRB分级用于提供给消费者（尤其是家长）关于电脑或视频游戏的年龄适宜性的简便的可信赖的指导，以便消费者在购买时能够确定该游戏是否适宜其孩子或家庭。\n",
    "![png](./pics/rating.png)\n",
    "\n",
    "## 二.目标确定\n",
    "1. 了解游戏市场情况\n",
    "2. 找出影响销售的因素"
   ]
  },
  {
   "cell_type": "code",
   "execution_count": 1,
   "metadata": {
    "collapsed": true
   },
   "outputs": [],
   "source": [
    "import pandas as pd\n",
    "import numpy as np"
   ]
  },
  {
   "cell_type": "code",
   "execution_count": 2,
   "metadata": {},
   "outputs": [
    {
     "data": {
      "text/html": [
       "<div>\n",
       "<style>\n",
       "    .dataframe thead tr:only-child th {\n",
       "        text-align: right;\n",
       "    }\n",
       "\n",
       "    .dataframe thead th {\n",
       "        text-align: left;\n",
       "    }\n",
       "\n",
       "    .dataframe tbody tr th {\n",
       "        vertical-align: top;\n",
       "    }\n",
       "</style>\n",
       "<table border=\"1\" class=\"dataframe\">\n",
       "  <thead>\n",
       "    <tr style=\"text-align: right;\">\n",
       "      <th></th>\n",
       "      <th>Name</th>\n",
       "      <th>Platform</th>\n",
       "      <th>Year_of_Release</th>\n",
       "      <th>Genre</th>\n",
       "      <th>Publisher</th>\n",
       "      <th>NA_Sales</th>\n",
       "      <th>EU_Sales</th>\n",
       "      <th>JP_Sales</th>\n",
       "      <th>Other_Sales</th>\n",
       "      <th>Global_Sales</th>\n",
       "      <th>Critic_Score</th>\n",
       "      <th>Critic_Count</th>\n",
       "      <th>User_Score</th>\n",
       "      <th>User_Count</th>\n",
       "      <th>Developer</th>\n",
       "      <th>Rating</th>\n",
       "    </tr>\n",
       "  </thead>\n",
       "  <tbody>\n",
       "    <tr>\n",
       "      <th>0</th>\n",
       "      <td>Wii Sports</td>\n",
       "      <td>Wii</td>\n",
       "      <td>2006.0</td>\n",
       "      <td>Sports</td>\n",
       "      <td>Nintendo</td>\n",
       "      <td>41.36</td>\n",
       "      <td>28.96</td>\n",
       "      <td>3.77</td>\n",
       "      <td>8.45</td>\n",
       "      <td>82.53</td>\n",
       "      <td>76.0</td>\n",
       "      <td>51.0</td>\n",
       "      <td>8</td>\n",
       "      <td>322.0</td>\n",
       "      <td>Nintendo</td>\n",
       "      <td>E</td>\n",
       "    </tr>\n",
       "    <tr>\n",
       "      <th>1</th>\n",
       "      <td>Super Mario Bros.</td>\n",
       "      <td>NES</td>\n",
       "      <td>1985.0</td>\n",
       "      <td>Platform</td>\n",
       "      <td>Nintendo</td>\n",
       "      <td>29.08</td>\n",
       "      <td>3.58</td>\n",
       "      <td>6.81</td>\n",
       "      <td>0.77</td>\n",
       "      <td>40.24</td>\n",
       "      <td>NaN</td>\n",
       "      <td>NaN</td>\n",
       "      <td>NaN</td>\n",
       "      <td>NaN</td>\n",
       "      <td>NaN</td>\n",
       "      <td>NaN</td>\n",
       "    </tr>\n",
       "    <tr>\n",
       "      <th>2</th>\n",
       "      <td>Mario Kart Wii</td>\n",
       "      <td>Wii</td>\n",
       "      <td>2008.0</td>\n",
       "      <td>Racing</td>\n",
       "      <td>Nintendo</td>\n",
       "      <td>15.68</td>\n",
       "      <td>12.76</td>\n",
       "      <td>3.79</td>\n",
       "      <td>3.29</td>\n",
       "      <td>35.52</td>\n",
       "      <td>82.0</td>\n",
       "      <td>73.0</td>\n",
       "      <td>8.3</td>\n",
       "      <td>709.0</td>\n",
       "      <td>Nintendo</td>\n",
       "      <td>E</td>\n",
       "    </tr>\n",
       "    <tr>\n",
       "      <th>3</th>\n",
       "      <td>Wii Sports Resort</td>\n",
       "      <td>Wii</td>\n",
       "      <td>2009.0</td>\n",
       "      <td>Sports</td>\n",
       "      <td>Nintendo</td>\n",
       "      <td>15.61</td>\n",
       "      <td>10.93</td>\n",
       "      <td>3.28</td>\n",
       "      <td>2.95</td>\n",
       "      <td>32.77</td>\n",
       "      <td>80.0</td>\n",
       "      <td>73.0</td>\n",
       "      <td>8</td>\n",
       "      <td>192.0</td>\n",
       "      <td>Nintendo</td>\n",
       "      <td>E</td>\n",
       "    </tr>\n",
       "    <tr>\n",
       "      <th>4</th>\n",
       "      <td>Pokemon Red/Pokemon Blue</td>\n",
       "      <td>GB</td>\n",
       "      <td>1996.0</td>\n",
       "      <td>Role-Playing</td>\n",
       "      <td>Nintendo</td>\n",
       "      <td>11.27</td>\n",
       "      <td>8.89</td>\n",
       "      <td>10.22</td>\n",
       "      <td>1.00</td>\n",
       "      <td>31.37</td>\n",
       "      <td>NaN</td>\n",
       "      <td>NaN</td>\n",
       "      <td>NaN</td>\n",
       "      <td>NaN</td>\n",
       "      <td>NaN</td>\n",
       "      <td>NaN</td>\n",
       "    </tr>\n",
       "  </tbody>\n",
       "</table>\n",
       "</div>"
      ],
      "text/plain": [
       "                       Name Platform  Year_of_Release         Genre Publisher  \\\n",
       "0                Wii Sports      Wii           2006.0        Sports  Nintendo   \n",
       "1         Super Mario Bros.      NES           1985.0      Platform  Nintendo   \n",
       "2            Mario Kart Wii      Wii           2008.0        Racing  Nintendo   \n",
       "3         Wii Sports Resort      Wii           2009.0        Sports  Nintendo   \n",
       "4  Pokemon Red/Pokemon Blue       GB           1996.0  Role-Playing  Nintendo   \n",
       "\n",
       "   NA_Sales  EU_Sales  JP_Sales  Other_Sales  Global_Sales  Critic_Score  \\\n",
       "0     41.36     28.96      3.77         8.45         82.53          76.0   \n",
       "1     29.08      3.58      6.81         0.77         40.24           NaN   \n",
       "2     15.68     12.76      3.79         3.29         35.52          82.0   \n",
       "3     15.61     10.93      3.28         2.95         32.77          80.0   \n",
       "4     11.27      8.89     10.22         1.00         31.37           NaN   \n",
       "\n",
       "   Critic_Count User_Score  User_Count Developer Rating  \n",
       "0          51.0          8       322.0  Nintendo      E  \n",
       "1           NaN        NaN         NaN       NaN    NaN  \n",
       "2          73.0        8.3       709.0  Nintendo      E  \n",
       "3          73.0          8       192.0  Nintendo      E  \n",
       "4           NaN        NaN         NaN       NaN    NaN  "
      ]
     },
     "execution_count": 2,
     "metadata": {},
     "output_type": "execute_result"
    }
   ],
   "source": [
    "df = pd.read_csv('Games_Sales.csv')\n",
    "df.head()"
   ]
  },
  {
   "cell_type": "markdown",
   "metadata": {},
   "source": [
    "## 三. 数据清洗\n",
    "### 1.重复值检测\n",
    "经检测不存在重复值"
   ]
  },
  {
   "cell_type": "code",
   "execution_count": 36,
   "metadata": {},
   "outputs": [
    {
     "data": {
      "text/plain": [
       "0"
      ]
     },
     "execution_count": 36,
     "metadata": {},
     "output_type": "execute_result"
    }
   ],
   "source": [
    "df.duplicated().sum()"
   ]
  },
  {
   "cell_type": "markdown",
   "metadata": {},
   "source": [
    "### 2.缺失值检测"
   ]
  },
  {
   "cell_type": "code",
   "execution_count": 6,
   "metadata": {},
   "outputs": [
    {
     "data": {
      "text/html": [
       "<div>\n",
       "<style>\n",
       "    .dataframe thead tr:only-child th {\n",
       "        text-align: right;\n",
       "    }\n",
       "\n",
       "    .dataframe thead th {\n",
       "        text-align: left;\n",
       "    }\n",
       "\n",
       "    .dataframe tbody tr th {\n",
       "        vertical-align: top;\n",
       "    }\n",
       "</style>\n",
       "<table border=\"1\" class=\"dataframe\">\n",
       "  <thead>\n",
       "    <tr style=\"text-align: right;\">\n",
       "      <th></th>\n",
       "      <th>Name</th>\n",
       "      <th>Platform</th>\n",
       "      <th>Year_of_Release</th>\n",
       "      <th>Genre</th>\n",
       "      <th>Publisher</th>\n",
       "      <th>NA_Sales</th>\n",
       "      <th>EU_Sales</th>\n",
       "      <th>JP_Sales</th>\n",
       "      <th>Other_Sales</th>\n",
       "      <th>Global_Sales</th>\n",
       "      <th>Critic_Score</th>\n",
       "      <th>Critic_Count</th>\n",
       "      <th>User_Score</th>\n",
       "      <th>User_Count</th>\n",
       "      <th>Developer</th>\n",
       "      <th>Rating</th>\n",
       "    </tr>\n",
       "  </thead>\n",
       "  <tbody>\n",
       "    <tr>\n",
       "      <th>null values (nb)</th>\n",
       "      <td>2.000000</td>\n",
       "      <td>0.0</td>\n",
       "      <td>269.000000</td>\n",
       "      <td>2.000000</td>\n",
       "      <td>54.000000</td>\n",
       "      <td>0.0</td>\n",
       "      <td>0.0</td>\n",
       "      <td>0.0</td>\n",
       "      <td>0.0</td>\n",
       "      <td>0.0</td>\n",
       "      <td>8582.000000</td>\n",
       "      <td>8582.000000</td>\n",
       "      <td>6704.000000</td>\n",
       "      <td>9129.000000</td>\n",
       "      <td>6623.000000</td>\n",
       "      <td>6769.000000</td>\n",
       "    </tr>\n",
       "    <tr>\n",
       "      <th>null values (%)</th>\n",
       "      <td>0.011962</td>\n",
       "      <td>0.0</td>\n",
       "      <td>1.608948</td>\n",
       "      <td>0.011962</td>\n",
       "      <td>0.322986</td>\n",
       "      <td>0.0</td>\n",
       "      <td>0.0</td>\n",
       "      <td>0.0</td>\n",
       "      <td>0.0</td>\n",
       "      <td>0.0</td>\n",
       "      <td>51.330821</td>\n",
       "      <td>51.330821</td>\n",
       "      <td>40.098092</td>\n",
       "      <td>54.602548</td>\n",
       "      <td>39.613613</td>\n",
       "      <td>40.486871</td>\n",
       "    </tr>\n",
       "  </tbody>\n",
       "</table>\n",
       "</div>"
      ],
      "text/plain": [
       "                      Name  Platform  Year_of_Release     Genre  Publisher  \\\n",
       "null values (nb)  2.000000       0.0       269.000000  2.000000  54.000000   \n",
       "null values (%)   0.011962       0.0         1.608948  0.011962   0.322986   \n",
       "\n",
       "                  NA_Sales  EU_Sales  JP_Sales  Other_Sales  Global_Sales  \\\n",
       "null values (nb)       0.0       0.0       0.0          0.0           0.0   \n",
       "null values (%)        0.0       0.0       0.0          0.0           0.0   \n",
       "\n",
       "                  Critic_Score  Critic_Count   User_Score   User_Count  \\\n",
       "null values (nb)   8582.000000   8582.000000  6704.000000  9129.000000   \n",
       "null values (%)      51.330821     51.330821    40.098092    54.602548   \n",
       "\n",
       "                    Developer       Rating  \n",
       "null values (nb)  6623.000000  6769.000000  \n",
       "null values (%)     39.613613    40.486871  "
      ]
     },
     "metadata": {},
     "output_type": "display_data"
    }
   ],
   "source": [
    "def null_info(df):\n",
    "    info = pd.DataFrame(df.isnull().sum()).T.rename(index={0:'null values (nb)'})\n",
    "    info=info.append(pd.DataFrame(df.isnull().sum()/df.shape[0]*100).T.rename(index={0:'null values (%)'}))\n",
    "    display(info)\n",
    "null_info(df)"
   ]
  },
  {
   "cell_type": "markdown",
   "metadata": {
    "collapsed": true
   },
   "source": [
    "由于各地区以及总销售额均不存在缺失值，因此这里先暂不做处理。\n",
    "\n",
    "### 3. 异常值检测\n",
    "通过观察各地区和总销售额的分布情况判断是否存在异常值。"
   ]
  },
  {
   "cell_type": "code",
   "execution_count": 4,
   "metadata": {},
   "outputs": [
    {
     "data": {
      "text/html": [
       "<div>\n",
       "<style>\n",
       "    .dataframe thead tr:only-child th {\n",
       "        text-align: right;\n",
       "    }\n",
       "\n",
       "    .dataframe thead th {\n",
       "        text-align: left;\n",
       "    }\n",
       "\n",
       "    .dataframe tbody tr th {\n",
       "        vertical-align: top;\n",
       "    }\n",
       "</style>\n",
       "<table border=\"1\" class=\"dataframe\">\n",
       "  <thead>\n",
       "    <tr style=\"text-align: right;\">\n",
       "      <th></th>\n",
       "      <th>Year_of_Release</th>\n",
       "      <th>NA_Sales</th>\n",
       "      <th>EU_Sales</th>\n",
       "      <th>JP_Sales</th>\n",
       "      <th>Other_Sales</th>\n",
       "      <th>Global_Sales</th>\n",
       "      <th>Critic_Score</th>\n",
       "      <th>Critic_Count</th>\n",
       "      <th>User_Count</th>\n",
       "    </tr>\n",
       "  </thead>\n",
       "  <tbody>\n",
       "    <tr>\n",
       "      <th>count</th>\n",
       "      <td>16450.000000</td>\n",
       "      <td>16719.000000</td>\n",
       "      <td>16719.000000</td>\n",
       "      <td>16719.000000</td>\n",
       "      <td>16719.000000</td>\n",
       "      <td>16719.000000</td>\n",
       "      <td>8137.000000</td>\n",
       "      <td>8137.000000</td>\n",
       "      <td>7590.000000</td>\n",
       "    </tr>\n",
       "    <tr>\n",
       "      <th>mean</th>\n",
       "      <td>2006.487356</td>\n",
       "      <td>0.263330</td>\n",
       "      <td>0.145025</td>\n",
       "      <td>0.077602</td>\n",
       "      <td>0.047332</td>\n",
       "      <td>0.533543</td>\n",
       "      <td>68.967679</td>\n",
       "      <td>26.360821</td>\n",
       "      <td>162.229908</td>\n",
       "    </tr>\n",
       "    <tr>\n",
       "      <th>std</th>\n",
       "      <td>5.878995</td>\n",
       "      <td>0.813514</td>\n",
       "      <td>0.503283</td>\n",
       "      <td>0.308818</td>\n",
       "      <td>0.186710</td>\n",
       "      <td>1.547935</td>\n",
       "      <td>13.938165</td>\n",
       "      <td>18.980495</td>\n",
       "      <td>561.282326</td>\n",
       "    </tr>\n",
       "    <tr>\n",
       "      <th>min</th>\n",
       "      <td>1980.000000</td>\n",
       "      <td>0.000000</td>\n",
       "      <td>0.000000</td>\n",
       "      <td>0.000000</td>\n",
       "      <td>0.000000</td>\n",
       "      <td>0.010000</td>\n",
       "      <td>13.000000</td>\n",
       "      <td>3.000000</td>\n",
       "      <td>4.000000</td>\n",
       "    </tr>\n",
       "    <tr>\n",
       "      <th>25%</th>\n",
       "      <td>2003.000000</td>\n",
       "      <td>0.000000</td>\n",
       "      <td>0.000000</td>\n",
       "      <td>0.000000</td>\n",
       "      <td>0.000000</td>\n",
       "      <td>0.060000</td>\n",
       "      <td>60.000000</td>\n",
       "      <td>12.000000</td>\n",
       "      <td>10.000000</td>\n",
       "    </tr>\n",
       "    <tr>\n",
       "      <th>50%</th>\n",
       "      <td>2007.000000</td>\n",
       "      <td>0.080000</td>\n",
       "      <td>0.020000</td>\n",
       "      <td>0.000000</td>\n",
       "      <td>0.010000</td>\n",
       "      <td>0.170000</td>\n",
       "      <td>71.000000</td>\n",
       "      <td>21.000000</td>\n",
       "      <td>24.000000</td>\n",
       "    </tr>\n",
       "    <tr>\n",
       "      <th>75%</th>\n",
       "      <td>2010.000000</td>\n",
       "      <td>0.240000</td>\n",
       "      <td>0.110000</td>\n",
       "      <td>0.040000</td>\n",
       "      <td>0.030000</td>\n",
       "      <td>0.470000</td>\n",
       "      <td>79.000000</td>\n",
       "      <td>36.000000</td>\n",
       "      <td>81.000000</td>\n",
       "    </tr>\n",
       "    <tr>\n",
       "      <th>max</th>\n",
       "      <td>2020.000000</td>\n",
       "      <td>41.360000</td>\n",
       "      <td>28.960000</td>\n",
       "      <td>10.220000</td>\n",
       "      <td>10.570000</td>\n",
       "      <td>82.530000</td>\n",
       "      <td>98.000000</td>\n",
       "      <td>113.000000</td>\n",
       "      <td>10665.000000</td>\n",
       "    </tr>\n",
       "  </tbody>\n",
       "</table>\n",
       "</div>"
      ],
      "text/plain": [
       "       Year_of_Release      NA_Sales      EU_Sales      JP_Sales  \\\n",
       "count     16450.000000  16719.000000  16719.000000  16719.000000   \n",
       "mean       2006.487356      0.263330      0.145025      0.077602   \n",
       "std           5.878995      0.813514      0.503283      0.308818   \n",
       "min        1980.000000      0.000000      0.000000      0.000000   \n",
       "25%        2003.000000      0.000000      0.000000      0.000000   \n",
       "50%        2007.000000      0.080000      0.020000      0.000000   \n",
       "75%        2010.000000      0.240000      0.110000      0.040000   \n",
       "max        2020.000000     41.360000     28.960000     10.220000   \n",
       "\n",
       "        Other_Sales  Global_Sales  Critic_Score  Critic_Count    User_Count  \n",
       "count  16719.000000  16719.000000   8137.000000   8137.000000   7590.000000  \n",
       "mean       0.047332      0.533543     68.967679     26.360821    162.229908  \n",
       "std        0.186710      1.547935     13.938165     18.980495    561.282326  \n",
       "min        0.000000      0.010000     13.000000      3.000000      4.000000  \n",
       "25%        0.000000      0.060000     60.000000     12.000000     10.000000  \n",
       "50%        0.010000      0.170000     71.000000     21.000000     24.000000  \n",
       "75%        0.030000      0.470000     79.000000     36.000000     81.000000  \n",
       "max       10.570000     82.530000     98.000000    113.000000  10665.000000  "
      ]
     },
     "execution_count": 4,
     "metadata": {},
     "output_type": "execute_result"
    }
   ],
   "source": [
    "df.describe()"
   ]
  },
  {
   "cell_type": "markdown",
   "metadata": {},
   "source": [
    "## 四.游戏市场情况分析\n",
    "\n",
    "从以下多个维度进行分析：\n",
    "\n",
    "平台、类别、等级（即适合年龄）、（评审员）评分、（评审员）评分数、（用户）评分、（用户）评分数、发布年份。\n",
    "\n",
    "### 1.哪个平台的游戏数量最多/最少？\n",
    "![png](./pics/n_platform.png)"
   ]
  },
  {
   "cell_type": "markdown",
   "metadata": {},
   "source": [
    "** 分析 **\n",
    "\n",
    "使用PS2和DS平台的游戏最多，均超过2200多种，而使用其他平台的游戏都不到1500。\n",
    "\n",
    "### 2.哪种类别的游戏数量最多/最少？\n",
    "![png](./pics/n_genre.png)"
   ]
  },
  {
   "cell_type": "markdown",
   "metadata": {},
   "source": [
    "** 分析 **\n",
    "\n",
    "市场上属于Action和Sports类别的游戏最多，Puzzle最少。\n",
    "\n",
    "### 3. 哪个等级的游戏数量最多/最少？\n",
    "![png](./pics/n_rating.png)"
   ]
  },
  {
   "cell_type": "markdown",
   "metadata": {},
   "source": [
    "** 分析 **\n",
    "\n",
    "市面上游戏等级为E（即适合所有人）的游戏最多，其次是T（青少年13+）和M（成熟期17+），EC、RP、K-A、AO等级的游戏非常少。\n",
    "\n",
    "### 4.游戏（评审员）评分的分布情况\n",
    "![png](./pics/n_critic_score.png)"
   ]
  },
  {
   "cell_type": "markdown",
   "metadata": {},
   "source": [
    "** 分析 **\n",
    "\n",
    "评审员给大部分游戏的评分在60～85之间（100分为满分），高分和低分段的都比较少。"
   ]
  },
  {
   "cell_type": "markdown",
   "metadata": {},
   "source": [
    "### 5. 游戏（评审员）评分数的分布情况\n",
    "![png](./pics/n_critic_count.png)"
   ]
  },
  {
   "cell_type": "markdown",
   "metadata": {},
   "source": [
    "** 分析 **\n",
    "\n",
    "大部分游戏获得的评审员的评分数并不多，在50个以内，超过100的少之又少。\n",
    "\n",
    "### 6.游戏（用户）评分的分布情况\n",
    "![png](./pics/n_user_score.png)"
   ]
  },
  {
   "cell_type": "markdown",
   "metadata": {},
   "source": [
    "** 分析 **\n",
    "\n",
    "用户给大部分游戏的评分在7～9之间（10分为满分），与评审员给出的评分相似，高分和低分段的都比较少。"
   ]
  },
  {
   "cell_type": "markdown",
   "metadata": {},
   "source": [
    "### 7.游戏（用户）评分数的分布情况\n",
    "![png](./pics/n_user_count.png)"
   ]
  },
  {
   "cell_type": "markdown",
   "metadata": {},
   "source": [
    "** 分析 **\n",
    "\n",
    "大部分游戏获得的用户的评分数并不多，几乎都在100人以内。"
   ]
  },
  {
   "cell_type": "markdown",
   "metadata": {},
   "source": [
    "### 8. 游戏发布年份分布情况\n",
    "![png](./pics/n_year.png)"
   ]
  },
  {
   "cell_type": "markdown",
   "metadata": {},
   "source": [
    "** 分析 **\n",
    "\n",
    "从1980年到2008年间，游戏呈快速增长阶段，2008和2009达到峰值，2008～2013年间出现极速减少，一方面原因是因为这部分数据并不全，并非记录了所有的游戏数据，另一方面虽然发布的游戏数有所减少，但游戏总量仍在增加。\n",
    "\n",
    "### 9.最受欢迎的游戏\n",
    "![png](./pics/Top10_games.png)"
   ]
  },
  {
   "cell_type": "markdown",
   "metadata": {},
   "source": [
    "** 分析 **\n",
    "\n",
    "图中为总销售额排名前10的游戏，其中Will Spoorts是销售额最高的游戏，说明此游戏非常受用户喜爱。\n",
    "\n",
    "### 10.最受欢迎的开发者\n",
    "![png](./pics/Top10_developer.png)"
   ]
  },
  {
   "cell_type": "markdown",
   "metadata": {},
   "source": [
    "** 分析 **\n",
    "\n",
    "图中为总销售额排名前10的开发者，其中Nintendo是销售额最高的，即最受玩家喜爱的开发者。\n",
    "\n",
    "### 11.最受欢迎的发行商\n",
    "![png](./pics/Top10_publisher.png)"
   ]
  },
  {
   "cell_type": "markdown",
   "metadata": {},
   "source": [
    "** 分析 **\n",
    "\n",
    "图中为总销售额排名前10的发行商，其中Nintendo是销售额最高的。\n",
    "\n",
    "## 五.销售影响因素分析\n",
    "分析影响销售的相关原因\n",
    "\n",
    "从游戏平台、类型、级别（也就是适合年龄）、评论者评分和数量、用户评分和数量多个维度进行分析。\n",
    "\n",
    "如果某个地区在售的游戏数量越多，总销售额也可能越多。而总销售额 = 游戏数量*平均销售额。\n",
    "\n",
    "为了更好评估影响因素，这里的指标采用平均销售额。通过找出不同平台、类型、级别，评分和其数量的平均销售额，来判断对销售额的影响大小，如果差异小说明该维度对销售额影响不大，否则说明此维度是影响销售额的重要因素之一"
   ]
  },
  {
   "cell_type": "markdown",
   "metadata": {
    "collapsed": true
   },
   "source": [
    "### 1. 平台"
   ]
  },
  {
   "cell_type": "markdown",
   "metadata": {},
   "source": [
    "![png](./pics/s_platform.png)"
   ]
  },
  {
   "cell_type": "markdown",
   "metadata": {},
   "source": [
    "** 分析 **\n",
    "\n",
    "游戏使用平台为GB和NES的平均销售额最高，是其他平台的两倍或以上。结合前面分析的考虑，市场上游戏平台占有率最高的PS2和DS平台的平均销售额并不是最高的。\n",
    "\n",
    "### 2. 类型\n",
    "![png](./pics/s_genre.png)"
   ]
  },
  {
   "cell_type": "markdown",
   "metadata": {},
   "source": [
    "** 分析 **\n",
    "\n",
    "游戏类别为Platform的平均销售额最高，接下来是Shooter类型的游戏，可见多数玩家喜欢这两种类别的游戏,然而这两类游戏的市场在售数量并不是最多的。\n",
    "### 3. 等级（即适合人群）\n",
    "![png](./pics/s_rating.png)"
   ]
  },
  {
   "cell_type": "markdown",
   "metadata": {},
   "source": [
    "** 分析 **\n",
    "\n",
    "等级为AO，即适合人群为成人的游戏平均销售额最高。但此类游戏在市场上的数量是最少的（结合前面的分析）。\n",
    "\n",
    "### 4. 评审员评分\n",
    "![png](./pics/s_critic_score.png)"
   ]
  },
  {
   "cell_type": "markdown",
   "metadata": {},
   "source": [
    "** 分析 **\n",
    "\n",
    "总体而言，评审员的评分越高，游戏的平均销售额越高，小于80分的区别不大，但当评分大于80分后，开始发生很大的差异。\n",
    "### 5. 评审员评分数量\n",
    "![png](./pics/s_critic_count.png)"
   ]
  },
  {
   "cell_type": "markdown",
   "metadata": {},
   "source": [
    "** 分析 **\n",
    "\n",
    "评审员的评分数量对平均销售额的影响呈现非规律性，但大多数平均销售额大的游戏，会得到更多评审员的评分。\n",
    "### 6. 用户评分\n",
    "![png](./pics/s_user_score.png)"
   ]
  },
  {
   "cell_type": "markdown",
   "metadata": {},
   "source": [
    "** 分析 **\n",
    "\n",
    "用户评分对游戏的平均销售额影响并不大，评分越高的游戏平均销售额并不会越高，这与评审员评分有差别。\n",
    "### 7. 用户评分数量\n",
    "![png](./pics/s_user_count.png)"
   ]
  },
  {
   "cell_type": "markdown",
   "metadata": {},
   "source": [
    "** 分析 **\n",
    "\n",
    "大多数游戏得到用户的评分量都在2k以内，用户评分量对平均销售额也没有什么影响。\n",
    "\n",
    "\n",
    "### 小结1\n",
    "\n",
    "综上所述，对销售有影响的因素主要有：\n",
    "游戏平台，类型，等级（即适合人群），评审员评分。\n",
    "### 小结2\n",
    "1. 市场上游戏平台占有率最高是PS2和DS平台，但游戏使用平台为GB和NES的平均销售额最高。\n",
    "\n",
    "2. 多数玩家喜欢Platform和Shooter类型的游戏，但这两类游戏在市场上的销售量并非是最多的，市场上属于Action和Sports类别的游戏数量最多。\n",
    "\n",
    "3. 等级为AO，即适合人群为成人的游戏平均销售额最高。但此类游戏在市场上的数量是最少的，市场上数量最多的游戏是E等级，即适合所有用户玩的游戏。\n",
    "\n",
    "4. 评审员的评分越高，销售额也越高，评分数量和用户评分对销售额影响不大。\n",
    "\n",
    "## 六.不同地区的销售情况分析\n",
    "不同地区的销售情况不同，为了更精细的分析销售情况，接下来将从平台、类别、等级这几个维度对不同地区的销售情况进行分析。\n",
    "\n",
    "- NA_Sales: Game sales in North America (in millions of units)\n",
    "- EU_Sales: Game sales in the European Union (in millions of units)\n",
    "- JP_Sales: Game sales in Japan (in millions of units)\n",
    "- Other_Sales: Game sales in the rest of the world, i.e. Africa, Asia excluding Japan, Australia, Europe excluding the E.U. and South America (in millions of units)\n",
    "\n",
    "### 1. 平台\n",
    "![png](./pics/c_platform.png)"
   ]
  },
  {
   "cell_type": "markdown",
   "metadata": {},
   "source": [
    "** 分析 **\n",
    "\n",
    "North America和Japan的玩家较喜欢NES平台的游戏，European Union的玩家较喜欢GB平台的游戏，而其他地区的玩家更喜欢PS4平台的游戏。\n",
    "\n",
    "### 2. 类别\n",
    "![png](./pics/c_genre.png)"
   ]
  },
  {
   "cell_type": "markdown",
   "metadata": {},
   "source": [
    "** 分析 **\n",
    "\n",
    "North America的玩家较喜欢Platform类别的游戏，Japan的玩家较喜欢Role-Playing类别的游戏，European Union和其他地区的玩家较喜欢Shooter类别的游戏。\n",
    "### 3. 等级（适合群体）\n",
    "![png](./pics/c_rating.png)"
   ]
  },
  {
   "cell_type": "markdown",
   "metadata": {
    "collapsed": true
   },
   "source": [
    "** 分析 **\n",
    "\n",
    "North America和European Union的玩家较喜欢AO（即成人类）的游戏，Japan的玩家较喜欢K-A等级的游戏，而其他地区的玩家更喜欢M（即17+）等级的游戏。\n",
    "\n",
    "### 小结3\n",
    "1. North America的玩家较喜欢NES平台、Platform类别、AO（即成人类）等级的游戏\n",
    "2. European Union的玩家较喜欢GB平台、Shooter类别、AO（即成人类）等级的游戏\n",
    "3. Japan的玩家较喜欢NES平台、Role-Playing类别、K-A等级的游戏\n"
   ]
  },
  {
   "cell_type": "code",
   "execution_count": null,
   "metadata": {
    "collapsed": true
   },
   "outputs": [],
   "source": []
  },
  {
   "cell_type": "code",
   "execution_count": null,
   "metadata": {
    "collapsed": true
   },
   "outputs": [],
   "source": []
  },
  {
   "cell_type": "code",
   "execution_count": null,
   "metadata": {
    "collapsed": true
   },
   "outputs": [],
   "source": []
  }
 ],
 "metadata": {
  "kernelspec": {
   "display_name": "Python 3",
   "language": "python",
   "name": "python3"
  },
  "language_info": {
   "codemirror_mode": {
    "name": "ipython",
    "version": 3
   },
   "file_extension": ".py",
   "mimetype": "text/x-python",
   "name": "python",
   "nbconvert_exporter": "python",
   "pygments_lexer": "ipython3",
   "version": "3.6.3"
  }
 },
 "nbformat": 4,
 "nbformat_minor": 2
}
