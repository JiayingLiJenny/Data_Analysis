{
 "cells": [
  {
   "cell_type": "markdown",
   "metadata": {},
   "source": [
    "# 项目：电商平台店铺情况分析（基于shopee平台女装类店铺数据）\n",
    "\n",
    "\n",
    "<img src=\"思维导图.png\" width=\"800\"  align=left />"
   ]
  },
  {
   "cell_type": "markdown",
   "metadata": {},
   "source": [
    "## 一. 背景分析\n",
    "\n",
    "2008-2011年：电商的萌芽，由于互联网服务的普及性和计算机的使用率大大提高，导致了电子商务的产生。\n",
    "2012-2014年：电商平台的大量涌现，电子商务在21世纪的发展为新电商平台的发展奠定了基础。\n",
    "2015-2017年：电子商务的转折点，截至2014年底，全球电子商务（B2C）的销售额首次超过1万亿美元，各大洲均实现了两位数的增长。\n",
    "\n",
    "为了扩大业务，增长利益，越来越多的商铺入驻各大电商平台。然而可观的利益之下也伴随着激烈的竞争。已入驻电商平台的这些店铺现在情况如何？它们受客户的关注度是否随时间而增长了？客户对这些店铺的评分如何？我们知道商品对店铺的影响起到非常重要的作用，那么除去商品，还有哪些因素会影响到一家店铺的经营情况呢？带着这诸多的疑问，开始了这个项目。\n",
    "\n",
    "此次项目选取shopee电商平台，之所以选择了shopee平台，是因为Shopee是一家东南亚与台湾市场电商平台，它与国内的电商（如淘宝，京东等）不同，国内电商已经发展较为成熟，五年、八年老店随处可见，粉丝量也非常庞大少则几万多则几十万甚至上百万。而由于国家、地域等因素的区别，东南亚电商仍然相对较新，并且刚刚开始走向成熟。\n",
    "\n",
    "选择其中一个分类是因为不同类目的店铺其商品数，发货速度，粉丝数都可能会不一样（如：服装类店铺可能比某个牌子的手机店铺商品种类更多；生鲜食品类店铺发货/运输速度可能要比家居类店铺快），因此这里只选取其中一类进行分析，女装是一个常见分类而且也是人们喜欢通过网上购买的商品之一。\n",
    "\n",
    "## 二. 目标分析\n",
    "\n",
    "通过从多角度分析店铺数据，给即将入驻或已入驻电商平台的商家提供参考，帮助了解目前竞争环境。\n",
    "\n",
    "\n",
    "\n",
    "## 三. 数据获取\n",
    "\n",
    "数据爬取自：https://shopee.sg/ 的“Women's Apparel”分类店铺。\n",
    "\n",
    "数据获取于2018年10月23日。\n",
    "\n",
    "包括Shops，Products，Following，Chat_Performance(%)，Followers，Rating，Joined，Ship_Out_Time 8个变量。\n",
    "\n",
    "\n",
    "## 四. 数据清洗\n",
    "[跳转到数据清洗页面](#cleanData)\n",
    "\n",
    "## 五. 数据分析\n",
    "[跳转到数据分析页面](#DataAnalysis)\n",
    "\n",
    "## 六. 分析报告\n",
    "[跳转到分析报告页面](#report)\n",
    "\n",
    "### 此项目不足之处和可能改进的方法：\n",
    "\n",
    "1. 样本数据较少，仅能代表一部分情况，不能以偏概全。\n",
    "2. 数据仅来自shopee新加坡平台，未包括其他国家和地区，不同国家和地区的店铺情况可能不相同。\n",
    "3. 还可以再获取国内电商平台数据进行比较分析，或是同一平台下不同分类店铺数据进行比较分析，这样对于商家来说可能更具参考性。"
   ]
  },
  {
   "cell_type": "code",
   "execution_count": 1,
   "metadata": {
    "collapsed": true
   },
   "outputs": [],
   "source": [
    "import pandas as pd"
   ]
  },
  {
   "cell_type": "code",
   "execution_count": 2,
   "metadata": {},
   "outputs": [
    {
     "data": {
      "text/html": [
       "<div>\n",
       "<style>\n",
       "    .dataframe thead tr:only-child th {\n",
       "        text-align: right;\n",
       "    }\n",
       "\n",
       "    .dataframe thead th {\n",
       "        text-align: left;\n",
       "    }\n",
       "\n",
       "    .dataframe tbody tr th {\n",
       "        vertical-align: top;\n",
       "    }\n",
       "</style>\n",
       "<table border=\"1\" class=\"dataframe\">\n",
       "  <thead>\n",
       "    <tr style=\"text-align: right;\">\n",
       "      <th></th>\n",
       "      <th>Shops</th>\n",
       "      <th>Products</th>\n",
       "      <th>Following</th>\n",
       "      <th>Chat_Performance(%)</th>\n",
       "      <th>Followers</th>\n",
       "      <th>Rating</th>\n",
       "      <th>Joined</th>\n",
       "      <th>Ship_Out_Time</th>\n",
       "    </tr>\n",
       "  </thead>\n",
       "  <tbody>\n",
       "    <tr>\n",
       "      <th>0</th>\n",
       "      <td>fashionicon</td>\n",
       "      <td>1550</td>\n",
       "      <td>4834</td>\n",
       "      <td>0.80</td>\n",
       "      <td>4533</td>\n",
       "      <td>4.4 (1526 Rating)</td>\n",
       "      <td>20 Months Ago</td>\n",
       "      <td>Slow (2-4Days)</td>\n",
       "    </tr>\n",
       "    <tr>\n",
       "      <th>1</th>\n",
       "      <td>superhappybuy</td>\n",
       "      <td>3071</td>\n",
       "      <td>165</td>\n",
       "      <td>0.88</td>\n",
       "      <td>806</td>\n",
       "      <td>4.5 (2077  Rating)</td>\n",
       "      <td>11 Months Ago</td>\n",
       "      <td>Fast (1-2Days)</td>\n",
       "    </tr>\n",
       "    <tr>\n",
       "      <th>2</th>\n",
       "      <td>megabox</td>\n",
       "      <td>5312</td>\n",
       "      <td>75</td>\n",
       "      <td>0.78</td>\n",
       "      <td>463</td>\n",
       "      <td>4.5 (1331 Rating)</td>\n",
       "      <td>27 Months Ago</td>\n",
       "      <td>Slow (2-4Days)</td>\n",
       "    </tr>\n",
       "    <tr>\n",
       "      <th>3</th>\n",
       "      <td>popshop</td>\n",
       "      <td>2471</td>\n",
       "      <td>1</td>\n",
       "      <td>0.80</td>\n",
       "      <td>1277</td>\n",
       "      <td>4.4 (6462 Rating)</td>\n",
       "      <td>13 Months Ago</td>\n",
       "      <td>Fast (1-2Days)</td>\n",
       "    </tr>\n",
       "    <tr>\n",
       "      <th>4</th>\n",
       "      <td>xiaozhainv</td>\n",
       "      <td>2845</td>\n",
       "      <td>3216</td>\n",
       "      <td>0.95</td>\n",
       "      <td>10776</td>\n",
       "      <td>4.7 (27889 Rating)</td>\n",
       "      <td>16 Months Ago</td>\n",
       "      <td>Slow (2-4Days)</td>\n",
       "    </tr>\n",
       "  </tbody>\n",
       "</table>\n",
       "</div>"
      ],
      "text/plain": [
       "           Shops  Products  Following  Chat_Performance(%)  Followers  \\\n",
       "0    fashionicon      1550       4834                 0.80       4533   \n",
       "1  superhappybuy      3071        165                 0.88        806   \n",
       "2        megabox      5312         75                 0.78        463   \n",
       "3        popshop      2471          1                 0.80       1277   \n",
       "4     xiaozhainv      2845       3216                 0.95      10776   \n",
       "\n",
       "               Rating         Joined   Ship_Out_Time  \n",
       "0   4.4 (1526 Rating)  20 Months Ago  Slow (2-4Days)  \n",
       "1  4.5 (2077  Rating)  11 Months Ago  Fast (1-2Days)  \n",
       "2   4.5 (1331 Rating)  27 Months Ago  Slow (2-4Days)  \n",
       "3   4.4 (6462 Rating)  13 Months Ago  Fast (1-2Days)  \n",
       "4  4.7 (27889 Rating)  16 Months Ago  Slow (2-4Days)  "
      ]
     },
     "execution_count": 2,
     "metadata": {},
     "output_type": "execute_result"
    }
   ],
   "source": [
    "df = pd.read_excel('shops.xlsx', sheet_name='Sheet1')\n",
    "df.head()"
   ]
  },
  {
   "cell_type": "markdown",
   "metadata": {},
   "source": [
    "<div id='cleanData'></div>\n",
    "## 四.数据清洗 \n",
    "\n",
    "由于在数据获取的过程中已经进行了去重操作，因此接下来主要是对各属性进行清洗操作。"
   ]
  },
  {
   "cell_type": "markdown",
   "metadata": {},
   "source": [
    "### 1. 处理\"Rating\"\n",
    "把Rating拆分成两列，分别包括平均分数以及评分的个数。\n",
    "\n",
    "再对分数进行区间划分，分成高低两类。"
   ]
  },
  {
   "cell_type": "code",
   "execution_count": 3,
   "metadata": {},
   "outputs": [
    {
     "data": {
      "text/html": [
       "<div>\n",
       "<style>\n",
       "    .dataframe thead tr:only-child th {\n",
       "        text-align: right;\n",
       "    }\n",
       "\n",
       "    .dataframe thead th {\n",
       "        text-align: left;\n",
       "    }\n",
       "\n",
       "    .dataframe tbody tr th {\n",
       "        vertical-align: top;\n",
       "    }\n",
       "</style>\n",
       "<table border=\"1\" class=\"dataframe\">\n",
       "  <thead>\n",
       "    <tr style=\"text-align: right;\">\n",
       "      <th></th>\n",
       "      <th>Shops</th>\n",
       "      <th>Products</th>\n",
       "      <th>Following</th>\n",
       "      <th>Chat_Performance(%)</th>\n",
       "      <th>Followers</th>\n",
       "      <th>Rating</th>\n",
       "      <th>Joined</th>\n",
       "      <th>Ship_Out_Time</th>\n",
       "      <th>Rating_AvgScore</th>\n",
       "      <th>Rating_Num</th>\n",
       "    </tr>\n",
       "  </thead>\n",
       "  <tbody>\n",
       "    <tr>\n",
       "      <th>0</th>\n",
       "      <td>fashionicon</td>\n",
       "      <td>1550</td>\n",
       "      <td>4834</td>\n",
       "      <td>0.80</td>\n",
       "      <td>4533</td>\n",
       "      <td>4.4 (1526 Rating)</td>\n",
       "      <td>20 Months Ago</td>\n",
       "      <td>Slow (2-4Days)</td>\n",
       "      <td>4.4</td>\n",
       "      <td>1526</td>\n",
       "    </tr>\n",
       "    <tr>\n",
       "      <th>1</th>\n",
       "      <td>superhappybuy</td>\n",
       "      <td>3071</td>\n",
       "      <td>165</td>\n",
       "      <td>0.88</td>\n",
       "      <td>806</td>\n",
       "      <td>4.5 (2077  Rating)</td>\n",
       "      <td>11 Months Ago</td>\n",
       "      <td>Fast (1-2Days)</td>\n",
       "      <td>4.5</td>\n",
       "      <td>2077</td>\n",
       "    </tr>\n",
       "  </tbody>\n",
       "</table>\n",
       "</div>"
      ],
      "text/plain": [
       "           Shops  Products  Following  Chat_Performance(%)  Followers  \\\n",
       "0    fashionicon      1550       4834                 0.80       4533   \n",
       "1  superhappybuy      3071        165                 0.88        806   \n",
       "\n",
       "               Rating         Joined   Ship_Out_Time  Rating_AvgScore  \\\n",
       "0   4.4 (1526 Rating)  20 Months Ago  Slow (2-4Days)              4.4   \n",
       "1  4.5 (2077  Rating)  11 Months Ago  Fast (1-2Days)              4.5   \n",
       "\n",
       "   Rating_Num  \n",
       "0        1526  \n",
       "1        2077  "
      ]
     },
     "execution_count": 3,
     "metadata": {},
     "output_type": "execute_result"
    }
   ],
   "source": [
    "df['Rating_AvgScore']=df.Rating.str.split(' ',expand=True)[0].astype('float64')\n",
    "df['Rating_Num'] = df.Rating.str.split(' ',expand=True)[1].str.strip('(').astype('int64')\n",
    "df.head(2)"
   ]
  },
  {
   "cell_type": "code",
   "execution_count": 4,
   "metadata": {},
   "outputs": [
    {
     "data": {
      "text/html": [
       "<div>\n",
       "<style>\n",
       "    .dataframe thead tr:only-child th {\n",
       "        text-align: right;\n",
       "    }\n",
       "\n",
       "    .dataframe thead th {\n",
       "        text-align: left;\n",
       "    }\n",
       "\n",
       "    .dataframe tbody tr th {\n",
       "        vertical-align: top;\n",
       "    }\n",
       "</style>\n",
       "<table border=\"1\" class=\"dataframe\">\n",
       "  <thead>\n",
       "    <tr style=\"text-align: right;\">\n",
       "      <th></th>\n",
       "      <th>Shops</th>\n",
       "      <th>Products</th>\n",
       "      <th>Following</th>\n",
       "      <th>Chat_Performance(%)</th>\n",
       "      <th>Followers</th>\n",
       "      <th>Rating</th>\n",
       "      <th>Joined</th>\n",
       "      <th>Ship_Out_Time</th>\n",
       "      <th>Rating_AvgScore</th>\n",
       "      <th>Rating_Num</th>\n",
       "      <th>Rating_AvgScore_Level</th>\n",
       "    </tr>\n",
       "  </thead>\n",
       "  <tbody>\n",
       "    <tr>\n",
       "      <th>0</th>\n",
       "      <td>fashionicon</td>\n",
       "      <td>1550</td>\n",
       "      <td>4834</td>\n",
       "      <td>0.80</td>\n",
       "      <td>4533</td>\n",
       "      <td>4.4 (1526 Rating)</td>\n",
       "      <td>20 Months Ago</td>\n",
       "      <td>Slow (2-4Days)</td>\n",
       "      <td>4.4</td>\n",
       "      <td>1526</td>\n",
       "      <td>low</td>\n",
       "    </tr>\n",
       "    <tr>\n",
       "      <th>1</th>\n",
       "      <td>superhappybuy</td>\n",
       "      <td>3071</td>\n",
       "      <td>165</td>\n",
       "      <td>0.88</td>\n",
       "      <td>806</td>\n",
       "      <td>4.5 (2077  Rating)</td>\n",
       "      <td>11 Months Ago</td>\n",
       "      <td>Fast (1-2Days)</td>\n",
       "      <td>4.5</td>\n",
       "      <td>2077</td>\n",
       "      <td>low</td>\n",
       "    </tr>\n",
       "  </tbody>\n",
       "</table>\n",
       "</div>"
      ],
      "text/plain": [
       "           Shops  Products  Following  Chat_Performance(%)  Followers  \\\n",
       "0    fashionicon      1550       4834                 0.80       4533   \n",
       "1  superhappybuy      3071        165                 0.88        806   \n",
       "\n",
       "               Rating         Joined   Ship_Out_Time  Rating_AvgScore  \\\n",
       "0   4.4 (1526 Rating)  20 Months Ago  Slow (2-4Days)              4.4   \n",
       "1  4.5 (2077  Rating)  11 Months Ago  Fast (1-2Days)              4.5   \n",
       "\n",
       "   Rating_Num Rating_AvgScore_Level  \n",
       "0        1526                   low  \n",
       "1        2077                   low  "
      ]
     },
     "execution_count": 4,
     "metadata": {},
     "output_type": "execute_result"
    }
   ],
   "source": [
    "df['Rating_AvgScore_Level'] = df.Rating_AvgScore.map(lambda x:'hight' if x> df.Rating_AvgScore.mean() else 'low')\n",
    "df.head(2)"
   ]
  },
  {
   "cell_type": "markdown",
   "metadata": {},
   "source": [
    "### 2. 处理\"Joined\"\n",
    "\"Joined\"表示的是店铺入驻商城的时间，但这里的单位有用Months来表示的也有用Years来表示的，因此在进行数字提取的时候还需要进行统一单位。"
   ]
  },
  {
   "cell_type": "code",
   "execution_count": 5,
   "metadata": {
    "collapsed": true
   },
   "outputs": [],
   "source": [
    "df['Joined_MonthsAgo'] = df.Joined.str.split(' ',expand=True)[0].astype('int64')\n",
    "df_years = df[df['Joined'].str.contains('Years')]\n",
    "df.loc[df_years.index, 'Joined_MonthsAgo'] = df.loc[df_years.index, 'Joined_MonthsAgo']*12"
   ]
  },
  {
   "cell_type": "markdown",
   "metadata": {},
   "source": [
    "### 3. 处理\"Ship_Out_Time\"\n",
    "Ship_Out_Time里面包含了两部分含义，一部分是对时间快慢作出的评级，另一部分则是时间范围。为了之后更好分析，这里把它拆分为两部分，一部分则是快慢评级，另一部分是平均时间，取时间范围中的均值作为平均时间。"
   ]
  },
  {
   "cell_type": "code",
   "execution_count": 6,
   "metadata": {},
   "outputs": [
    {
     "data": {
      "text/plain": [
       "array(['Slow (2-4Days)', 'Fast (1-2Days)', 'Very Slow (More Than 4 Days)',\n",
       "       'Very Fast (Within 1 Day)'], dtype=object)"
      ]
     },
     "execution_count": 6,
     "metadata": {},
     "output_type": "execute_result"
    }
   ],
   "source": [
    "df.Ship_Out_Time.unique()"
   ]
  },
  {
   "cell_type": "code",
   "execution_count": 7,
   "metadata": {
    "collapsed": true
   },
   "outputs": [],
   "source": [
    "df['Ship_Out_Time_Level'] = df.Ship_Out_Time.str.split('(',expand=True)[0].str.strip()"
   ]
  },
  {
   "cell_type": "code",
   "execution_count": 8,
   "metadata": {
    "collapsed": true
   },
   "outputs": [],
   "source": [
    "def AvgDays(x):\n",
    "    if 'Very Slow' in x:\n",
    "        return 5# 超过4天的按5天来算\n",
    "    elif 'Slow' in x:\n",
    "        return 3\n",
    "    elif 'Fast' in x:\n",
    "        return 1.5\n",
    "    else:\n",
    "        return 1\n",
    "\n",
    "df['Ship_Out_Time_AvgDays'] = df.Ship_Out_Time.map(AvgDays)"
   ]
  },
  {
   "cell_type": "code",
   "execution_count": 9,
   "metadata": {},
   "outputs": [
    {
     "data": {
      "text/html": [
       "<div>\n",
       "<style>\n",
       "    .dataframe thead tr:only-child th {\n",
       "        text-align: right;\n",
       "    }\n",
       "\n",
       "    .dataframe thead th {\n",
       "        text-align: left;\n",
       "    }\n",
       "\n",
       "    .dataframe tbody tr th {\n",
       "        vertical-align: top;\n",
       "    }\n",
       "</style>\n",
       "<table border=\"1\" class=\"dataframe\">\n",
       "  <thead>\n",
       "    <tr style=\"text-align: right;\">\n",
       "      <th></th>\n",
       "      <th>Shops</th>\n",
       "      <th>Products</th>\n",
       "      <th>Following</th>\n",
       "      <th>Chat_Performance(%)</th>\n",
       "      <th>Followers</th>\n",
       "      <th>Rating</th>\n",
       "      <th>Joined</th>\n",
       "      <th>Ship_Out_Time</th>\n",
       "      <th>Rating_AvgScore</th>\n",
       "      <th>Rating_Num</th>\n",
       "      <th>Rating_AvgScore_Level</th>\n",
       "      <th>Joined_MonthsAgo</th>\n",
       "      <th>Ship_Out_Time_Level</th>\n",
       "      <th>Ship_Out_Time_AvgDays</th>\n",
       "    </tr>\n",
       "  </thead>\n",
       "  <tbody>\n",
       "    <tr>\n",
       "      <th>0</th>\n",
       "      <td>fashionicon</td>\n",
       "      <td>1550</td>\n",
       "      <td>4834</td>\n",
       "      <td>0.80</td>\n",
       "      <td>4533</td>\n",
       "      <td>4.4 (1526 Rating)</td>\n",
       "      <td>20 Months Ago</td>\n",
       "      <td>Slow (2-4Days)</td>\n",
       "      <td>4.4</td>\n",
       "      <td>1526</td>\n",
       "      <td>low</td>\n",
       "      <td>20</td>\n",
       "      <td>Slow</td>\n",
       "      <td>3.0</td>\n",
       "    </tr>\n",
       "    <tr>\n",
       "      <th>1</th>\n",
       "      <td>superhappybuy</td>\n",
       "      <td>3071</td>\n",
       "      <td>165</td>\n",
       "      <td>0.88</td>\n",
       "      <td>806</td>\n",
       "      <td>4.5 (2077  Rating)</td>\n",
       "      <td>11 Months Ago</td>\n",
       "      <td>Fast (1-2Days)</td>\n",
       "      <td>4.5</td>\n",
       "      <td>2077</td>\n",
       "      <td>low</td>\n",
       "      <td>11</td>\n",
       "      <td>Fast</td>\n",
       "      <td>1.5</td>\n",
       "    </tr>\n",
       "    <tr>\n",
       "      <th>2</th>\n",
       "      <td>megabox</td>\n",
       "      <td>5312</td>\n",
       "      <td>75</td>\n",
       "      <td>0.78</td>\n",
       "      <td>463</td>\n",
       "      <td>4.5 (1331 Rating)</td>\n",
       "      <td>27 Months Ago</td>\n",
       "      <td>Slow (2-4Days)</td>\n",
       "      <td>4.5</td>\n",
       "      <td>1331</td>\n",
       "      <td>low</td>\n",
       "      <td>27</td>\n",
       "      <td>Slow</td>\n",
       "      <td>3.0</td>\n",
       "    </tr>\n",
       "    <tr>\n",
       "      <th>3</th>\n",
       "      <td>popshop</td>\n",
       "      <td>2471</td>\n",
       "      <td>1</td>\n",
       "      <td>0.80</td>\n",
       "      <td>1277</td>\n",
       "      <td>4.4 (6462 Rating)</td>\n",
       "      <td>13 Months Ago</td>\n",
       "      <td>Fast (1-2Days)</td>\n",
       "      <td>4.4</td>\n",
       "      <td>6462</td>\n",
       "      <td>low</td>\n",
       "      <td>13</td>\n",
       "      <td>Fast</td>\n",
       "      <td>1.5</td>\n",
       "    </tr>\n",
       "    <tr>\n",
       "      <th>4</th>\n",
       "      <td>xiaozhainv</td>\n",
       "      <td>2845</td>\n",
       "      <td>3216</td>\n",
       "      <td>0.95</td>\n",
       "      <td>10776</td>\n",
       "      <td>4.7 (27889 Rating)</td>\n",
       "      <td>16 Months Ago</td>\n",
       "      <td>Slow (2-4Days)</td>\n",
       "      <td>4.7</td>\n",
       "      <td>27889</td>\n",
       "      <td>hight</td>\n",
       "      <td>16</td>\n",
       "      <td>Slow</td>\n",
       "      <td>3.0</td>\n",
       "    </tr>\n",
       "  </tbody>\n",
       "</table>\n",
       "</div>"
      ],
      "text/plain": [
       "           Shops  Products  Following  Chat_Performance(%)  Followers  \\\n",
       "0    fashionicon      1550       4834                 0.80       4533   \n",
       "1  superhappybuy      3071        165                 0.88        806   \n",
       "2        megabox      5312         75                 0.78        463   \n",
       "3        popshop      2471          1                 0.80       1277   \n",
       "4     xiaozhainv      2845       3216                 0.95      10776   \n",
       "\n",
       "               Rating         Joined   Ship_Out_Time  Rating_AvgScore  \\\n",
       "0   4.4 (1526 Rating)  20 Months Ago  Slow (2-4Days)              4.4   \n",
       "1  4.5 (2077  Rating)  11 Months Ago  Fast (1-2Days)              4.5   \n",
       "2   4.5 (1331 Rating)  27 Months Ago  Slow (2-4Days)              4.5   \n",
       "3   4.4 (6462 Rating)  13 Months Ago  Fast (1-2Days)              4.4   \n",
       "4  4.7 (27889 Rating)  16 Months Ago  Slow (2-4Days)              4.7   \n",
       "\n",
       "   Rating_Num Rating_AvgScore_Level  Joined_MonthsAgo Ship_Out_Time_Level  \\\n",
       "0        1526                   low                20                Slow   \n",
       "1        2077                   low                11                Fast   \n",
       "2        1331                   low                27                Slow   \n",
       "3        6462                   low                13                Fast   \n",
       "4       27889                 hight                16                Slow   \n",
       "\n",
       "   Ship_Out_Time_AvgDays  \n",
       "0                    3.0  \n",
       "1                    1.5  \n",
       "2                    3.0  \n",
       "3                    1.5  \n",
       "4                    3.0  "
      ]
     },
     "execution_count": 9,
     "metadata": {},
     "output_type": "execute_result"
    }
   ],
   "source": [
    "df.head()"
   ]
  },
  {
   "cell_type": "markdown",
   "metadata": {},
   "source": [
    "### 4. 对\"Products\"进行区间划分\n",
    "Products代表店铺在售商品的数量，按数量的多少进行划分，以便后续分析。"
   ]
  },
  {
   "cell_type": "code",
   "execution_count": 10,
   "metadata": {
    "collapsed": true
   },
   "outputs": [],
   "source": [
    "def Products_Class(x):\n",
    "    if x <500:\n",
    "        return 'less'\n",
    "    elif x <1000:\n",
    "        return 'less_to_medi'\n",
    "    elif x <3000:\n",
    "        return 'medi'\n",
    "    elif x<5000:\n",
    "        return 'medi_to_more'\n",
    "    else:\n",
    "        return 'more'\n",
    "df['Products_Class'] = df.Products.map(Products_Class)"
   ]
  },
  {
   "cell_type": "markdown",
   "metadata": {},
   "source": [
    "### 5. 对\"Following\"和\"Followers\"进行分类"
   ]
  },
  {
   "cell_type": "code",
   "execution_count": 11,
   "metadata": {
    "collapsed": true
   },
   "outputs": [],
   "source": [
    "df['Following_Class'] = df['Following'].map(lambda x:'many' if x > df.Following.mean() else 'few')\n",
    "\n",
    "df['Followers_Class'] = df['Following'].map(lambda x:'many' if x > df.Following.mean() else 'few')"
   ]
  },
  {
   "cell_type": "markdown",
   "metadata": {},
   "source": [
    "### 6. 对\"Chat_Performance\"进行分类"
   ]
  },
  {
   "cell_type": "code",
   "execution_count": 12,
   "metadata": {
    "collapsed": true
   },
   "outputs": [],
   "source": [
    "df['Chat_Performance_Level']=df['Chat_Performance(%)'].map(lambda x:'good' if x>0.5 else 'bad')"
   ]
  },
  {
   "cell_type": "markdown",
   "metadata": {},
   "source": [
    "### 7. 删除重复含义的属性"
   ]
  },
  {
   "cell_type": "code",
   "execution_count": 13,
   "metadata": {
    "collapsed": true
   },
   "outputs": [],
   "source": [
    "df = df.drop(['Rating','Joined','Ship_Out_Time'],axis=1)"
   ]
  },
  {
   "cell_type": "markdown",
   "metadata": {},
   "source": [
    "### 把清洗好的数据进行保存"
   ]
  },
  {
   "cell_type": "code",
   "execution_count": 14,
   "metadata": {
    "collapsed": true
   },
   "outputs": [],
   "source": [
    "df.to_csv('cleaned_shops.csv', index=False)"
   ]
  },
  {
   "cell_type": "markdown",
   "metadata": {
    "collapsed": true
   },
   "source": [
    "<div id=\"DataAnalysis\"></div>\n",
    "## 五. 数据分析\n"
   ]
  },
  {
   "cell_type": "markdown",
   "metadata": {
    "collapsed": true
   },
   "source": [
    "数据清洗好后，运用Tableau进行数据分析及可视化。"
   ]
  },
  {
   "attachments": {},
   "cell_type": "markdown",
   "metadata": {
    "collapsed": true
   },
   "source": [
    "\n",
    "### 分析思路\n",
    "主要按以下几个方向进行分析：\n",
    "\n",
    "1. 发货/运输时间分析\n",
    "\n",
    "店铺总体表现如何？\n",
    "\n",
    "商品总量多会导致发货慢吗？\n",
    "\n",
    "2. 互动情况分析\n",
    "\n",
    "店铺能否积极回应客户？\n",
    "\n",
    "新店铺互动表现更好还是老店铺？\n",
    "\n",
    "3. 关注度分析\n",
    "\n",
    "商品总量越多关注度就越高吗？\n",
    "\n",
    "入驻时间越长关注人数就越多吗？\n",
    "\n",
    "互动越多关注度就越高吗？\n",
    "\n",
    "4. 评分情况分析\n",
    "\n",
    "整体评分分布情况如何，各评级所占比例如何？\n",
    "\n",
    "发货/运输速度与评分情况有多大联系？\n",
    "\n",
    "互动越多评分越高吗？\n",
    "\n",
    "关注度高的评分更高吗？\n",
    "\n",
    "入驻时间会影响评分吗？\n",
    "\n",
    "\n",
    "### 分析总结\n",
    "\n",
    "1. 52%服装类店铺发货及运输速度较慢，店铺大小与发货速度没有太多关联性；\n",
    "\n",
    "2. 大部分店铺与客户有良好的互动，新店铺具有更高的积极性；\n",
    "\n",
    "3. 店铺整体粉丝数均较少，良好的互动性也许能带来粉丝增长，但入驻时间的增长和商品      \n",
    "   总量的增加并不会提高关注度，新店铺和小店铺仍具较大发展空间；\n",
    "\n",
    "4. 大部分店铺评分良好，但高分段较少；\n",
    "\n",
    "5. 发货与运输速度越快，粉丝量越多的店铺通常能得到较高评分；\n",
    "\n",
    "6. 入驻时间长短并不会对评分造成什么影响，新店铺仍具较强竞争力。\n"
   ]
  },
  {
   "cell_type": "markdown",
   "metadata": {},
   "source": [
    "<div id=\"report\"></div>\n",
    "## 六.分析报告\n",
    "\n",
    "以PPT形式制作报告。"
   ]
  },
  {
   "cell_type": "markdown",
   "metadata": {},
   "source": [
    "<img src=\"./report/report01.png\" width=800 align=left />\n",
    "<img src=\"./report/report02.png\" width=800 align=left />\n",
    "<img src=\"./report/report03.png\" width=800 align=left />\n",
    "<img src=\"./report/report04.png\" width=800 align=left />\n",
    "<img src=\"./report/report05.png\" width=800 align=left />\n",
    "<img src=\"./report/report06.png\" width=800 align=left />\n",
    "<img src=\"./report/report07.png\" width=800 align=left />\n",
    "<img src=\"./report/report08.png\" width=800 align=left />\n",
    "<img src=\"./report/report09.png\" width=800 align=left />\n",
    "<img src=\"./report/report10.png\" width=800 align=left />\n",
    "<img src=\"./report/report11.png\" width=800 align=left />\n",
    "<img src=\"./report/report12.png\" width=800 align=left />\n",
    "<img src=\"./report/report13.png\" width=800 align=left />"
   ]
  },
  {
   "cell_type": "code",
   "execution_count": null,
   "metadata": {
    "collapsed": true
   },
   "outputs": [],
   "source": []
  },
  {
   "cell_type": "code",
   "execution_count": null,
   "metadata": {
    "collapsed": true
   },
   "outputs": [],
   "source": []
  },
  {
   "cell_type": "code",
   "execution_count": null,
   "metadata": {
    "collapsed": true
   },
   "outputs": [],
   "source": []
  },
  {
   "cell_type": "code",
   "execution_count": null,
   "metadata": {
    "collapsed": true
   },
   "outputs": [],
   "source": []
  }
 ],
 "metadata": {
  "kernelspec": {
   "display_name": "Python 3",
   "language": "python",
   "name": "python3"
  },
  "language_info": {
   "codemirror_mode": {
    "name": "ipython",
    "version": 3
   },
   "file_extension": ".py",
   "mimetype": "text/x-python",
   "name": "python",
   "nbconvert_exporter": "python",
   "pygments_lexer": "ipython3",
   "version": "3.6.3"
  }
 },
 "nbformat": 4,
 "nbformat_minor": 2
}
