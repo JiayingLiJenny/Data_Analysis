{
 "cells": [
  {
   "cell_type": "markdown",
   "metadata": {},
   "source": [
    "# 淘宝APP用户行为数据分析\n",
    "\n",
    "![png](./pics/mind.png)\n",
    "\n",
    "## 一.背景分析\n",
    "\n",
    "淘宝网是中国深受欢迎的网购零售平台，是亚太地区较大的网络零售、商圈，由阿里巴巴集团在2003年5月创立。\n",
    "\n",
    "这份数据下载自天池数据集：\n",
    "https://tianchi.aliyun.com/dataset/dataDetail?dataId=46\n",
    "\n",
    "数据为淘宝APP2014.11.18～2014.12.18的数据。2014年是阿里巴巴集团移动商务快速发展的一年。\n",
    "\n",
    "数据主要包含用户在淘宝APP上包括点击、收藏、加购、购买的行为数据，其中各变量描述如下：\n",
    "\n",
    "![png](./pics/v.png)\n",
    "\n",
    "\n",
    "\n",
    "## 二.目标确定\n",
    "\n",
    "1. 对运营情况进行监控，找出变动（上升/下降）的原因，防止异常事件发生，同时找出优化运营或产品的方法。\n",
    "\n",
    "比如找出什么时间上新，什么时间提醒用户进行购买。\n",
    "\n",
    "2. 精细化运营\n",
    "\n",
    "对用户进行分类，针对不同用户采取不同营销措施。通过计算用户购买的频次，来对用户购买的活跃程度进行分类。\n",
    "\n",
    "3. 发现用户喜欢的商品\n",
    "通过对数加权的方法计算商品热度，了解用户喜好。\n",
    "\n",
    "## 三. 数据加载及预处理"
   ]
  },
  {
   "cell_type": "code",
   "execution_count": 1,
   "metadata": {
    "collapsed": true
   },
   "outputs": [],
   "source": [
    "import pandas as pd\n",
    "import numpy as np"
   ]
  },
  {
   "cell_type": "code",
   "execution_count": 2,
   "metadata": {},
   "outputs": [
    {
     "data": {
      "text/html": [
       "<div>\n",
       "<style>\n",
       "    .dataframe thead tr:only-child th {\n",
       "        text-align: right;\n",
       "    }\n",
       "\n",
       "    .dataframe thead th {\n",
       "        text-align: left;\n",
       "    }\n",
       "\n",
       "    .dataframe tbody tr th {\n",
       "        vertical-align: top;\n",
       "    }\n",
       "</style>\n",
       "<table border=\"1\" class=\"dataframe\">\n",
       "  <thead>\n",
       "    <tr style=\"text-align: right;\">\n",
       "      <th></th>\n",
       "      <th>user_id</th>\n",
       "      <th>item_id</th>\n",
       "      <th>behavior_type</th>\n",
       "      <th>user_geohash</th>\n",
       "      <th>item_category</th>\n",
       "      <th>time</th>\n",
       "    </tr>\n",
       "  </thead>\n",
       "  <tbody>\n",
       "    <tr>\n",
       "      <th>0</th>\n",
       "      <td>98047837</td>\n",
       "      <td>232431562</td>\n",
       "      <td>1</td>\n",
       "      <td>NaN</td>\n",
       "      <td>4245</td>\n",
       "      <td>2014-12-06 02</td>\n",
       "    </tr>\n",
       "    <tr>\n",
       "      <th>1</th>\n",
       "      <td>97726136</td>\n",
       "      <td>383583590</td>\n",
       "      <td>1</td>\n",
       "      <td>NaN</td>\n",
       "      <td>5894</td>\n",
       "      <td>2014-12-09 20</td>\n",
       "    </tr>\n",
       "    <tr>\n",
       "      <th>2</th>\n",
       "      <td>98607707</td>\n",
       "      <td>64749712</td>\n",
       "      <td>1</td>\n",
       "      <td>NaN</td>\n",
       "      <td>2883</td>\n",
       "      <td>2014-12-18 11</td>\n",
       "    </tr>\n",
       "    <tr>\n",
       "      <th>3</th>\n",
       "      <td>98662432</td>\n",
       "      <td>320593836</td>\n",
       "      <td>1</td>\n",
       "      <td>96nn52n</td>\n",
       "      <td>6562</td>\n",
       "      <td>2014-12-06 10</td>\n",
       "    </tr>\n",
       "    <tr>\n",
       "      <th>4</th>\n",
       "      <td>98145908</td>\n",
       "      <td>290208520</td>\n",
       "      <td>1</td>\n",
       "      <td>NaN</td>\n",
       "      <td>13926</td>\n",
       "      <td>2014-12-16 21</td>\n",
       "    </tr>\n",
       "  </tbody>\n",
       "</table>\n",
       "</div>"
      ],
      "text/plain": [
       "    user_id    item_id  behavior_type user_geohash  item_category  \\\n",
       "0  98047837  232431562              1          NaN           4245   \n",
       "1  97726136  383583590              1          NaN           5894   \n",
       "2  98607707   64749712              1          NaN           2883   \n",
       "3  98662432  320593836              1      96nn52n           6562   \n",
       "4  98145908  290208520              1          NaN          13926   \n",
       "\n",
       "            time  \n",
       "0  2014-12-06 02  \n",
       "1  2014-12-09 20  \n",
       "2  2014-12-18 11  \n",
       "3  2014-12-06 10  \n",
       "4  2014-12-16 21  "
      ]
     },
     "execution_count": 2,
     "metadata": {},
     "output_type": "execute_result"
    }
   ],
   "source": [
    "users = pd.read_csv('tianchi_mobile_recommend_train_user.csv')\n",
    "users.head()"
   ]
  },
  {
   "cell_type": "code",
   "execution_count": 3,
   "metadata": {},
   "outputs": [
    {
     "data": {
      "text/plain": [
       "(12256906, 6)"
      ]
     },
     "execution_count": 3,
     "metadata": {},
     "output_type": "execute_result"
    }
   ],
   "source": [
    "users.shape"
   ]
  },
  {
   "cell_type": "markdown",
   "metadata": {},
   "source": [
    "### 1. 重复值检测及处理"
   ]
  },
  {
   "cell_type": "code",
   "execution_count": 10,
   "metadata": {},
   "outputs": [
    {
     "data": {
      "text/plain": [
       "4092866"
      ]
     },
     "execution_count": 10,
     "metadata": {},
     "output_type": "execute_result"
    }
   ],
   "source": [
    "users.duplicated().sum()"
   ]
  },
  {
   "cell_type": "code",
   "execution_count": 19,
   "metadata": {
    "collapsed": true
   },
   "outputs": [],
   "source": [
    "users.drop_duplicates(inplace=True)"
   ]
  },
  {
   "cell_type": "code",
   "execution_count": 15,
   "metadata": {},
   "outputs": [
    {
     "data": {
      "text/plain": [
       "0"
      ]
     },
     "metadata": {},
     "output_type": "display_data"
    },
    {
     "data": {
      "text/plain": [
       "(8164040, 6)"
      ]
     },
     "metadata": {},
     "output_type": "display_data"
    }
   ],
   "source": [
    "display(users.duplicated().sum())\n",
    "display(users.shape)"
   ]
  },
  {
   "cell_type": "markdown",
   "metadata": {},
   "source": [
    "### 2. 空缺值检测"
   ]
  },
  {
   "cell_type": "code",
   "execution_count": 18,
   "metadata": {},
   "outputs": [
    {
     "data": {
      "text/html": [
       "<div>\n",
       "<style>\n",
       "    .dataframe thead tr:only-child th {\n",
       "        text-align: right;\n",
       "    }\n",
       "\n",
       "    .dataframe thead th {\n",
       "        text-align: left;\n",
       "    }\n",
       "\n",
       "    .dataframe tbody tr th {\n",
       "        vertical-align: top;\n",
       "    }\n",
       "</style>\n",
       "<table border=\"1\" class=\"dataframe\">\n",
       "  <thead>\n",
       "    <tr style=\"text-align: right;\">\n",
       "      <th></th>\n",
       "      <th>user_id</th>\n",
       "      <th>item_id</th>\n",
       "      <th>behavior_type</th>\n",
       "      <th>user_geohash</th>\n",
       "      <th>item_category</th>\n",
       "      <th>time</th>\n",
       "    </tr>\n",
       "  </thead>\n",
       "  <tbody>\n",
       "    <tr>\n",
       "      <th>null values (nb)</th>\n",
       "      <td>0.0</td>\n",
       "      <td>0.0</td>\n",
       "      <td>0.0</td>\n",
       "      <td>4.308015e+06</td>\n",
       "      <td>0.0</td>\n",
       "      <td>0.0</td>\n",
       "    </tr>\n",
       "    <tr>\n",
       "      <th>null values (%)</th>\n",
       "      <td>0.0</td>\n",
       "      <td>0.0</td>\n",
       "      <td>0.0</td>\n",
       "      <td>5.276818e+01</td>\n",
       "      <td>0.0</td>\n",
       "      <td>0.0</td>\n",
       "    </tr>\n",
       "  </tbody>\n",
       "</table>\n",
       "</div>"
      ],
      "text/plain": [
       "                  user_id  item_id  behavior_type  user_geohash  \\\n",
       "null values (nb)      0.0      0.0            0.0  4.308015e+06   \n",
       "null values (%)       0.0      0.0            0.0  5.276818e+01   \n",
       "\n",
       "                  item_category  time  \n",
       "null values (nb)            0.0   0.0  \n",
       "null values (%)             0.0   0.0  "
      ]
     },
     "metadata": {},
     "output_type": "display_data"
    }
   ],
   "source": [
    "def null_info(users):\n",
    "    info = pd.DataFrame(users.isnull().sum()).T.rename(index={0:'null values (nb)'})\n",
    "    info=info.append(pd.DataFrame(users.isnull().sum()/users.shape[0]*100).T.rename(index={0:'null values (%)'}))\n",
    "    display(info)\n",
    "null_info(users)"
   ]
  },
  {
   "cell_type": "markdown",
   "metadata": {},
   "source": [
    "### 3. 类型检测及转化"
   ]
  },
  {
   "cell_type": "code",
   "execution_count": 27,
   "metadata": {},
   "outputs": [
    {
     "name": "stdout",
     "output_type": "stream",
     "text": [
      "<class 'pandas.core.frame.DataFrame'>\n",
      "Int64Index: 8164040 entries, 0 to 12256904\n",
      "Data columns (total 6 columns):\n",
      "user_id          int64\n",
      "item_id          int64\n",
      "behavior_type    int64\n",
      "user_geohash     object\n",
      "item_category    int64\n",
      "time             object\n",
      "dtypes: int64(4), object(2)\n",
      "memory usage: 436.0+ MB\n"
     ]
    }
   ],
   "source": [
    "users.info()"
   ]
  },
  {
   "cell_type": "code",
   "execution_count": 20,
   "metadata": {
    "collapsed": true
   },
   "outputs": [],
   "source": [
    "users.time = pd.to_datetime(users.time)"
   ]
  },
  {
   "cell_type": "code",
   "execution_count": 21,
   "metadata": {},
   "outputs": [
    {
     "data": {
      "text/html": [
       "<div>\n",
       "<style>\n",
       "    .dataframe thead tr:only-child th {\n",
       "        text-align: right;\n",
       "    }\n",
       "\n",
       "    .dataframe thead th {\n",
       "        text-align: left;\n",
       "    }\n",
       "\n",
       "    .dataframe tbody tr th {\n",
       "        vertical-align: top;\n",
       "    }\n",
       "</style>\n",
       "<table border=\"1\" class=\"dataframe\">\n",
       "  <thead>\n",
       "    <tr style=\"text-align: right;\">\n",
       "      <th></th>\n",
       "      <th>user_id</th>\n",
       "      <th>item_id</th>\n",
       "      <th>behavior_type</th>\n",
       "      <th>user_geohash</th>\n",
       "      <th>item_category</th>\n",
       "      <th>time</th>\n",
       "      <th>hour</th>\n",
       "    </tr>\n",
       "  </thead>\n",
       "  <tbody>\n",
       "    <tr>\n",
       "      <th>0</th>\n",
       "      <td>98047837</td>\n",
       "      <td>232431562</td>\n",
       "      <td>1</td>\n",
       "      <td>NaN</td>\n",
       "      <td>4245</td>\n",
       "      <td>2014-12-06 02:00:00</td>\n",
       "      <td>2</td>\n",
       "    </tr>\n",
       "  </tbody>\n",
       "</table>\n",
       "</div>"
      ],
      "text/plain": [
       "    user_id    item_id  behavior_type user_geohash  item_category  \\\n",
       "0  98047837  232431562              1          NaN           4245   \n",
       "\n",
       "                 time  hour  \n",
       "0 2014-12-06 02:00:00     2  "
      ]
     },
     "execution_count": 21,
     "metadata": {},
     "output_type": "execute_result"
    }
   ],
   "source": [
    "users['hour'] = users.time.dt.hour\n",
    "users.head(1)"
   ]
  },
  {
   "cell_type": "code",
   "execution_count": 24,
   "metadata": {},
   "outputs": [
    {
     "data": {
      "text/html": [
       "<div>\n",
       "<style>\n",
       "    .dataframe thead tr:only-child th {\n",
       "        text-align: right;\n",
       "    }\n",
       "\n",
       "    .dataframe thead th {\n",
       "        text-align: left;\n",
       "    }\n",
       "\n",
       "    .dataframe tbody tr th {\n",
       "        vertical-align: top;\n",
       "    }\n",
       "</style>\n",
       "<table border=\"1\" class=\"dataframe\">\n",
       "  <thead>\n",
       "    <tr style=\"text-align: right;\">\n",
       "      <th></th>\n",
       "      <th>user_id</th>\n",
       "      <th>item_id</th>\n",
       "      <th>behavior_type</th>\n",
       "      <th>user_geohash</th>\n",
       "      <th>item_category</th>\n",
       "      <th>time</th>\n",
       "      <th>hour</th>\n",
       "      <th>week</th>\n",
       "    </tr>\n",
       "  </thead>\n",
       "  <tbody>\n",
       "    <tr>\n",
       "      <th>0</th>\n",
       "      <td>98047837</td>\n",
       "      <td>232431562</td>\n",
       "      <td>1</td>\n",
       "      <td>NaN</td>\n",
       "      <td>4245</td>\n",
       "      <td>2014-12-06 02:00:00</td>\n",
       "      <td>2</td>\n",
       "      <td>49</td>\n",
       "    </tr>\n",
       "  </tbody>\n",
       "</table>\n",
       "</div>"
      ],
      "text/plain": [
       "    user_id    item_id  behavior_type user_geohash  item_category  \\\n",
       "0  98047837  232431562              1          NaN           4245   \n",
       "\n",
       "                 time  hour  week  \n",
       "0 2014-12-06 02:00:00     2    49  "
      ]
     },
     "execution_count": 24,
     "metadata": {},
     "output_type": "execute_result"
    }
   ],
   "source": [
    "users['week'] = users.time.dt.week\n",
    "users.head(1)"
   ]
  },
  {
   "cell_type": "code",
   "execution_count": 25,
   "metadata": {},
   "outputs": [
    {
     "data": {
      "text/html": [
       "<div>\n",
       "<style>\n",
       "    .dataframe thead tr:only-child th {\n",
       "        text-align: right;\n",
       "    }\n",
       "\n",
       "    .dataframe thead th {\n",
       "        text-align: left;\n",
       "    }\n",
       "\n",
       "    .dataframe tbody tr th {\n",
       "        vertical-align: top;\n",
       "    }\n",
       "</style>\n",
       "<table border=\"1\" class=\"dataframe\">\n",
       "  <thead>\n",
       "    <tr style=\"text-align: right;\">\n",
       "      <th></th>\n",
       "      <th>user_id</th>\n",
       "      <th>item_id</th>\n",
       "      <th>behavior_type</th>\n",
       "      <th>user_geohash</th>\n",
       "      <th>item_category</th>\n",
       "      <th>time</th>\n",
       "      <th>hour</th>\n",
       "      <th>week</th>\n",
       "      <th>date</th>\n",
       "    </tr>\n",
       "  </thead>\n",
       "  <tbody>\n",
       "    <tr>\n",
       "      <th>0</th>\n",
       "      <td>98047837</td>\n",
       "      <td>232431562</td>\n",
       "      <td>1</td>\n",
       "      <td>NaN</td>\n",
       "      <td>4245</td>\n",
       "      <td>2014-12-06 02:00:00</td>\n",
       "      <td>2</td>\n",
       "      <td>49</td>\n",
       "      <td>2014-12-06</td>\n",
       "    </tr>\n",
       "  </tbody>\n",
       "</table>\n",
       "</div>"
      ],
      "text/plain": [
       "    user_id    item_id  behavior_type user_geohash  item_category  \\\n",
       "0  98047837  232431562              1          NaN           4245   \n",
       "\n",
       "                 time  hour  week        date  \n",
       "0 2014-12-06 02:00:00     2    49  2014-12-06  "
      ]
     },
     "execution_count": 25,
     "metadata": {},
     "output_type": "execute_result"
    }
   ],
   "source": [
    "users['date'] = users.time.dt.date\n",
    "users.head(1)"
   ]
  },
  {
   "cell_type": "code",
   "execution_count": 26,
   "metadata": {
    "collapsed": true
   },
   "outputs": [],
   "source": [
    "users.item_category = users.item_category.astype('category')"
   ]
  },
  {
   "cell_type": "code",
   "execution_count": 27,
   "metadata": {
    "collapsed": true
   },
   "outputs": [],
   "source": [
    "# 保存处理后的数据\n",
    "users_c = users.to_csv('users_c.csv',index=False)"
   ]
  },
  {
   "cell_type": "markdown",
   "metadata": {},
   "source": [
    "## 四. 数据分析\n",
    "### 1. 流量分析\n",
    "- PV(Page View)：页面访问量\n",
    "- UV(Unique Visitor)：独立访客数\n",
    "\n",
    "![png](./pics/PVUV_day.png)"
   ]
  },
  {
   "cell_type": "markdown",
   "metadata": {},
   "source": [
    "** 分析 **\n",
    "\n",
    "通过监控每天PV和UV，可以看到平时它们的变化量都不大，但到了12月11日时出现了一个上升趋势，且12月12日达到峰值，说明“双十二”购物节的促销活动确实起到了吸引用户的作用。同时PV的增长了近50%，而相比PV，UV仅增长了约10%，可见“双十二”主要带来了老用户的大量回访。在服务器上也需要进行加强。"
   ]
  },
  {
   "cell_type": "markdown",
   "metadata": {},
   "source": [
    "![png](./pics/PVUV_hour.png)"
   ]
  },
  {
   "cell_type": "markdown",
   "metadata": {
    "collapsed": true
   },
   "source": [
    "** 分析 **\n",
    "\n",
    "通过监控每个小时PV和UV，可以发现每天的0～7点用户购买较低，其中凌晨4点达到最低值。中午和下午的独立用户访问量并不会有太大区别，18点之后PV和UV均有上升趋势，到21点左右达到峰值，因此如果在这个时候上新或者进行新活动，是最容易被用户关注到。"
   ]
  },
  {
   "cell_type": "markdown",
   "metadata": {
    "collapsed": true
   },
   "source": [
    "### 2. 活跃度分析\n",
    "\n",
    "相比流量，活跃度更能衡量用户粘性，\n",
    "\n",
    "这里的活跃用户定义为：进行商品收藏，商品加入购物车或者购买商品的用户。\n",
    "\n",
    "- DAU(Daily Active User)：日活跃用户数量。\n",
    "- HAU：每小时活跃用户数"
   ]
  },
  {
   "cell_type": "markdown",
   "metadata": {},
   "source": [
    "![png](./pics/DAU.png)"
   ]
  },
  {
   "cell_type": "markdown",
   "metadata": {
    "collapsed": true
   },
   "source": [
    "** 分析 **\n",
    "\n",
    "这里DAU与UV类似，但DAU更能反映用户对各类营销活动所采取的行动。12月12日达到峰值，但DAU比UV的增长幅度要大，说明“双十二”不仅仅带来了大量访问，而且大多数营销措施都取得了一定效果。"
   ]
  },
  {
   "cell_type": "markdown",
   "metadata": {
    "collapsed": true
   },
   "source": [
    "\n",
    "#### 对比平时和双十二每小时用户的活跃情况\n",
    "![png](./pics/HAU_normal.png)\n",
    "\n",
    "![png](./pics/HAU_12.png)"
   ]
  },
  {
   "cell_type": "markdown",
   "metadata": {
    "collapsed": true
   },
   "source": [
    "** 分析 **\n",
    "\n",
    "对比平时和双十二每小时用户的活跃情况可以发现，平时在晚上21点左右的时候用户最活跃，但双十二这天出现了两个峰值，0点和晚上21～22点。可见，大促和限时抢购对用户确实起到了非常大的吸引力。同时，双十二这天在任何一个时间段的用户活跃数都比平时要高。"
   ]
  },
  {
   "cell_type": "markdown",
   "metadata": {},
   "source": [
    "### 3. 转换率分析\n",
    "\n",
    "#### 收藏率/加购率/购买率\n",
    "使用漏斗模型进行分析\n",
    "\n",
    "主要分析收藏，加购（即加入购物车），购买的日转化率以及小时转化率，并找出转换率最高/最低的时间点，以及导致的原因。\n",
    "\n",
    "用户行为流程拆解：\n",
    "1. 点击 -> 加入收藏夹\n",
    "2. 点击（包括从普通页面点击以及从收藏夹点击） -> 加入购物车 -> 购买\n",
    "\n",
    "计算指标确定：\n",
    "1. 收藏率 = 收藏量 / 点击量\n",
    "2. 加购率 = 加入购物车量 / 点击量\n",
    "3. 购买率 = 购买量 / 加入购物车量\n",
    "\n",
    "可以使用python计算，但为了使用Tableau画出更好看的图，这里使用Tableau直接计算，计算公式如下：\n",
    "\n",
    "- 点击量：\n",
    "SUM(IF [behavior_type]==1 THEN 1 \n",
    "ELSEIF [behavior_type]!=1 THEN 0 END)\n",
    "- 收藏量：\n",
    "SUM(IF [behavior_type]==2 THEN 1 \n",
    "ELSEIF [behavior_type]!=2 THEN 0 END)\n",
    "- 加入购物车量:\n",
    "SUM(IF [behavior_type]==3 THEN 1 \n",
    "ELSEIF [behavior_type]!=3 THEN 0 END)\n",
    "- 购买量:\n",
    "SUM(IF [behavior_type]==4 THEN 1 \n",
    "ELSEIF [behavior_type]!=4 THEN 0 END)\n",
    "\n",
    "收藏率,加购率,购买率使用以上计算结果相除。"
   ]
  },
  {
   "cell_type": "markdown",
   "metadata": {},
   "source": [
    "![png](./pics/rate_day.png)\n",
    "\n",
    "** 分析 ** \n",
    "\n",
    "”双十二“这天，加购率和购买率都有所提升，但收藏率却有所降低，而在平时平均收藏率要低于平均加购率，说明在这天用户购物冲动比平时要高，平时犹豫买或不买的物品，在这天购买的可能性要大于平时。12月11日的购买率最低，说明大部分用户都把商品囤起来，等到12号在支付。而到了12月13日，又恢复到平时的情况。"
   ]
  },
  {
   "cell_type": "markdown",
   "metadata": {},
   "source": [
    "![png](./pics/rate_hour.png)"
   ]
  },
  {
   "cell_type": "markdown",
   "metadata": {},
   "source": [
    "** 分析 ** \n",
    "\n",
    "虽然用户活跃度通常都是晚上21点左右才达到峰值，但从转换率来说从21点持续到凌晨5点，收藏率和加购率都出于高峰时段，说明虽然活跃用户少但活跃的用户中最有可能把商品进行收藏或者加入购物车；从购买率来看，晚上看中的商品用户并不会立刻进行购买，而是到了早上11点左右进行购买，因此对于收藏或加购的商品，我们可以在上午11点左右通过平台、短信、邮件进行提醒购买。\n",
    "\n"
   ]
  },
  {
   "cell_type": "markdown",
   "metadata": {},
   "source": [
    "### 4. 复购率\n",
    "复购率的定义是：在某时间窗口内消费两次及以上的用户在总消费用户的占比。"
   ]
  },
  {
   "cell_type": "code",
   "execution_count": 3,
   "metadata": {
    "collapsed": true
   },
   "outputs": [],
   "source": [
    "# 加载清洗后的数据\n",
    "users_c = pd.read_csv('users_c.csv')"
   ]
  },
  {
   "cell_type": "code",
   "execution_count": 5,
   "metadata": {
    "collapsed": true
   },
   "outputs": [],
   "source": [
    "# 发生购买行为的用户\n",
    "df_pay = users_c[users_c.behavior_type==4]"
   ]
  },
  {
   "cell_type": "code",
   "execution_count": 92,
   "metadata": {},
   "outputs": [
    {
     "data": {
      "text/html": [
       "<div>\n",
       "<style>\n",
       "    .dataframe thead tr:only-child th {\n",
       "        text-align: right;\n",
       "    }\n",
       "\n",
       "    .dataframe thead th {\n",
       "        text-align: left;\n",
       "    }\n",
       "\n",
       "    .dataframe tbody tr th {\n",
       "        vertical-align: top;\n",
       "    }\n",
       "</style>\n",
       "<table border=\"1\" class=\"dataframe\">\n",
       "  <thead>\n",
       "    <tr style=\"text-align: right;\">\n",
       "      <th></th>\n",
       "      <th>pay_num</th>\n",
       "    </tr>\n",
       "    <tr>\n",
       "      <th>user_id</th>\n",
       "      <th></th>\n",
       "    </tr>\n",
       "  </thead>\n",
       "  <tbody>\n",
       "    <tr>\n",
       "      <th>4913</th>\n",
       "      <td>5</td>\n",
       "    </tr>\n",
       "    <tr>\n",
       "      <th>6118</th>\n",
       "      <td>1</td>\n",
       "    </tr>\n",
       "    <tr>\n",
       "      <th>7528</th>\n",
       "      <td>6</td>\n",
       "    </tr>\n",
       "    <tr>\n",
       "      <th>7591</th>\n",
       "      <td>9</td>\n",
       "    </tr>\n",
       "    <tr>\n",
       "      <th>12645</th>\n",
       "      <td>4</td>\n",
       "    </tr>\n",
       "  </tbody>\n",
       "</table>\n",
       "</div>"
      ],
      "text/plain": [
       "         pay_num\n",
       "user_id         \n",
       "4913           5\n",
       "6118           1\n",
       "7528           6\n",
       "7591           9\n",
       "12645          4"
      ]
     },
     "execution_count": 92,
     "metadata": {},
     "output_type": "execute_result"
    }
   ],
   "source": [
    "# 计算每个用户购买的天数\n",
    "df_pay_1 = df_pay.groupby(['user_id','date']).agg({'time': lambda x:x.count()})\n",
    "df_pay_2 = df_pay_1.groupby('user_id').agg({'time':lambda x:x.count()}).rename(columns={'time':'pay_num'})\n",
    "df_pay_2.head()"
   ]
  },
  {
   "cell_type": "code",
   "execution_count": null,
   "metadata": {
    "collapsed": true
   },
   "outputs": [],
   "source": [
    "df_pay_2.to_csv('pay_num.csv')"
   ]
  },
  {
   "cell_type": "markdown",
   "metadata": {},
   "source": [
    "![png](./pics/pay_num.png)"
   ]
  },
  {
   "cell_type": "markdown",
   "metadata": {},
   "source": [
    "** 分析 **\n",
    "\n",
    "上图表示在发生过购买行为的用户中，一个月内购买天数的分布。\n",
    "\n",
    "购买天数为1的用户占比最高，为12.83%。如果以月份作为时间窗口，假设每个用户每天购买次数为1（每笔订单可包含多个商品），那么复购率为1-12.83%=87.17%。同时还可以与其他月份的复购率做对比。"
   ]
  },
  {
   "cell_type": "markdown",
   "metadata": {},
   "source": [
    "### 5. 用户生命周期\n",
    "用户生命周期：第一次消费到最后一次消费之间的时间间隔。\n",
    "\n",
    "由于只有一个月的数据，因此把这个月内第一次消费时间当作第一次消费时间，这个月内的最后一次消费当作最后一次消费时间。"
   ]
  },
  {
   "cell_type": "code",
   "execution_count": 100,
   "metadata": {},
   "outputs": [
    {
     "name": "stderr",
     "output_type": "stream",
     "text": [
      "/Users/jia/anaconda3/lib/python3.6/site-packages/ipykernel_launcher.py:1: SettingWithCopyWarning: \n",
      "A value is trying to be set on a copy of a slice from a DataFrame.\n",
      "Try using .loc[row_indexer,col_indexer] = value instead\n",
      "\n",
      "See the caveats in the documentation: http://pandas.pydata.org/pandas-docs/stable/indexing.html#indexing-view-versus-copy\n",
      "  \"\"\"Entry point for launching an IPython kernel.\n"
     ]
    },
    {
     "data": {
      "text/plain": [
       "user_id\n",
       "4913    15 days\n",
       "6118     0 days\n",
       "7528    21 days\n",
       "7591    18 days\n",
       "12645   17 days\n",
       "Name: date, dtype: timedelta64[ns]"
      ]
     },
     "execution_count": 100,
     "metadata": {},
     "output_type": "execute_result"
    }
   ],
   "source": [
    "# 计算生命周期\n",
    "df_pay['date'] = pd.to_datetime(df_pay.date)\n",
    "\n",
    "date_min = df_pay.groupby('user_id').date.min()\n",
    "date_max = df_pay.groupby('user_id').date.max()\n",
    "life_time = date_max - date_min\n",
    "life_time.head()"
   ]
  },
  {
   "cell_type": "code",
   "execution_count": 112,
   "metadata": {
    "collapsed": true
   },
   "outputs": [],
   "source": [
    "df_life_time = pd.DataFrame(life_time)\n",
    "df_life_time.rename(columns={'date':'life_time'},inplace=True)\n",
    "df_life_time.to_csv('life_time.csv')"
   ]
  },
  {
   "cell_type": "markdown",
   "metadata": {},
   "source": [
    "![png](./pics/life_time.png)"
   ]
  },
  {
   "cell_type": "markdown",
   "metadata": {},
   "source": [
    "** 分析 **\n",
    "\n",
    "上图表示在发生过购买行为的用户中,首次/末次购买时间的间隔时间。\n",
    "\n",
    "排除只有一天有购买行为的用户（首末次购买时间间隔为0天），间隔为24、27、28、29天的用户数最多。\n",
    "\n",
    "由于只有一个月的数据，因此这里求出的生命周期有一定局限性，如果有更长周期的数据，那么通过求出用户生命周期，我们可以知道间隔用户第一次购买的第几天采取营销措施，能延长用户的生命周期。"
   ]
  },
  {
   "cell_type": "markdown",
   "metadata": {},
   "source": [
    "### 6. 用户分类\n",
    "通过计算用户购买的频次，来对用户购买的活跃程度进行分类。\n",
    "\n",
    "用数字1，2来代表用户的活跃情况：\n",
    "- 1: 普通活跃用户\n",
    "- 2: 非常活跃用户"
   ]
  },
  {
   "cell_type": "code",
   "execution_count": 44,
   "metadata": {},
   "outputs": [
    {
     "data": {
      "text/html": [
       "<div>\n",
       "<style>\n",
       "    .dataframe thead tr:only-child th {\n",
       "        text-align: right;\n",
       "    }\n",
       "\n",
       "    .dataframe thead th {\n",
       "        text-align: left;\n",
       "    }\n",
       "\n",
       "    .dataframe tbody tr th {\n",
       "        vertical-align: top;\n",
       "    }\n",
       "</style>\n",
       "<table border=\"1\" class=\"dataframe\">\n",
       "  <thead>\n",
       "    <tr style=\"text-align: right;\">\n",
       "      <th></th>\n",
       "      <th>user_id</th>\n",
       "      <th>pay_num</th>\n",
       "    </tr>\n",
       "  </thead>\n",
       "  <tbody>\n",
       "    <tr>\n",
       "      <th>count</th>\n",
       "      <td>8.886000e+03</td>\n",
       "      <td>8886.000000</td>\n",
       "    </tr>\n",
       "    <tr>\n",
       "      <th>mean</th>\n",
       "      <td>7.152087e+07</td>\n",
       "      <td>5.536912</td>\n",
       "    </tr>\n",
       "    <tr>\n",
       "      <th>std</th>\n",
       "      <td>4.120719e+07</td>\n",
       "      <td>4.021963</td>\n",
       "    </tr>\n",
       "    <tr>\n",
       "      <th>min</th>\n",
       "      <td>4.913000e+03</td>\n",
       "      <td>1.000000</td>\n",
       "    </tr>\n",
       "    <tr>\n",
       "      <th>25%</th>\n",
       "      <td>3.567731e+07</td>\n",
       "      <td>2.000000</td>\n",
       "    </tr>\n",
       "    <tr>\n",
       "      <th>50%</th>\n",
       "      <td>7.238800e+07</td>\n",
       "      <td>5.000000</td>\n",
       "    </tr>\n",
       "    <tr>\n",
       "      <th>75%</th>\n",
       "      <td>1.071945e+08</td>\n",
       "      <td>8.000000</td>\n",
       "    </tr>\n",
       "    <tr>\n",
       "      <th>max</th>\n",
       "      <td>1.424559e+08</td>\n",
       "      <td>30.000000</td>\n",
       "    </tr>\n",
       "  </tbody>\n",
       "</table>\n",
       "</div>"
      ],
      "text/plain": [
       "            user_id      pay_num\n",
       "count  8.886000e+03  8886.000000\n",
       "mean   7.152087e+07     5.536912\n",
       "std    4.120719e+07     4.021963\n",
       "min    4.913000e+03     1.000000\n",
       "25%    3.567731e+07     2.000000\n",
       "50%    7.238800e+07     5.000000\n",
       "75%    1.071945e+08     8.000000\n",
       "max    1.424559e+08    30.000000"
      ]
     },
     "execution_count": 44,
     "metadata": {},
     "output_type": "execute_result"
    }
   ],
   "source": [
    "active = pd.read_csv('pay_num.csv')\n",
    "active.describe()"
   ]
  },
  {
   "cell_type": "code",
   "execution_count": 49,
   "metadata": {},
   "outputs": [
    {
     "data": {
      "text/html": [
       "<div>\n",
       "<style>\n",
       "    .dataframe thead tr:only-child th {\n",
       "        text-align: right;\n",
       "    }\n",
       "\n",
       "    .dataframe thead th {\n",
       "        text-align: left;\n",
       "    }\n",
       "\n",
       "    .dataframe tbody tr th {\n",
       "        vertical-align: top;\n",
       "    }\n",
       "</style>\n",
       "<table border=\"1\" class=\"dataframe\">\n",
       "  <thead>\n",
       "    <tr style=\"text-align: right;\">\n",
       "      <th></th>\n",
       "      <th>user_id</th>\n",
       "      <th>pay_num</th>\n",
       "      <th>group</th>\n",
       "    </tr>\n",
       "  </thead>\n",
       "  <tbody>\n",
       "    <tr>\n",
       "      <th>0</th>\n",
       "      <td>4913</td>\n",
       "      <td>5</td>\n",
       "      <td>1</td>\n",
       "    </tr>\n",
       "    <tr>\n",
       "      <th>1</th>\n",
       "      <td>6118</td>\n",
       "      <td>1</td>\n",
       "      <td>1</td>\n",
       "    </tr>\n",
       "  </tbody>\n",
       "</table>\n",
       "</div>"
      ],
      "text/plain": [
       "   user_id  pay_num  group\n",
       "0     4913        5      1\n",
       "1     6118        1      1"
      ]
     },
     "execution_count": 49,
     "metadata": {},
     "output_type": "execute_result"
    }
   ],
   "source": [
    "# 1: 普通活跃用户\n",
    "# 2：非常活跃用户\n",
    "active['group'] = active.pay_num.apply(lambda x:2 if x>5 else 1)\n",
    "active.head(2)"
   ]
  },
  {
   "cell_type": "markdown",
   "metadata": {},
   "source": [
    "### 7. 商品热度\n",
    "通过统计用户行为数据,计算不同类别商品的热度。\n",
    "\n",
    "使用对数加权的方法进行热度计算，click, collect, add-to-cart, payment的权重依次增大。"
   ]
  },
  {
   "cell_type": "code",
   "execution_count": 68,
   "metadata": {},
   "outputs": [
    {
     "data": {
      "text/html": [
       "<div>\n",
       "<style>\n",
       "    .dataframe thead tr:only-child th {\n",
       "        text-align: right;\n",
       "    }\n",
       "\n",
       "    .dataframe thead th {\n",
       "        text-align: left;\n",
       "    }\n",
       "\n",
       "    .dataframe tbody tr th {\n",
       "        vertical-align: top;\n",
       "    }\n",
       "</style>\n",
       "<table border=\"1\" class=\"dataframe\">\n",
       "  <thead>\n",
       "    <tr style=\"text-align: right;\">\n",
       "      <th></th>\n",
       "      <th>item_category</th>\n",
       "      <th>click</th>\n",
       "      <th>collect</th>\n",
       "      <th>add-to-cart</th>\n",
       "      <th>payment</th>\n",
       "    </tr>\n",
       "  </thead>\n",
       "  <tbody>\n",
       "    <tr>\n",
       "      <th>0</th>\n",
       "      <td>2</td>\n",
       "      <td>1.0</td>\n",
       "      <td>0.0</td>\n",
       "      <td>0.0</td>\n",
       "      <td>0.0</td>\n",
       "    </tr>\n",
       "    <tr>\n",
       "      <th>1</th>\n",
       "      <td>3</td>\n",
       "      <td>2.0</td>\n",
       "      <td>0.0</td>\n",
       "      <td>0.0</td>\n",
       "      <td>0.0</td>\n",
       "    </tr>\n",
       "    <tr>\n",
       "      <th>2</th>\n",
       "      <td>4</td>\n",
       "      <td>1.0</td>\n",
       "      <td>0.0</td>\n",
       "      <td>0.0</td>\n",
       "      <td>0.0</td>\n",
       "    </tr>\n",
       "    <tr>\n",
       "      <th>3</th>\n",
       "      <td>6</td>\n",
       "      <td>9.0</td>\n",
       "      <td>0.0</td>\n",
       "      <td>0.0</td>\n",
       "      <td>0.0</td>\n",
       "    </tr>\n",
       "    <tr>\n",
       "      <th>4</th>\n",
       "      <td>8</td>\n",
       "      <td>833.0</td>\n",
       "      <td>9.0</td>\n",
       "      <td>4.0</td>\n",
       "      <td>4.0</td>\n",
       "    </tr>\n",
       "  </tbody>\n",
       "</table>\n",
       "</div>"
      ],
      "text/plain": [
       "   item_category  click  collect  add-to-cart  payment\n",
       "0              2    1.0      0.0          0.0      0.0\n",
       "1              3    2.0      0.0          0.0      0.0\n",
       "2              4    1.0      0.0          0.0      0.0\n",
       "3              6    9.0      0.0          0.0      0.0\n",
       "4              8  833.0      9.0          4.0      4.0"
      ]
     },
     "execution_count": 68,
     "metadata": {},
     "output_type": "execute_result"
    }
   ],
   "source": [
    "item_heat = users_c[['item_category','behavior_type']]\n",
    "# 计算每个商品被点击、收藏、加入购物车和付款的次数\n",
    "cl=item_heat[item_heat.behavior_type==1].groupby(by='item_category',as_index=False).count().rename(columns={'behavior_type':'click'})\n",
    "co=item_heat[item_heat.behavior_type==2].groupby(by='item_category',as_index=False).count().rename(columns={'behavior_type':'collect'})\n",
    "atc=item_heat[item_heat.behavior_type==3].groupby(by='item_category',as_index=False).count().rename(columns={'behavior_type':'add-to-cart'})\n",
    "pay=item_heat[item_heat.behavior_type==4].groupby(by='item_category',as_index=False).count().rename(columns={'behavior_type':'payment'})\n",
    "# 合并计算结果，构建DataFrame\n",
    "item_heat = pd.merge(cl,co,on='item_category',how='outer')\n",
    "item_heat = pd.merge(item_heat,atc,on='item_category',how='outer')\n",
    "item_heat = pd.merge(item_heat,pay,on='item_category',how='outer')\n",
    "item_heat.fillna(0,inplace=True)\n",
    "item_heat.head()"
   ]
  },
  {
   "cell_type": "code",
   "execution_count": 69,
   "metadata": {},
   "outputs": [
    {
     "data": {
      "text/html": [
       "<div>\n",
       "<style>\n",
       "    .dataframe thead tr:only-child th {\n",
       "        text-align: right;\n",
       "    }\n",
       "\n",
       "    .dataframe thead th {\n",
       "        text-align: left;\n",
       "    }\n",
       "\n",
       "    .dataframe tbody tr th {\n",
       "        vertical-align: top;\n",
       "    }\n",
       "</style>\n",
       "<table border=\"1\" class=\"dataframe\">\n",
       "  <thead>\n",
       "    <tr style=\"text-align: right;\">\n",
       "      <th></th>\n",
       "      <th>item_category</th>\n",
       "      <th>click</th>\n",
       "      <th>collect</th>\n",
       "      <th>add-to-cart</th>\n",
       "      <th>payment</th>\n",
       "      <th>heat</th>\n",
       "    </tr>\n",
       "  </thead>\n",
       "  <tbody>\n",
       "    <tr>\n",
       "      <th>0</th>\n",
       "      <td>2</td>\n",
       "      <td>0.000100</td>\n",
       "      <td>-18.420681</td>\n",
       "      <td>-27.631021</td>\n",
       "      <td>-36.841361</td>\n",
       "      <td>-82.892963</td>\n",
       "    </tr>\n",
       "    <tr>\n",
       "      <th>1</th>\n",
       "      <td>3</td>\n",
       "      <td>0.693197</td>\n",
       "      <td>-18.420681</td>\n",
       "      <td>-27.631021</td>\n",
       "      <td>-36.841361</td>\n",
       "      <td>-82.199866</td>\n",
       "    </tr>\n",
       "    <tr>\n",
       "      <th>2</th>\n",
       "      <td>4</td>\n",
       "      <td>0.000100</td>\n",
       "      <td>-18.420681</td>\n",
       "      <td>-27.631021</td>\n",
       "      <td>-36.841361</td>\n",
       "      <td>-82.892963</td>\n",
       "    </tr>\n",
       "    <tr>\n",
       "      <th>3</th>\n",
       "      <td>6</td>\n",
       "      <td>2.197236</td>\n",
       "      <td>-18.420681</td>\n",
       "      <td>-27.631021</td>\n",
       "      <td>-36.841361</td>\n",
       "      <td>-80.695828</td>\n",
       "    </tr>\n",
       "    <tr>\n",
       "      <th>4</th>\n",
       "      <td>8</td>\n",
       "      <td>6.725034</td>\n",
       "      <td>4.394471</td>\n",
       "      <td>4.158958</td>\n",
       "      <td>5.545277</td>\n",
       "      <td>20.823741</td>\n",
       "    </tr>\n",
       "    <tr>\n",
       "      <th>5</th>\n",
       "      <td>10</td>\n",
       "      <td>5.017280</td>\n",
       "      <td>2.197291</td>\n",
       "      <td>6.591707</td>\n",
       "      <td>5.545277</td>\n",
       "      <td>19.351556</td>\n",
       "    </tr>\n",
       "    <tr>\n",
       "      <th>6</th>\n",
       "      <td>11</td>\n",
       "      <td>8.632484</td>\n",
       "      <td>9.043579</td>\n",
       "      <td>13.070130</td>\n",
       "      <td>6.437832</td>\n",
       "      <td>37.184026</td>\n",
       "    </tr>\n",
       "    <tr>\n",
       "      <th>7</th>\n",
       "      <td>12</td>\n",
       "      <td>4.969814</td>\n",
       "      <td>4.158908</td>\n",
       "      <td>7.917193</td>\n",
       "      <td>5.545277</td>\n",
       "      <td>22.591193</td>\n",
       "    </tr>\n",
       "    <tr>\n",
       "      <th>8</th>\n",
       "      <td>13</td>\n",
       "      <td>4.110876</td>\n",
       "      <td>3.583552</td>\n",
       "      <td>2.079592</td>\n",
       "      <td>7.167105</td>\n",
       "      <td>16.941124</td>\n",
       "    </tr>\n",
       "    <tr>\n",
       "      <th>9</th>\n",
       "      <td>15</td>\n",
       "      <td>6.079933</td>\n",
       "      <td>7.221841</td>\n",
       "      <td>4.158958</td>\n",
       "      <td>5.545277</td>\n",
       "      <td>23.006010</td>\n",
       "    </tr>\n",
       "  </tbody>\n",
       "</table>\n",
       "</div>"
      ],
      "text/plain": [
       "   item_category     click    collect  add-to-cart    payment       heat\n",
       "0              2  0.000100 -18.420681   -27.631021 -36.841361 -82.892963\n",
       "1              3  0.693197 -18.420681   -27.631021 -36.841361 -82.199866\n",
       "2              4  0.000100 -18.420681   -27.631021 -36.841361 -82.892963\n",
       "3              6  2.197236 -18.420681   -27.631021 -36.841361 -80.695828\n",
       "4              8  6.725034   4.394471     4.158958   5.545277  20.823741\n",
       "5             10  5.017280   2.197291     6.591707   5.545277  19.351556\n",
       "6             11  8.632484   9.043579    13.070130   6.437832  37.184026\n",
       "7             12  4.969814   4.158908     7.917193   5.545277  22.591193\n",
       "8             13  4.110876   3.583552     2.079592   7.167105  16.941124\n",
       "9             15  6.079933   7.221841     4.158958   5.545277  23.006010"
      ]
     },
     "execution_count": 69,
     "metadata": {},
     "output_type": "execute_result"
    }
   ],
   "source": [
    "# 使用对数加权的方法进行热度计算，click, collect, add-to-cart, payment的权重依次增大\n",
    "item_heat['click'] = np.log(item_heat['click']+0.0001)\n",
    "item_heat['collect'] = np.log(item_heat['collect']+0.0001)*2\n",
    "item_heat['add-to-cart'] = np.log(item_heat['add-to-cart']+0.0001)*3\n",
    "item_heat['payment'] = np.log(item_heat['payment']+0.0001)*4\n",
    "item_heat['heat'] = item_heat['click']+item_heat['collect']+item_heat['add-to-cart']+item_heat['payment']\n",
    "item_heat.head(10)"
   ]
  },
  {
   "cell_type": "code",
   "execution_count": 74,
   "metadata": {},
   "outputs": [
    {
     "data": {
      "text/html": [
       "<div>\n",
       "<style>\n",
       "    .dataframe thead tr:only-child th {\n",
       "        text-align: right;\n",
       "    }\n",
       "\n",
       "    .dataframe thead th {\n",
       "        text-align: left;\n",
       "    }\n",
       "\n",
       "    .dataframe tbody tr th {\n",
       "        vertical-align: top;\n",
       "    }\n",
       "</style>\n",
       "<table border=\"1\" class=\"dataframe\">\n",
       "  <thead>\n",
       "    <tr style=\"text-align: right;\">\n",
       "      <th></th>\n",
       "      <th>item_category</th>\n",
       "      <th>click</th>\n",
       "      <th>collect</th>\n",
       "      <th>add-to-cart</th>\n",
       "      <th>payment</th>\n",
       "      <th>heat</th>\n",
       "    </tr>\n",
       "  </thead>\n",
       "  <tbody>\n",
       "    <tr>\n",
       "      <th>1135</th>\n",
       "      <td>1863</td>\n",
       "      <td>12.399965</td>\n",
       "      <td>18.447303</td>\n",
       "      <td>27.370096</td>\n",
       "      <td>30.273517</td>\n",
       "      <td>88.490881</td>\n",
       "    </tr>\n",
       "    <tr>\n",
       "      <th>3707</th>\n",
       "      <td>5894</td>\n",
       "      <td>12.218179</td>\n",
       "      <td>17.926321</td>\n",
       "      <td>26.334053</td>\n",
       "      <td>27.387773</td>\n",
       "      <td>83.866326</td>\n",
       "    </tr>\n",
       "    <tr>\n",
       "      <th>4093</th>\n",
       "      <td>6513</td>\n",
       "      <td>12.113140</td>\n",
       "      <td>17.606247</td>\n",
       "      <td>26.352487</td>\n",
       "      <td>27.729792</td>\n",
       "      <td>83.801666</td>\n",
       "    </tr>\n",
       "    <tr>\n",
       "      <th>3393</th>\n",
       "      <td>5399</td>\n",
       "      <td>12.090140</td>\n",
       "      <td>17.579625</td>\n",
       "      <td>25.750066</td>\n",
       "      <td>27.749257</td>\n",
       "      <td>83.169088</td>\n",
       "    </tr>\n",
       "    <tr>\n",
       "      <th>8367</th>\n",
       "      <td>13230</td>\n",
       "      <td>12.290593</td>\n",
       "      <td>17.754764</td>\n",
       "      <td>26.045071</td>\n",
       "      <td>26.895330</td>\n",
       "      <td>82.985758</td>\n",
       "    </tr>\n",
       "  </tbody>\n",
       "</table>\n",
       "</div>"
      ],
      "text/plain": [
       "      item_category      click    collect  add-to-cart    payment       heat\n",
       "1135           1863  12.399965  18.447303    27.370096  30.273517  88.490881\n",
       "3707           5894  12.218179  17.926321    26.334053  27.387773  83.866326\n",
       "4093           6513  12.113140  17.606247    26.352487  27.729792  83.801666\n",
       "3393           5399  12.090140  17.579625    25.750066  27.749257  83.169088\n",
       "8367          13230  12.290593  17.754764    26.045071  26.895330  82.985758"
      ]
     },
     "execution_count": 74,
     "metadata": {},
     "output_type": "execute_result"
    }
   ],
   "source": [
    "item_heat.sort_values(by='heat',ascending=False)[:5]"
   ]
  },
  {
   "cell_type": "markdown",
   "metadata": {},
   "source": [
    "热度最高的前5商品类别的编号为：1863，5894，6513，5399，13230。"
   ]
  },
  {
   "cell_type": "markdown",
   "metadata": {},
   "source": [
    "## 六. 总结及建议\n",
    "\n",
    "1. PV、UV通常在21点左右达到峰值，因此如果在这个时候上新或者进行新活动，是最容易被用户关注到。\n",
    "2. 上午11点左右通过平台、短信、邮件进行提醒购买，可以达到更好的效果。\n",
    "3. 这年的双十二无论从访问量，活跃度还是转换率都达到了不错的效果。\n",
    "4. 在用户首次购买间隔28天的时候可以对用户采取一定的营销措施。\n",
    "5. 用户可分为普通活跃和非常活跃两类用户。\n",
    "6. 商品编号为1863的热度最高。"
   ]
  }
 ],
 "metadata": {
  "kernelspec": {
   "display_name": "Python 3",
   "language": "python",
   "name": "python3"
  },
  "language_info": {
   "codemirror_mode": {
    "name": "ipython",
    "version": 3
   },
   "file_extension": ".py",
   "mimetype": "text/x-python",
   "name": "python",
   "nbconvert_exporter": "python",
   "pygments_lexer": "ipython3",
   "version": "3.6.3"
  }
 },
 "nbformat": 4,
 "nbformat_minor": 2
}
