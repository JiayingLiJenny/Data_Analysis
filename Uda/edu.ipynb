{
 "cells": [
  {
   "cell_type": "markdown",
   "metadata": {
    "collapsed": true
   },
   "source": [
    "# 学员情况及课程质量分析\n",
    "\n",
    "![png](./pics/00.png)\n",
    "\n",
    "## 背景\n",
    "\n",
    "数据来源于优达学城早期（2014年11月～2015年8月）某个纳米课程的试验数据，学员来自世界各地，课程的学习是不收费的，只有要获取纳米学位的时候才收费。官方只给出了这样的数据，而没有任何分析。那么，假设我是优达学城的分析师，我将如何对这份数据进行分析?\n",
    "\n",
    "优达学城的一个纳米课程包含几十节课程，每个阶段设置一个项目，而只有完成了所有项目才能获得认证证书。\n",
    "\n",
    "\n",
    "## 目标\n",
    "\n",
    "1. 提高学生的任务完成率\n",
    "2. 提高课程质量\n",
    "\n",
    "\n",
    "### Data\n",
    "数据是关于每个学员每天参与情况的记录。\n",
    "\n",
    "- acct：学员编号\t\n",
    "- utc_date：记录日期\t\n",
    "- num_courses_visited：在这一天，学习的课程数\t\n",
    "- total_minutes_visited：在这一天，总的学习时间\t\n",
    "- lessons_completed:在这一天，课程完成数量\n",
    "- projects_completed:在这一天，项目完成数量\n",
    "\n",
    "### 分析思路\n",
    "\n",
    "#### 学员情况\n",
    "1. 积极性\n",
    "  \n",
    "   1.1 从参与度(活跃天数，学习时间，访问次数)进行分析\n",
    "  \n",
    "   1.2 从课程平均访问天数，以及随时间的变化趋势分析\n",
    "    \n",
    "2. 影响学员完成任务的因素\n",
    "\n",
    "   2.1 比较完成至少一个项目的学生与一个项目都未能完成的学生的差别\n",
    "\n",
    "   2.2 从课程的完成趋势与所花费的时间变化趋势进行比较分析\n",
    "\n",
    "#### 课程质量\n",
    "1. 首节课质量如何，是否足够吸引学员\n",
    "\n",
    "   1.1 从首节课后学员流失率来分析\n",
    "    \n",
    "2. 课程是否枯燥\n",
    "    \n",
    "    2.1 从每次登录学习的时间长短分析\n",
    "    \n",
    "    2.2 从学生课程参与积极性随时间的变化趋势分析\n",
    "    \n",
    "3. 课程难易程度如何\n",
    "    \n",
    "    3.1 从完成一节课需要花费的平均时间分析\n",
    "    \n",
    "    3.2 从完成课程所花的时间随时间变化的趋势分析\n",
    "    \n",
    "4. 项目难易程度如何，哪些项目偏难\n",
    "    \n",
    "    4.1 从项目完成率分析\n",
    "    \n",
    "——————————————————————————————————————\n",
    "#### 结合数据拆解为以下具体的问题进行分析：\n",
    "1. 报名却未参加课程，只参加过一次课程的学生占比？找出首次课程流失率。\n",
    "2. 课程上过两次及以上的学生平均课程访问数，平均花费时间，平均课程完成数，平均项目完成数，平均登录天数是多少？\n",
    "3. 每次访问课程平均学习时间？登录的每天平均学习的时间？\n",
    "4. 完成一节课程需要花费的平均时间？\n",
    "5. 完成不同项目个数的学生所占的比例？\n",
    "6. 完成至少一个项目的学生与一个项目都无法完成的学生有什么区别？\n",
    "7. 随着时间推移，学生在学习上的惰性是否越来越大？（从学习时间，课程访问次数，活跃天数来判断）\n",
    "8. 课程及项目完成数的变化趋势怎样？\n",
    "9. 课程难度如何？（完成课程所花时间的变化趋势）\n",
    "10. 能坚持学习到最后的学生有什么特点？（每次登录学习时长的变化趋势）"
   ]
  },
  {
   "cell_type": "markdown",
   "metadata": {},
   "source": [
    "## 数据清洗"
   ]
  },
  {
   "cell_type": "code",
   "execution_count": 1,
   "metadata": {
    "collapsed": true
   },
   "outputs": [],
   "source": [
    "import pandas as pd\n",
    "import numpy as np\n",
    "\n",
    "from IPython.display import display\n",
    "import seaborn as sns\n",
    "%matplotlib inline\n"
   ]
  },
  {
   "cell_type": "markdown",
   "metadata": {},
   "source": [
    "### 1. 数据观察/整理"
   ]
  },
  {
   "cell_type": "code",
   "execution_count": 2,
   "metadata": {},
   "outputs": [
    {
     "data": {
      "text/html": [
       "<div>\n",
       "<style>\n",
       "    .dataframe thead tr:only-child th {\n",
       "        text-align: right;\n",
       "    }\n",
       "\n",
       "    .dataframe thead th {\n",
       "        text-align: left;\n",
       "    }\n",
       "\n",
       "    .dataframe tbody tr th {\n",
       "        vertical-align: top;\n",
       "    }\n",
       "</style>\n",
       "<table border=\"1\" class=\"dataframe\">\n",
       "  <thead>\n",
       "    <tr style=\"text-align: right;\">\n",
       "      <th></th>\n",
       "      <th>acct</th>\n",
       "      <th>utc_date</th>\n",
       "      <th>num_courses_visited</th>\n",
       "      <th>total_minutes_visited</th>\n",
       "      <th>lessons_completed</th>\n",
       "      <th>projects_completed</th>\n",
       "    </tr>\n",
       "  </thead>\n",
       "  <tbody>\n",
       "    <tr>\n",
       "      <th>0</th>\n",
       "      <td>0</td>\n",
       "      <td>2015-01-09</td>\n",
       "      <td>1.0</td>\n",
       "      <td>11.679374</td>\n",
       "      <td>0.0</td>\n",
       "      <td>0.0</td>\n",
       "    </tr>\n",
       "    <tr>\n",
       "      <th>1</th>\n",
       "      <td>0</td>\n",
       "      <td>2015-01-10</td>\n",
       "      <td>2.0</td>\n",
       "      <td>37.284887</td>\n",
       "      <td>0.0</td>\n",
       "      <td>0.0</td>\n",
       "    </tr>\n",
       "    <tr>\n",
       "      <th>2</th>\n",
       "      <td>0</td>\n",
       "      <td>2015-01-11</td>\n",
       "      <td>2.0</td>\n",
       "      <td>53.633746</td>\n",
       "      <td>0.0</td>\n",
       "      <td>0.0</td>\n",
       "    </tr>\n",
       "    <tr>\n",
       "      <th>3</th>\n",
       "      <td>0</td>\n",
       "      <td>2015-01-12</td>\n",
       "      <td>1.0</td>\n",
       "      <td>33.489270</td>\n",
       "      <td>0.0</td>\n",
       "      <td>0.0</td>\n",
       "    </tr>\n",
       "    <tr>\n",
       "      <th>4</th>\n",
       "      <td>0</td>\n",
       "      <td>2015-01-13</td>\n",
       "      <td>1.0</td>\n",
       "      <td>64.779678</td>\n",
       "      <td>0.0</td>\n",
       "      <td>0.0</td>\n",
       "    </tr>\n",
       "  </tbody>\n",
       "</table>\n",
       "</div>"
      ],
      "text/plain": [
       "   acct    utc_date  num_courses_visited  total_minutes_visited  \\\n",
       "0     0  2015-01-09                  1.0              11.679374   \n",
       "1     0  2015-01-10                  2.0              37.284887   \n",
       "2     0  2015-01-11                  2.0              53.633746   \n",
       "3     0  2015-01-12                  1.0              33.489270   \n",
       "4     0  2015-01-13                  1.0              64.779678   \n",
       "\n",
       "   lessons_completed  projects_completed  \n",
       "0                0.0                 0.0  \n",
       "1                0.0                 0.0  \n",
       "2                0.0                 0.0  \n",
       "3                0.0                 0.0  \n",
       "4                0.0                 0.0  "
      ]
     },
     "execution_count": 2,
     "metadata": {},
     "output_type": "execute_result"
    }
   ],
   "source": [
    "df = pd.read_csv('daily-engagement.csv')\n",
    "df.head()"
   ]
  },
  {
   "cell_type": "code",
   "execution_count": 4,
   "metadata": {},
   "outputs": [
    {
     "name": "stdout",
     "output_type": "stream",
     "text": [
      "<class 'pandas.core.frame.DataFrame'>\n",
      "RangeIndex: 136240 entries, 0 to 136239\n",
      "Data columns (total 6 columns):\n",
      "acct                     136240 non-null int64\n",
      "utc_date                 136240 non-null object\n",
      "num_courses_visited      136240 non-null float64\n",
      "total_minutes_visited    136240 non-null float64\n",
      "lessons_completed        136240 non-null float64\n",
      "projects_completed       136240 non-null float64\n",
      "dtypes: float64(4), int64(1), object(1)\n",
      "memory usage: 6.2+ MB\n"
     ]
    }
   ],
   "source": [
    "df.info()"
   ]
  },
  {
   "cell_type": "code",
   "execution_count": 12,
   "metadata": {
    "collapsed": true
   },
   "outputs": [],
   "source": [
    "# 格式转换\n",
    "df['utc_date'] = pd.to_datetime(df.utc_date)\n",
    "df['num_courses_visited'] = df.num_courses_visited.astype('int64')\n",
    "df['lessons_completed'] = df.lessons_completed.astype('int64')\n",
    "df['projects_completed'] = df.projects_completed.astype('int64')"
   ]
  },
  {
   "cell_type": "code",
   "execution_count": 13,
   "metadata": {},
   "outputs": [
    {
     "name": "stdout",
     "output_type": "stream",
     "text": [
      "<class 'pandas.core.frame.DataFrame'>\n",
      "RangeIndex: 136240 entries, 0 to 136239\n",
      "Data columns (total 6 columns):\n",
      "acct                     136240 non-null int64\n",
      "utc_date                 136240 non-null datetime64[ns]\n",
      "num_courses_visited      136240 non-null int64\n",
      "total_minutes_visited    136240 non-null float64\n",
      "lessons_completed        136240 non-null int64\n",
      "projects_completed       136240 non-null int64\n",
      "dtypes: datetime64[ns](1), float64(1), int64(4)\n",
      "memory usage: 6.2 MB\n"
     ]
    }
   ],
   "source": [
    "df.info()"
   ]
  },
  {
   "cell_type": "code",
   "execution_count": 15,
   "metadata": {},
   "outputs": [
    {
     "data": {
      "text/plain": [
       "acct                     0\n",
       "utc_date                 0\n",
       "num_courses_visited      0\n",
       "total_minutes_visited    0\n",
       "lessons_completed        0\n",
       "projects_completed       0\n",
       "dtype: int64"
      ]
     },
     "execution_count": 15,
     "metadata": {},
     "output_type": "execute_result"
    }
   ],
   "source": [
    "# 缺失值检测\n",
    "df.isnull().sum()"
   ]
  },
  {
   "cell_type": "code",
   "execution_count": 17,
   "metadata": {},
   "outputs": [
    {
     "data": {
      "text/html": [
       "<div>\n",
       "<style>\n",
       "    .dataframe thead tr:only-child th {\n",
       "        text-align: right;\n",
       "    }\n",
       "\n",
       "    .dataframe thead th {\n",
       "        text-align: left;\n",
       "    }\n",
       "\n",
       "    .dataframe tbody tr th {\n",
       "        vertical-align: top;\n",
       "    }\n",
       "</style>\n",
       "<table border=\"1\" class=\"dataframe\">\n",
       "  <thead>\n",
       "    <tr style=\"text-align: right;\">\n",
       "      <th></th>\n",
       "      <th>acct</th>\n",
       "      <th>num_courses_visited</th>\n",
       "      <th>total_minutes_visited</th>\n",
       "      <th>lessons_completed</th>\n",
       "      <th>projects_completed</th>\n",
       "    </tr>\n",
       "  </thead>\n",
       "  <tbody>\n",
       "    <tr>\n",
       "      <th>count</th>\n",
       "      <td>136240.000000</td>\n",
       "      <td>136240.000000</td>\n",
       "      <td>136240.000000</td>\n",
       "      <td>136240.000000</td>\n",
       "      <td>136240.000000</td>\n",
       "    </tr>\n",
       "    <tr>\n",
       "      <th>mean</th>\n",
       "      <td>449.069488</td>\n",
       "      <td>0.341060</td>\n",
       "      <td>24.551680</td>\n",
       "      <td>0.128795</td>\n",
       "      <td>0.006731</td>\n",
       "    </tr>\n",
       "    <tr>\n",
       "      <th>std</th>\n",
       "      <td>321.104209</td>\n",
       "      <td>0.624565</td>\n",
       "      <td>62.102959</td>\n",
       "      <td>0.469311</td>\n",
       "      <td>0.085108</td>\n",
       "    </tr>\n",
       "    <tr>\n",
       "      <th>min</th>\n",
       "      <td>0.000000</td>\n",
       "      <td>0.000000</td>\n",
       "      <td>0.000000</td>\n",
       "      <td>0.000000</td>\n",
       "      <td>0.000000</td>\n",
       "    </tr>\n",
       "    <tr>\n",
       "      <th>25%</th>\n",
       "      <td>200.000000</td>\n",
       "      <td>0.000000</td>\n",
       "      <td>0.000000</td>\n",
       "      <td>0.000000</td>\n",
       "      <td>0.000000</td>\n",
       "    </tr>\n",
       "    <tr>\n",
       "      <th>50%</th>\n",
       "      <td>392.000000</td>\n",
       "      <td>0.000000</td>\n",
       "      <td>0.000000</td>\n",
       "      <td>0.000000</td>\n",
       "      <td>0.000000</td>\n",
       "    </tr>\n",
       "    <tr>\n",
       "      <th>75%</th>\n",
       "      <td>597.000000</td>\n",
       "      <td>1.000000</td>\n",
       "      <td>7.307366</td>\n",
       "      <td>0.000000</td>\n",
       "      <td>0.000000</td>\n",
       "    </tr>\n",
       "    <tr>\n",
       "      <th>max</th>\n",
       "      <td>1305.000000</td>\n",
       "      <td>10.000000</td>\n",
       "      <td>1030.883197</td>\n",
       "      <td>17.000000</td>\n",
       "      <td>3.000000</td>\n",
       "    </tr>\n",
       "  </tbody>\n",
       "</table>\n",
       "</div>"
      ],
      "text/plain": [
       "                acct  num_courses_visited  total_minutes_visited  \\\n",
       "count  136240.000000        136240.000000          136240.000000   \n",
       "mean      449.069488             0.341060              24.551680   \n",
       "std       321.104209             0.624565              62.102959   \n",
       "min         0.000000             0.000000               0.000000   \n",
       "25%       200.000000             0.000000               0.000000   \n",
       "50%       392.000000             0.000000               0.000000   \n",
       "75%       597.000000             1.000000               7.307366   \n",
       "max      1305.000000            10.000000            1030.883197   \n",
       "\n",
       "       lessons_completed  projects_completed  \n",
       "count      136240.000000       136240.000000  \n",
       "mean            0.128795            0.006731  \n",
       "std             0.469311            0.085108  \n",
       "min             0.000000            0.000000  \n",
       "25%             0.000000            0.000000  \n",
       "50%             0.000000            0.000000  \n",
       "75%             0.000000            0.000000  \n",
       "max            17.000000            3.000000  "
      ]
     },
     "execution_count": 17,
     "metadata": {},
     "output_type": "execute_result"
    }
   ],
   "source": [
    "df.describe()"
   ]
  },
  {
   "cell_type": "markdown",
   "metadata": {},
   "source": [
    "通过初步观察，没有存在什么异常数值，但整体呈现较严重的偏态分布。"
   ]
  },
  {
   "cell_type": "code",
   "execution_count": 24,
   "metadata": {},
   "outputs": [
    {
     "data": {
      "text/html": [
       "<div>\n",
       "<style>\n",
       "    .dataframe thead tr:only-child th {\n",
       "        text-align: right;\n",
       "    }\n",
       "\n",
       "    .dataframe thead th {\n",
       "        text-align: left;\n",
       "    }\n",
       "\n",
       "    .dataframe tbody tr th {\n",
       "        vertical-align: top;\n",
       "    }\n",
       "</style>\n",
       "<table border=\"1\" class=\"dataframe\">\n",
       "  <thead>\n",
       "    <tr style=\"text-align: right;\">\n",
       "      <th></th>\n",
       "      <th>acct</th>\n",
       "      <th>utc_date</th>\n",
       "      <th>num_courses_visited</th>\n",
       "      <th>total_minutes_visited</th>\n",
       "      <th>lessons_completed</th>\n",
       "      <th>projects_completed</th>\n",
       "      <th>actived</th>\n",
       "    </tr>\n",
       "  </thead>\n",
       "  <tbody>\n",
       "    <tr>\n",
       "      <th>0</th>\n",
       "      <td>0</td>\n",
       "      <td>2015-01-09</td>\n",
       "      <td>1</td>\n",
       "      <td>11.679374</td>\n",
       "      <td>0</td>\n",
       "      <td>0</td>\n",
       "      <td>1</td>\n",
       "    </tr>\n",
       "    <tr>\n",
       "      <th>1</th>\n",
       "      <td>0</td>\n",
       "      <td>2015-01-10</td>\n",
       "      <td>2</td>\n",
       "      <td>37.284887</td>\n",
       "      <td>0</td>\n",
       "      <td>0</td>\n",
       "      <td>1</td>\n",
       "    </tr>\n",
       "    <tr>\n",
       "      <th>2</th>\n",
       "      <td>0</td>\n",
       "      <td>2015-01-11</td>\n",
       "      <td>2</td>\n",
       "      <td>53.633746</td>\n",
       "      <td>0</td>\n",
       "      <td>0</td>\n",
       "      <td>1</td>\n",
       "    </tr>\n",
       "  </tbody>\n",
       "</table>\n",
       "</div>"
      ],
      "text/plain": [
       "   acct   utc_date  num_courses_visited  total_minutes_visited  \\\n",
       "0     0 2015-01-09                    1              11.679374   \n",
       "1     0 2015-01-10                    2              37.284887   \n",
       "2     0 2015-01-11                    2              53.633746   \n",
       "\n",
       "   lessons_completed  projects_completed  actived  \n",
       "0                  0                   0        1  \n",
       "1                  0                   0        1  \n",
       "2                  0                   0        1  "
      ]
     },
     "execution_count": 24,
     "metadata": {},
     "output_type": "execute_result"
    }
   ],
   "source": [
    "# 判断那天用户是否活跃，活跃则用1标记，否则用0\n",
    "df['actived'] = df.num_courses_visited.map(lambda x:1 if x>0 else 0)\n",
    "df.head(3)"
   ]
  },
  {
   "cell_type": "code",
   "execution_count": 71,
   "metadata": {},
   "outputs": [
    {
     "data": {
      "text/plain": [
       "Timestamp('2014-11-05 00:00:00')"
      ]
     },
     "metadata": {},
     "output_type": "display_data"
    },
    {
     "data": {
      "text/plain": [
       "Timestamp('2015-08-27 00:00:00')"
      ]
     },
     "metadata": {},
     "output_type": "display_data"
    }
   ],
   "source": [
    "# 课程开始的时间\n",
    "display(df.utc_date.min())\n",
    "# 课程结束的时间\n",
    "display(df.utc_date.max())"
   ]
  },
  {
   "cell_type": "markdown",
   "metadata": {},
   "source": [
    "### 2. 上面的数据粒度是每天参与情况，现转换成每位用户"
   ]
  },
  {
   "cell_type": "markdown",
   "metadata": {},
   "source": [
    "#### 2.1 进行转换"
   ]
  },
  {
   "cell_type": "code",
   "execution_count": 25,
   "metadata": {},
   "outputs": [
    {
     "data": {
      "text/html": [
       "<div>\n",
       "<style>\n",
       "    .dataframe thead tr:only-child th {\n",
       "        text-align: right;\n",
       "    }\n",
       "\n",
       "    .dataframe thead th {\n",
       "        text-align: left;\n",
       "    }\n",
       "\n",
       "    .dataframe tbody tr th {\n",
       "        vertical-align: top;\n",
       "    }\n",
       "</style>\n",
       "<table border=\"1\" class=\"dataframe\">\n",
       "  <thead>\n",
       "    <tr style=\"text-align: right;\">\n",
       "      <th></th>\n",
       "      <th>num_courses_visited</th>\n",
       "      <th>total_minutes_visited</th>\n",
       "      <th>lessons_completed</th>\n",
       "      <th>projects_completed</th>\n",
       "      <th>actived</th>\n",
       "    </tr>\n",
       "    <tr>\n",
       "      <th>acct</th>\n",
       "      <th></th>\n",
       "      <th></th>\n",
       "      <th></th>\n",
       "      <th></th>\n",
       "      <th></th>\n",
       "    </tr>\n",
       "  </thead>\n",
       "  <tbody>\n",
       "    <tr>\n",
       "      <th>0</th>\n",
       "      <td>108</td>\n",
       "      <td>7605.371411</td>\n",
       "      <td>40</td>\n",
       "      <td>2</td>\n",
       "      <td>88</td>\n",
       "    </tr>\n",
       "    <tr>\n",
       "      <th>1</th>\n",
       "      <td>52</td>\n",
       "      <td>4296.244476</td>\n",
       "      <td>23</td>\n",
       "      <td>0</td>\n",
       "      <td>36</td>\n",
       "    </tr>\n",
       "    <tr>\n",
       "      <th>2</th>\n",
       "      <td>39</td>\n",
       "      <td>2977.430045</td>\n",
       "      <td>9</td>\n",
       "      <td>0</td>\n",
       "      <td>29</td>\n",
       "    </tr>\n",
       "    <tr>\n",
       "      <th>3</th>\n",
       "      <td>59</td>\n",
       "      <td>4422.018919</td>\n",
       "      <td>42</td>\n",
       "      <td>2</td>\n",
       "      <td>50</td>\n",
       "    </tr>\n",
       "    <tr>\n",
       "      <th>4</th>\n",
       "      <td>40</td>\n",
       "      <td>3722.648850</td>\n",
       "      <td>18</td>\n",
       "      <td>0</td>\n",
       "      <td>35</td>\n",
       "    </tr>\n",
       "  </tbody>\n",
       "</table>\n",
       "</div>"
      ],
      "text/plain": [
       "      num_courses_visited  total_minutes_visited  lessons_completed  \\\n",
       "acct                                                                  \n",
       "0                     108            7605.371411                 40   \n",
       "1                      52            4296.244476                 23   \n",
       "2                      39            2977.430045                  9   \n",
       "3                      59            4422.018919                 42   \n",
       "4                      40            3722.648850                 18   \n",
       "\n",
       "      projects_completed  actived  \n",
       "acct                               \n",
       "0                      2       88  \n",
       "1                      0       36  \n",
       "2                      0       29  \n",
       "3                      2       50  \n",
       "4                      0       35  "
      ]
     },
     "execution_count": 25,
     "metadata": {},
     "output_type": "execute_result"
    }
   ],
   "source": [
    "df_users = df.groupby('acct').sum()\n",
    "df_users.head()"
   ]
  },
  {
   "cell_type": "markdown",
   "metadata": {},
   "source": [
    "#### 2.2 判断学生是否完成了纳米学位所有项目\n",
    "\n",
    "一个纳米学位中包含多个项目，一个项目又包含多节课，学生只有完成了这个纳米学位中的所有项目，才能获得纳米学位。\n",
    "\n",
    "这是同一个纳米学位的数据，因此最大项目数就是这个纳米学位总项目数。"
   ]
  },
  {
   "cell_type": "code",
   "execution_count": 79,
   "metadata": {},
   "outputs": [
    {
     "data": {
      "text/plain": [
       "8"
      ]
     },
     "execution_count": 79,
     "metadata": {},
     "output_type": "execute_result"
    }
   ],
   "source": [
    "# 求出总项目数\n",
    "df_users.projects_completed.max()"
   ]
  },
  {
   "cell_type": "code",
   "execution_count": 26,
   "metadata": {},
   "outputs": [
    {
     "data": {
      "text/html": [
       "<div>\n",
       "<style>\n",
       "    .dataframe thead tr:only-child th {\n",
       "        text-align: right;\n",
       "    }\n",
       "\n",
       "    .dataframe thead th {\n",
       "        text-align: left;\n",
       "    }\n",
       "\n",
       "    .dataframe tbody tr th {\n",
       "        vertical-align: top;\n",
       "    }\n",
       "</style>\n",
       "<table border=\"1\" class=\"dataframe\">\n",
       "  <thead>\n",
       "    <tr style=\"text-align: right;\">\n",
       "      <th></th>\n",
       "      <th>num_courses_visited</th>\n",
       "      <th>total_minutes_visited</th>\n",
       "      <th>lessons_completed</th>\n",
       "      <th>projects_completed</th>\n",
       "      <th>actived</th>\n",
       "      <th>completed</th>\n",
       "    </tr>\n",
       "    <tr>\n",
       "      <th>acct</th>\n",
       "      <th></th>\n",
       "      <th></th>\n",
       "      <th></th>\n",
       "      <th></th>\n",
       "      <th></th>\n",
       "      <th></th>\n",
       "    </tr>\n",
       "  </thead>\n",
       "  <tbody>\n",
       "    <tr>\n",
       "      <th>0</th>\n",
       "      <td>108</td>\n",
       "      <td>7605.371411</td>\n",
       "      <td>40</td>\n",
       "      <td>2</td>\n",
       "      <td>88</td>\n",
       "      <td>0</td>\n",
       "    </tr>\n",
       "    <tr>\n",
       "      <th>1</th>\n",
       "      <td>52</td>\n",
       "      <td>4296.244476</td>\n",
       "      <td>23</td>\n",
       "      <td>0</td>\n",
       "      <td>36</td>\n",
       "      <td>0</td>\n",
       "    </tr>\n",
       "    <tr>\n",
       "      <th>2</th>\n",
       "      <td>39</td>\n",
       "      <td>2977.430045</td>\n",
       "      <td>9</td>\n",
       "      <td>0</td>\n",
       "      <td>29</td>\n",
       "      <td>0</td>\n",
       "    </tr>\n",
       "  </tbody>\n",
       "</table>\n",
       "</div>"
      ],
      "text/plain": [
       "      num_courses_visited  total_minutes_visited  lessons_completed  \\\n",
       "acct                                                                  \n",
       "0                     108            7605.371411                 40   \n",
       "1                      52            4296.244476                 23   \n",
       "2                      39            2977.430045                  9   \n",
       "\n",
       "      projects_completed  actived  completed  \n",
       "acct                                          \n",
       "0                      2       88          0  \n",
       "1                      0       36          0  \n",
       "2                      0       29          0  "
      ]
     },
     "execution_count": 26,
     "metadata": {},
     "output_type": "execute_result"
    }
   ],
   "source": [
    "# 求出每个学生是否完成了纳米学位所有项目，完成的用1表示，未完成用0表示\n",
    "df_users['completed'] = df_users.projects_completed.map(lambda x:1 if x==8 else 0)\n",
    "df_users.head(3)"
   ]
  },
  {
   "cell_type": "markdown",
   "metadata": {},
   "source": [
    "现在各属性变量的含义变成如下：\n",
    "\n",
    "- acct：学生编号\n",
    "- num_courses_visited：指定学生在整个课程期间，参与总次数\n",
    "- num_courses_visited：指定学生在整个课程期间，学习总时长\n",
    "- lessons_completed：指定学生在整个课程期间，完成的课程总节数\n",
    "- projects_completed：指定学生在整个课程期间，完成的项目总数\n",
    "- actived：指定学生在整个课程期间，参与的总天数\n",
    "- completed：指定学生，是否完成了整个纳米学位"
   ]
  },
  {
   "cell_type": "code",
   "execution_count": 40,
   "metadata": {
    "collapsed": true
   },
   "outputs": [],
   "source": [
    "# 将数据进行保存\n",
    "df_users.to_csv('users.csv')"
   ]
  },
  {
   "cell_type": "markdown",
   "metadata": {},
   "source": [
    "### 3. 将数据粒度为每天参与情况转换成每天学生总体情况"
   ]
  },
  {
   "cell_type": "code",
   "execution_count": 30,
   "metadata": {},
   "outputs": [
    {
     "data": {
      "text/html": [
       "<div>\n",
       "<style>\n",
       "    .dataframe thead tr:only-child th {\n",
       "        text-align: right;\n",
       "    }\n",
       "\n",
       "    .dataframe thead th {\n",
       "        text-align: left;\n",
       "    }\n",
       "\n",
       "    .dataframe tbody tr th {\n",
       "        vertical-align: top;\n",
       "    }\n",
       "</style>\n",
       "<table border=\"1\" class=\"dataframe\">\n",
       "  <thead>\n",
       "    <tr style=\"text-align: right;\">\n",
       "      <th></th>\n",
       "      <th>acct</th>\n",
       "      <th>num_courses_visited</th>\n",
       "      <th>total_minutes_visited</th>\n",
       "      <th>lessons_completed</th>\n",
       "      <th>projects_completed</th>\n",
       "      <th>actived</th>\n",
       "    </tr>\n",
       "    <tr>\n",
       "      <th>utc_date</th>\n",
       "      <th></th>\n",
       "      <th></th>\n",
       "      <th></th>\n",
       "      <th></th>\n",
       "      <th></th>\n",
       "      <th></th>\n",
       "    </tr>\n",
       "  </thead>\n",
       "  <tbody>\n",
       "    <tr>\n",
       "      <th>2015-08-23</th>\n",
       "      <td>306279</td>\n",
       "      <td>84</td>\n",
       "      <td>3329.098362</td>\n",
       "      <td>15</td>\n",
       "      <td>0</td>\n",
       "      <td>83</td>\n",
       "    </tr>\n",
       "    <tr>\n",
       "      <th>2015-08-24</th>\n",
       "      <td>303495</td>\n",
       "      <td>111</td>\n",
       "      <td>3769.397642</td>\n",
       "      <td>16</td>\n",
       "      <td>0</td>\n",
       "      <td>101</td>\n",
       "    </tr>\n",
       "    <tr>\n",
       "      <th>2015-08-25</th>\n",
       "      <td>302691</td>\n",
       "      <td>122</td>\n",
       "      <td>3569.667236</td>\n",
       "      <td>17</td>\n",
       "      <td>0</td>\n",
       "      <td>113</td>\n",
       "    </tr>\n",
       "    <tr>\n",
       "      <th>2015-08-26</th>\n",
       "      <td>301090</td>\n",
       "      <td>153</td>\n",
       "      <td>8364.445907</td>\n",
       "      <td>38</td>\n",
       "      <td>0</td>\n",
       "      <td>128</td>\n",
       "    </tr>\n",
       "    <tr>\n",
       "      <th>2015-08-27</th>\n",
       "      <td>298599</td>\n",
       "      <td>106</td>\n",
       "      <td>5576.232321</td>\n",
       "      <td>34</td>\n",
       "      <td>0</td>\n",
       "      <td>88</td>\n",
       "    </tr>\n",
       "  </tbody>\n",
       "</table>\n",
       "</div>"
      ],
      "text/plain": [
       "              acct  num_courses_visited  total_minutes_visited  \\\n",
       "utc_date                                                         \n",
       "2015-08-23  306279                   84            3329.098362   \n",
       "2015-08-24  303495                  111            3769.397642   \n",
       "2015-08-25  302691                  122            3569.667236   \n",
       "2015-08-26  301090                  153            8364.445907   \n",
       "2015-08-27  298599                  106            5576.232321   \n",
       "\n",
       "            lessons_completed  projects_completed  actived  \n",
       "utc_date                                                    \n",
       "2015-08-23                 15                   0       83  \n",
       "2015-08-24                 16                   0      101  \n",
       "2015-08-25                 17                   0      113  \n",
       "2015-08-26                 38                   0      128  \n",
       "2015-08-27                 34                   0       88  "
      ]
     },
     "execution_count": 30,
     "metadata": {},
     "output_type": "execute_result"
    }
   ],
   "source": [
    "df_date = df.groupby('utc_date').sum()\n",
    "df_date.tail()"
   ]
  },
  {
   "cell_type": "code",
   "execution_count": null,
   "metadata": {
    "collapsed": true
   },
   "outputs": [],
   "source": [
    "# 由于“acct”在这里是这一天参与的所有学生编号的总和，没有什么实际意义，因此进行删除\n",
    "df_date.drop('acct',axis=1,inplace=True)"
   ]
  },
  {
   "cell_type": "markdown",
   "metadata": {},
   "source": [
    "现在各属性变量的含义变成如下：\n",
    "\n",
    "- utc_date：学生参与课程的时间\n",
    "- num_courses_visited：这一天，学生参与总次数\n",
    "- total_minutes_visited：这一天，学生学习总时长\n",
    "- lessons_completed：这一天，学生完成的课程总节数\n",
    "- projects_completed：这一天，学生完成的项目总数\n",
    "- actived：这一天，学习课程的学生总数"
   ]
  },
  {
   "cell_type": "code",
   "execution_count": 50,
   "metadata": {
    "collapsed": true
   },
   "outputs": [],
   "source": [
    "# 将数据进行保存\n",
    "df_date.to_csv('date.csv')"
   ]
  },
  {
   "cell_type": "markdown",
   "metadata": {},
   "source": [
    "## 数据分析\n",
    "主要从以下方面进行分析：\n",
    "\n",
    "1. 报名却未参加课程，只参加过一次课程的学生占比？找出首次课程流失率。\n",
    "2. 课程上过两次及以上的学生平均课程访问数，平均花费时间，平均课程完成数，平均项目完成数，平均登录天数是多少？\n",
    "3. 每次访问课程平均学习时间？登录的每天平均学习的时间？\n",
    "4. 完成一节课程需要花费的平均时间？\n",
    "5. 完成不同项目个数的学生所占的比例？\n",
    "6. 完成至少一个项目的学生与一个项目都无法完成的学生有什么区别？\n",
    "7. 随着时间推移，学生在学习上的惰性是否越来越大？（从学习时间，课程访问次数，活跃天数来判断）\n",
    "8. 课程及项目完成数的变化趋势怎样？\n",
    "9. 课程难度如何？（完成课程所花时间的变化趋势）\n",
    "10. 能坚持学习到最后的学生有什么特点？（每次登录学习时长的变化趋势）"
   ]
  },
  {
   "cell_type": "code",
   "execution_count": 68,
   "metadata": {},
   "outputs": [
    {
     "data": {
      "text/html": [
       "<div>\n",
       "<style>\n",
       "    .dataframe thead tr:only-child th {\n",
       "        text-align: right;\n",
       "    }\n",
       "\n",
       "    .dataframe thead th {\n",
       "        text-align: left;\n",
       "    }\n",
       "\n",
       "    .dataframe tbody tr th {\n",
       "        vertical-align: top;\n",
       "    }\n",
       "</style>\n",
       "<table border=\"1\" class=\"dataframe\">\n",
       "  <thead>\n",
       "    <tr style=\"text-align: right;\">\n",
       "      <th></th>\n",
       "      <th>acct</th>\n",
       "      <th>num_courses_visited</th>\n",
       "      <th>total_minutes_visited</th>\n",
       "      <th>lessons_completed</th>\n",
       "      <th>projects_completed</th>\n",
       "      <th>actived</th>\n",
       "      <th>completed</th>\n",
       "    </tr>\n",
       "  </thead>\n",
       "  <tbody>\n",
       "    <tr>\n",
       "      <th>0</th>\n",
       "      <td>0</td>\n",
       "      <td>108</td>\n",
       "      <td>7605.371411</td>\n",
       "      <td>40</td>\n",
       "      <td>2</td>\n",
       "      <td>88</td>\n",
       "      <td>0</td>\n",
       "    </tr>\n",
       "    <tr>\n",
       "      <th>1</th>\n",
       "      <td>1</td>\n",
       "      <td>52</td>\n",
       "      <td>4296.244476</td>\n",
       "      <td>23</td>\n",
       "      <td>0</td>\n",
       "      <td>36</td>\n",
       "      <td>0</td>\n",
       "    </tr>\n",
       "    <tr>\n",
       "      <th>2</th>\n",
       "      <td>2</td>\n",
       "      <td>39</td>\n",
       "      <td>2977.430045</td>\n",
       "      <td>9</td>\n",
       "      <td>0</td>\n",
       "      <td>29</td>\n",
       "      <td>0</td>\n",
       "    </tr>\n",
       "    <tr>\n",
       "      <th>3</th>\n",
       "      <td>3</td>\n",
       "      <td>59</td>\n",
       "      <td>4422.018919</td>\n",
       "      <td>42</td>\n",
       "      <td>2</td>\n",
       "      <td>50</td>\n",
       "      <td>0</td>\n",
       "    </tr>\n",
       "    <tr>\n",
       "      <th>4</th>\n",
       "      <td>4</td>\n",
       "      <td>40</td>\n",
       "      <td>3722.648850</td>\n",
       "      <td>18</td>\n",
       "      <td>0</td>\n",
       "      <td>35</td>\n",
       "      <td>0</td>\n",
       "    </tr>\n",
       "  </tbody>\n",
       "</table>\n",
       "</div>"
      ],
      "text/plain": [
       "  acct  num_courses_visited  total_minutes_visited  lessons_completed  \\\n",
       "0    0                  108            7605.371411                 40   \n",
       "1    1                   52            4296.244476                 23   \n",
       "2    2                   39            2977.430045                  9   \n",
       "3    3                   59            4422.018919                 42   \n",
       "4    4                   40            3722.648850                 18   \n",
       "\n",
       "   projects_completed  actived  completed  \n",
       "0                   2       88          0  \n",
       "1                   0       36          0  \n",
       "2                   0       29          0  \n",
       "3                   2       50          0  \n",
       "4                   0       35          0  "
      ]
     },
     "execution_count": 68,
     "metadata": {},
     "output_type": "execute_result"
    }
   ],
   "source": [
    "df_users = pd.read_csv('users.csv',dtype={'acct': str})\n",
    "df_users.head()"
   ]
  },
  {
   "cell_type": "markdown",
   "metadata": {},
   "source": [
    "##### 画出散布矩阵图，来观察各属性变量的分布情况，以及两两间的关系"
   ]
  },
  {
   "cell_type": "code",
   "execution_count": 136,
   "metadata": {},
   "outputs": [
    {
     "data": {
      "text/plain": [
       "<seaborn.axisgrid.PairGrid at 0x1a1dc362b0>"
      ]
     },
     "execution_count": 136,
     "metadata": {},
     "output_type": "execute_result"
    },
    {
     "data": {
      "image/png": "[encoded data removed]",
      "text/plain": [
       "<matplotlib.figure.Figure at 0x1a1dc366a0>"
      ]
     },
     "metadata": {},
     "output_type": "display_data"
    }
   ],
   "source": [
    "sns.pairplot(df_users[['num_courses_visited','total_minutes_visited','lessons_completed','projects_completed','actived']], diag_kind = 'kde') "
   ]
  },
  {
   "cell_type": "markdown",
   "metadata": {},
   "source": [
    "各属性变量呈严重偏态分布。\n",
    "\n",
    "#### 观察数据的描述统计情况"
   ]
  },
  {
   "cell_type": "code",
   "execution_count": 77,
   "metadata": {},
   "outputs": [
    {
     "data": {
      "text/html": [
       "<div>\n",
       "<style>\n",
       "    .dataframe thead tr:only-child th {\n",
       "        text-align: right;\n",
       "    }\n",
       "\n",
       "    .dataframe thead th {\n",
       "        text-align: left;\n",
       "    }\n",
       "\n",
       "    .dataframe tbody tr th {\n",
       "        vertical-align: top;\n",
       "    }\n",
       "</style>\n",
       "<table border=\"1\" class=\"dataframe\">\n",
       "  <thead>\n",
       "    <tr style=\"text-align: right;\">\n",
       "      <th></th>\n",
       "      <th>num_courses_visited</th>\n",
       "      <th>total_minutes_visited</th>\n",
       "      <th>lessons_completed</th>\n",
       "      <th>projects_completed</th>\n",
       "      <th>actived</th>\n",
       "      <th>completed</th>\n",
       "    </tr>\n",
       "  </thead>\n",
       "  <tbody>\n",
       "    <tr>\n",
       "      <th>count</th>\n",
       "      <td>1237.000000</td>\n",
       "      <td>1237.000000</td>\n",
       "      <td>1237.000000</td>\n",
       "      <td>1237.000000</td>\n",
       "      <td>1237.000000</td>\n",
       "      <td>1237.000000</td>\n",
       "    </tr>\n",
       "    <tr>\n",
       "      <th>mean</th>\n",
       "      <td>37.563460</td>\n",
       "      <td>2704.058907</td>\n",
       "      <td>14.185125</td>\n",
       "      <td>0.741310</td>\n",
       "      <td>30.202102</td>\n",
       "      <td>0.000808</td>\n",
       "    </tr>\n",
       "    <tr>\n",
       "      <th>std</th>\n",
       "      <td>39.973841</td>\n",
       "      <td>3145.365214</td>\n",
       "      <td>16.023663</td>\n",
       "      <td>1.397877</td>\n",
       "      <td>32.577484</td>\n",
       "      <td>0.028433</td>\n",
       "    </tr>\n",
       "    <tr>\n",
       "      <th>min</th>\n",
       "      <td>0.000000</td>\n",
       "      <td>0.000000</td>\n",
       "      <td>0.000000</td>\n",
       "      <td>0.000000</td>\n",
       "      <td>0.000000</td>\n",
       "      <td>0.000000</td>\n",
       "    </tr>\n",
       "    <tr>\n",
       "      <th>25%</th>\n",
       "      <td>3.000000</td>\n",
       "      <td>91.728408</td>\n",
       "      <td>0.000000</td>\n",
       "      <td>0.000000</td>\n",
       "      <td>2.000000</td>\n",
       "      <td>0.000000</td>\n",
       "    </tr>\n",
       "    <tr>\n",
       "      <th>50%</th>\n",
       "      <td>27.000000</td>\n",
       "      <td>1710.297981</td>\n",
       "      <td>9.000000</td>\n",
       "      <td>0.000000</td>\n",
       "      <td>20.000000</td>\n",
       "      <td>0.000000</td>\n",
       "    </tr>\n",
       "    <tr>\n",
       "      <th>75%</th>\n",
       "      <td>60.000000</td>\n",
       "      <td>4437.928592</td>\n",
       "      <td>23.000000</td>\n",
       "      <td>1.000000</td>\n",
       "      <td>49.000000</td>\n",
       "      <td>0.000000</td>\n",
       "    </tr>\n",
       "    <tr>\n",
       "      <th>max</th>\n",
       "      <td>231.000000</td>\n",
       "      <td>25114.224586</td>\n",
       "      <td>75.000000</td>\n",
       "      <td>8.000000</td>\n",
       "      <td>171.000000</td>\n",
       "      <td>1.000000</td>\n",
       "    </tr>\n",
       "  </tbody>\n",
       "</table>\n",
       "</div>"
      ],
      "text/plain": [
       "       num_courses_visited  total_minutes_visited  lessons_completed  \\\n",
       "count          1237.000000            1237.000000        1237.000000   \n",
       "mean             37.563460            2704.058907          14.185125   \n",
       "std              39.973841            3145.365214          16.023663   \n",
       "min               0.000000               0.000000           0.000000   \n",
       "25%               3.000000              91.728408           0.000000   \n",
       "50%              27.000000            1710.297981           9.000000   \n",
       "75%              60.000000            4437.928592          23.000000   \n",
       "max             231.000000           25114.224586          75.000000   \n",
       "\n",
       "       projects_completed      actived    completed  \n",
       "count         1237.000000  1237.000000  1237.000000  \n",
       "mean             0.741310    30.202102     0.000808  \n",
       "std              1.397877    32.577484     0.028433  \n",
       "min              0.000000     0.000000     0.000000  \n",
       "25%              0.000000     2.000000     0.000000  \n",
       "50%              0.000000    20.000000     0.000000  \n",
       "75%              1.000000    49.000000     0.000000  \n",
       "max              8.000000   171.000000     1.000000  "
      ]
     },
     "execution_count": 77,
     "metadata": {},
     "output_type": "execute_result"
    }
   ],
   "source": [
    "df_users.describe()"
   ]
  },
  {
   "cell_type": "code",
   "execution_count": 131,
   "metadata": {},
   "outputs": [
    {
     "data": {
      "text/plain": [
       "69"
      ]
     },
     "metadata": {},
     "output_type": "display_data"
    },
    {
     "data": {
      "text/plain": [
       "69"
      ]
     },
     "metadata": {},
     "output_type": "display_data"
    },
    {
     "data": {
      "text/plain": [
       "69"
      ]
     },
     "metadata": {},
     "output_type": "display_data"
    }
   ],
   "source": [
    "# 检查是否有异常值\n",
    "display(df_users[df_users.num_courses_visited==0].shape[0])\n",
    "display(df_users[df_users.total_minutes_visited==0].shape[0])\n",
    "display(df_users[df_users.actived==0].shape[0])"
   ]
  },
  {
   "cell_type": "markdown",
   "metadata": {},
   "source": [
    "数据中存在‘num_courses_visited’为0的情况，也就是说有学生学习课程的次数为0，这部分的学生是报了名，但是未进行学习的学生。\n",
    "\n",
    "通过检查学习次数为0的人数与学习时间为0的人数相同，同时也与参加天数为0的人数相同，因此判断这部分数据没有异常。"
   ]
  },
  {
   "cell_type": "code",
   "execution_count": 126,
   "metadata": {},
   "outputs": [
    {
     "name": "stdout",
     "output_type": "stream",
     "text": [
      "一次都没有上过课的人数为：69\n",
      "占总人数的5.58%\n"
     ]
    }
   ],
   "source": [
    "# 查看‘num_courses_visited’为0的数据\n",
    "print('一次都没有上过课的人数为：{}'.format(df_users[df_users.num_courses_visited==0].shape[0]))\n",
    "print('占总人数的{:.2%}'.format(df_users[df_users.num_courses_visited==0].shape[0] / df_users.shape[0]))"
   ]
  },
  {
   "cell_type": "code",
   "execution_count": 135,
   "metadata": {},
   "outputs": [
    {
     "name": "stdout",
     "output_type": "stream",
     "text": [
      "只试听过一次课的人数为：126\n",
      "占总人数的10.19%\n"
     ]
    }
   ],
   "source": [
    "# 查看‘num_courses_visited’为1的数据\n",
    "print('只试听过一次课的人数为：{}'.format(df_users[df_users.num_courses_visited==1].shape[0]))\n",
    "print('占总人数的{:.2%}'.format(df_users[df_users.num_courses_visited==1].shape[0] / df_users.shape[0]))"
   ]
  },
  {
   "cell_type": "markdown",
   "metadata": {},
   "source": [
    "### 1.  报名却未参加课程，只参加过一次课程, 参加过两次以上课程的学生占总学生的比例\n",
    "![png](./pics/01.png)"
   ]
  },
  {
   "cell_type": "markdown",
   "metadata": {},
   "source": [
    "** 分析： **\n",
    "\n",
    "学生平均上课次数为37次，但这里面包括了一次都没参加课程的学生和只试听过一次课的学生。\n",
    "\n",
    "有5.58%的学生只是报名，但是不会参与课程；有10.19%的学生在试听过第一次课之后就放弃继续学习这门课；有84.24的学生会参与两次及以上课程。\n",
    "\n",
    "这门课程首节课的吸引程度还不够，在第一节就失去了10%左右的学生，因此可以通过提高首节课的质量来吸引更多学生。"
   ]
  },
  {
   "cell_type": "markdown",
   "metadata": {},
   "source": [
    "### 2. 课程上过两次及以上的学生平均课程访问数，平均花费时间，平均课程完成数，平均项目完成数，平均登录天数如何？\n",
    "#### 筛选出参加课程2次及以上的学生\n"
   ]
  },
  {
   "cell_type": "code",
   "execution_count": 137,
   "metadata": {},
   "outputs": [
    {
     "data": {
      "text/plain": [
       "1042"
      ]
     },
     "execution_count": 137,
     "metadata": {},
     "output_type": "execute_result"
    }
   ],
   "source": [
    "df_users = df_users[df_users.num_courses_visited>1]\n",
    "df_users.shape[0]"
   ]
  },
  {
   "cell_type": "code",
   "execution_count": 138,
   "metadata": {},
   "outputs": [
    {
     "data": {
      "text/html": [
       "<div>\n",
       "<style>\n",
       "    .dataframe thead tr:only-child th {\n",
       "        text-align: right;\n",
       "    }\n",
       "\n",
       "    .dataframe thead th {\n",
       "        text-align: left;\n",
       "    }\n",
       "\n",
       "    .dataframe tbody tr th {\n",
       "        vertical-align: top;\n",
       "    }\n",
       "</style>\n",
       "<table border=\"1\" class=\"dataframe\">\n",
       "  <thead>\n",
       "    <tr style=\"text-align: right;\">\n",
       "      <th></th>\n",
       "      <th>num_courses_visited</th>\n",
       "      <th>total_minutes_visited</th>\n",
       "      <th>lessons_completed</th>\n",
       "      <th>projects_completed</th>\n",
       "      <th>actived</th>\n",
       "      <th>completed</th>\n",
       "    </tr>\n",
       "  </thead>\n",
       "  <tbody>\n",
       "    <tr>\n",
       "      <th>count</th>\n",
       "      <td>1042.000000</td>\n",
       "      <td>1042.000000</td>\n",
       "      <td>1042.000000</td>\n",
       "      <td>1042.000000</td>\n",
       "      <td>1042.000000</td>\n",
       "      <td>1042.000000</td>\n",
       "    </tr>\n",
       "    <tr>\n",
       "      <th>mean</th>\n",
       "      <td>44.472169</td>\n",
       "      <td>3206.985829</td>\n",
       "      <td>16.833013</td>\n",
       "      <td>0.880038</td>\n",
       "      <td>35.733205</td>\n",
       "      <td>0.000960</td>\n",
       "    </tr>\n",
       "    <tr>\n",
       "      <th>std</th>\n",
       "      <td>39.926345</td>\n",
       "      <td>3184.388645</td>\n",
       "      <td>16.134668</td>\n",
       "      <td>1.482529</td>\n",
       "      <td>32.646505</td>\n",
       "      <td>0.030979</td>\n",
       "    </tr>\n",
       "    <tr>\n",
       "      <th>min</th>\n",
       "      <td>2.000000</td>\n",
       "      <td>4.372465</td>\n",
       "      <td>0.000000</td>\n",
       "      <td>0.000000</td>\n",
       "      <td>1.000000</td>\n",
       "      <td>0.000000</td>\n",
       "    </tr>\n",
       "    <tr>\n",
       "      <th>25%</th>\n",
       "      <td>9.000000</td>\n",
       "      <td>452.975181</td>\n",
       "      <td>2.000000</td>\n",
       "      <td>0.000000</td>\n",
       "      <td>7.000000</td>\n",
       "      <td>0.000000</td>\n",
       "    </tr>\n",
       "    <tr>\n",
       "      <th>50%</th>\n",
       "      <td>36.000000</td>\n",
       "      <td>2375.892921</td>\n",
       "      <td>13.000000</td>\n",
       "      <td>0.000000</td>\n",
       "      <td>28.000000</td>\n",
       "      <td>0.000000</td>\n",
       "    </tr>\n",
       "    <tr>\n",
       "      <th>75%</th>\n",
       "      <td>68.750000</td>\n",
       "      <td>5029.024128</td>\n",
       "      <td>27.000000</td>\n",
       "      <td>1.000000</td>\n",
       "      <td>54.000000</td>\n",
       "      <td>0.000000</td>\n",
       "    </tr>\n",
       "    <tr>\n",
       "      <th>max</th>\n",
       "      <td>231.000000</td>\n",
       "      <td>25114.224586</td>\n",
       "      <td>75.000000</td>\n",
       "      <td>8.000000</td>\n",
       "      <td>171.000000</td>\n",
       "      <td>1.000000</td>\n",
       "    </tr>\n",
       "  </tbody>\n",
       "</table>\n",
       "</div>"
      ],
      "text/plain": [
       "       num_courses_visited  total_minutes_visited  lessons_completed  \\\n",
       "count          1042.000000            1042.000000        1042.000000   \n",
       "mean             44.472169            3206.985829          16.833013   \n",
       "std              39.926345            3184.388645          16.134668   \n",
       "min               2.000000               4.372465           0.000000   \n",
       "25%               9.000000             452.975181           2.000000   \n",
       "50%              36.000000            2375.892921          13.000000   \n",
       "75%              68.750000            5029.024128          27.000000   \n",
       "max             231.000000           25114.224586          75.000000   \n",
       "\n",
       "       projects_completed      actived    completed  \n",
       "count         1042.000000  1042.000000  1042.000000  \n",
       "mean             0.880038    35.733205     0.000960  \n",
       "std              1.482529    32.646505     0.030979  \n",
       "min              0.000000     1.000000     0.000000  \n",
       "25%              0.000000     7.000000     0.000000  \n",
       "50%              0.000000    28.000000     0.000000  \n",
       "75%              1.000000    54.000000     0.000000  \n",
       "max              8.000000   171.000000     1.000000  "
      ]
     },
     "execution_count": 138,
     "metadata": {},
     "output_type": "execute_result"
    }
   ],
   "source": [
    "df_users.describe()"
   ]
  },
  {
   "cell_type": "markdown",
   "metadata": {},
   "source": [
    "** 分析 **\n",
    "\n",
    "平均课程访问次数约为44，平均花费时间约3206分钟，平均课程完成约17节，平均项目完成约1个(实际0.88个)，平均登录天数约为36天。\n",
    "\n",
    "整个课程为295天，但是平均登录天数只有36天，大部分学生一个项目都无法完成，可见能坚持到最后的学生非常少，督促学生持续学习非常重要。"
   ]
  },
  {
   "cell_type": "markdown",
   "metadata": {},
   "source": [
    "### 3. 每次访问课程平均学习时间？登录的每天平均学习的时间？"
   ]
  },
  {
   "cell_type": "code",
   "execution_count": 148,
   "metadata": {},
   "outputs": [
    {
     "name": "stdout",
     "output_type": "stream",
     "text": [
      "平均每次访问课程学习的时间为：72.11\n",
      "登录的每天平均学习的时间为：89.75\n"
     ]
    }
   ],
   "source": [
    "print('平均每次访问课程学习的时间为：{:.2f}'.format(df_users.total_minutes_visited.sum() / df_users.num_courses_visited.sum()))\n",
    "print('登录的每天平均学习的时间为：{:.2f}'.format(df_users.total_minutes_visited.sum() / df_users.actived.sum()))"
   ]
  },
  {
   "cell_type": "markdown",
   "metadata": {},
   "source": [
    "** 分析 **\n",
    "\n",
    "从平均每次访问课程学习的时间，以及登录的每天平均学习的时间来看，说明学生只要当天访问了课程，进行学习的时间并不少均大于1个小时，可见并非因为课程非常枯燥，结合前面的分析结果——参与度不足。可以采取社群交流，定时督促等手段帮助学生提高学习的频率。"
   ]
  },
  {
   "cell_type": "markdown",
   "metadata": {},
   "source": [
    "### 4. 完成一节课程需要花费的平均时间？"
   ]
  },
  {
   "cell_type": "code",
   "execution_count": 149,
   "metadata": {},
   "outputs": [
    {
     "name": "stdout",
     "output_type": "stream",
     "text": [
      "完成一节课程需要花费的平均时间为：190.52\n"
     ]
    }
   ],
   "source": [
    "print('完成一节课程需要花费的平均时间为：{:.2f}'.format(df_users.total_minutes_visited.sum() / df_users.lessons_completed.sum()))"
   ]
  },
  {
   "cell_type": "markdown",
   "metadata": {},
   "source": [
    "** 分析 **\n",
    "\n",
    "一节课需要190多分钟，这个时间是有些长了，说明对于大部分学生来说，一个内容需要反复多看几次才能理解，课程难度对于大部分学生来说是有些难的，可以稍微降低课程难度或为学生补充更多的基础知识。"
   ]
  },
  {
   "cell_type": "markdown",
   "metadata": {},
   "source": [
    "### 5. 完成不同项目个数的学生所占的比例？\n",
    "\n",
    "![png](./pics/02.png)\n",
    "![png](./pics/03.png)"
   ]
  },
  {
   "cell_type": "markdown",
   "metadata": {},
   "source": [
    "** 分析 **\n",
    "\n",
    "近65%的学生连一个项目都无法完成。而在完成至少一个项目的学生中仅仅有0.27%的人完成了所有的8个项目。完成率非常低，一方面是由于项目确实有一定难度，另一方面是由于随着时间推移，人的惰性越来越大。\n",
    "\n",
    "从第一个项目到第二个项目，完成的学生减少了%4～5%；第二到第三个项目减少了7%～8%；第三个项目到第四个项目减少了8%～9%；第四到第五个项目减少了7%～8%；第五到第六个项目反而上升了5%～6%；完成了第七个项目的学生都完成了第八个。说明第3，4，5，7这几个项目都是比较难的，第七个项目也许与第8个项目有很大的相关性。对于这种情况，也许能通过降低项目难度来提高学生的积极性。"
   ]
  },
  {
   "cell_type": "markdown",
   "metadata": {},
   "source": [
    "### 6. 完成至少一个项目的学生与一个项目都无法完成的学生有什么区别？\n",
    "\n",
    "![png](./pics/04.png)"
   ]
  },
  {
   "cell_type": "markdown",
   "metadata": {},
   "source": [
    "** 分析 **\n",
    "\n",
    "从上图中可以看到，完成一个以上项目的学生无论从总学习时间，访问次数，还是活跃天数都远远大于未能完成任何项目的学生。\n",
    "\n",
    "因此提高总学习时间，访问次数，以及活跃天数是提高项目完成度的关键因素。\n"
   ]
  },
  {
   "cell_type": "markdown",
   "metadata": {
    "collapsed": true
   },
   "source": [
    "### 7. 随着时间推移，学生在学习上的惰性是否越来越大？\n",
    "\n",
    "![png](./pics/05.png)\n",
    "\n",
    "** 分析 **\n",
    "\n",
    "从图中可以观察到学习时间，课程访问次数，活跃天数呈现较一致的趋势，它们并非随着时间的推移而减少。这证明了大部分学生并非因为惰性越来越大而无法完成任务，同时也说明随着课程学习的深入，内容上对学生来说还是比较有吸引力的。那么影响学生不能完成任务的因素很可能是课程太难或者项目太难。\n"
   ]
  },
  {
   "cell_type": "markdown",
   "metadata": {
    "collapsed": true
   },
   "source": [
    "### 8. 课程及项目完成数量的变化趋势怎样？\n",
    "\n",
    "![png](./pics/06.png)\n",
    "\n",
    "** 分析 **\n",
    "\n",
    "课程的完成数量与学生的积极程度呈现较一致的趋势。可见花的时间越多，课程的完成数量就越多。\n",
    "\n",
    "项目完成数在4月份达到了最高值，经过了一定时间的积累学生们逐渐完成了第一个项目，然而4月份之后开始下降，说明对大部分学生来说项目过难或是没有吸引力，这也是学生无法完成任务的主要原因。"
   ]
  },
  {
   "cell_type": "markdown",
   "metadata": {
    "collapsed": true
   },
   "source": [
    "### 9. 课程难度如何？\n",
    "![png](./pics/07.png)\n",
    "\n",
    "** 分析 **\n",
    "\n",
    "完成课程所花的时间虽然有一定波动，但并没有呈现明显的升高或降低的趋势，说明对学生而言，课程并没有越来越难或越来越容易。\n",
    "\n"
   ]
  },
  {
   "cell_type": "markdown",
   "metadata": {},
   "source": [
    "### 10. 能坚持学习到最后的学生有什么特点？\n",
    "\n",
    "![png](./pics/08.png)\n",
    "\n",
    "** 分析 **\n",
    "\n",
    "”平均每次登录的学习时间“这部分统计的是登录课程进行学习的学生，结合之前的观察，在课程最后一个月，总体学习的时间在下降，但是这部分学生反而比以往更加努力。说明大部分学生因为无法完成项目而在最后阶段放弃了学习，但是能继续坚持到最后的学生反而比以往花费更多时间学习。所以在最后一个月可以采取不同于以往的鼓励措施帮助学生坚持学习。"
   ]
  },
  {
   "cell_type": "markdown",
   "metadata": {},
   "source": [
    "## 总结及建议\n",
    "1. 听完第一节课后流失了10%左右的学生，可以通过提高首节课的质量来吸引更多学生。\n",
    "2. 学生总体的积极性不高（平均访问课程天数只有36天），因此平常要对学生加以督促，可以采取社群交流，定时督促等手段帮助学生提高学习的频率。\n",
    "3. 学生每次登录课程后的学习时间均大于1小时，说明课程并非特别枯燥。\n",
    "4. 学生完成一节课需要花费的时间较多，说明对于大部分学生来说，一个内容需要反复多看几次才能理解，课程难度对于大部分学生来说偏难，可以稍微降低课程难度或为学生补充更多的基础知识。\n",
    "5. 对于学生来说比较难的项目有：3，4，5，7，对于这种情况，也许能通过降低项目难度来提高学生的积极性。\n",
    "6. 因此提高总学习时间，访问次数，以及活跃天数是提高项目完成度的关键因素。\n",
    "7. 学员的积极性并不会随着时间的推移而有所降低。\n",
    "8. 完成课程所花的时间虽然有一定波动，但并没有呈现明显的升高或降低的趋势，说明对学生而言，课程并没有越来越难或越来越容易。\n",
    "9. 积极性越高，课程完成数就越多，但学完课程不一定能完成项目。\n",
    "10. 坚持学到最后的学生，在最后阶段有更高的积极性。"
   ]
  }
 ],
 "metadata": {
  "kernelspec": {
   "display_name": "Python 3",
   "language": "python",
   "name": "python3"
  },
  "language_info": {
   "codemirror_mode": {
    "name": "ipython",
    "version": 3
   },
   "file_extension": ".py",
   "mimetype": "text/x-python",
   "name": "python",
   "nbconvert_exporter": "python",
   "pygments_lexer": "ipython3",
   "version": "3.6.3"
  }
 },
 "nbformat": 4,
 "nbformat_minor": 2
}
